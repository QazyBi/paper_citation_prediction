{
  "nbformat": 4,
  "nbformat_minor": 0,
  "metadata": {
    "colab": {
      "name": "model.ipynb",
      "provenance": [],
      "collapsed_sections": []
    },
    "kernelspec": {
      "display_name": "Python 3",
      "name": "python3"
    },
    "language_info": {
      "name": "python"
    }
  },
  "cells": [
    {
      "cell_type": "code",
      "metadata": {
        "colab": {
          "base_uri": "https://localhost:8080/"
        },
        "id": "0UhZaRLkI83k",
        "outputId": "ddf502cc-b848-4a8c-e855-6303dbe10b77"
      },
      "source": [
        "!pip install catboost"
      ],
      "execution_count": null,
      "outputs": [
        {
          "output_type": "stream",
          "text": [
            "Collecting catboost\n",
            "\u001b[?25l  Downloading https://files.pythonhosted.org/packages/5a/41/24e14322b9986cf72a8763e0a0a69cc256cf963cf9502c8f0044a62c1ae8/catboost-0.26-cp37-none-manylinux1_x86_64.whl (69.2MB)\n",
            "\u001b[K     |████████████████████████████████| 69.2MB 41kB/s \n",
            "\u001b[?25hRequirement already satisfied: numpy>=1.16.0 in /usr/local/lib/python3.7/dist-packages (from catboost) (1.19.5)\n",
            "Requirement already satisfied: graphviz in /usr/local/lib/python3.7/dist-packages (from catboost) (0.10.1)\n",
            "Requirement already satisfied: pandas>=0.24.0 in /usr/local/lib/python3.7/dist-packages (from catboost) (1.1.5)\n",
            "Requirement already satisfied: scipy in /usr/local/lib/python3.7/dist-packages (from catboost) (1.4.1)\n",
            "Requirement already satisfied: six in /usr/local/lib/python3.7/dist-packages (from catboost) (1.15.0)\n",
            "Requirement already satisfied: plotly in /usr/local/lib/python3.7/dist-packages (from catboost) (4.4.1)\n",
            "Requirement already satisfied: matplotlib in /usr/local/lib/python3.7/dist-packages (from catboost) (3.2.2)\n",
            "Requirement already satisfied: python-dateutil>=2.7.3 in /usr/local/lib/python3.7/dist-packages (from pandas>=0.24.0->catboost) (2.8.1)\n",
            "Requirement already satisfied: pytz>=2017.2 in /usr/local/lib/python3.7/dist-packages (from pandas>=0.24.0->catboost) (2018.9)\n",
            "Requirement already satisfied: retrying>=1.3.3 in /usr/local/lib/python3.7/dist-packages (from plotly->catboost) (1.3.3)\n",
            "Requirement already satisfied: kiwisolver>=1.0.1 in /usr/local/lib/python3.7/dist-packages (from matplotlib->catboost) (1.3.1)\n",
            "Requirement already satisfied: cycler>=0.10 in /usr/local/lib/python3.7/dist-packages (from matplotlib->catboost) (0.10.0)\n",
            "Requirement already satisfied: pyparsing!=2.0.4,!=2.1.2,!=2.1.6,>=2.0.1 in /usr/local/lib/python3.7/dist-packages (from matplotlib->catboost) (2.4.7)\n",
            "Installing collected packages: catboost\n",
            "Successfully installed catboost-0.26\n"
          ],
          "name": "stdout"
        }
      ]
    },
    {
      "cell_type": "code",
      "metadata": {
        "id": "zlJ_h4jpIoLK"
      },
      "source": [
        "import pandas as pd\n",
        "from sklearn.model_selection import train_test_split\n",
        "from catboost import Pool, CatBoostRegressor\n",
        "from sklearn.metrics import r2_score\n",
        "import matplotlib.pyplot as plt\n",
        "import numpy as np\n",
        "import os"
      ],
      "execution_count": null,
      "outputs": []
    },
    {
      "cell_type": "code",
      "metadata": {
        "id": "nPffXZZtIosH"
      },
      "source": [
        "try:\n",
        "    corpus = pd.read_csv('corpus.csv', index_col='id')\n",
        "except FileNotFoundError:\n",
        "    if os.path.exists('drive'):\n",
        "        corpus_path = 'drive/MyDrive/project_sber/corpus.csv'\n",
        "\n",
        "        try:\n",
        "            corpus = pd.read_csv(corpus_path, index_col='id')\n",
        "        except:\n",
        "            print(\"No file(corpus.csv) in the google drive folder project sber\")"
      ],
      "execution_count": null,
      "outputs": []
    },
    {
      "cell_type": "code",
      "metadata": {
        "colab": {
          "base_uri": "https://localhost:8080/"
        },
        "id": "1Cd_KDwFF9cS",
        "outputId": "e9f47456-8ceb-431e-fa74-e98b10d910dd"
      },
      "source": [
        "values = {'venue': corpus['venue'].mode()[0],\n",
        "          'journalName': corpus['journalName'].mode()[0],\n",
        "          'fieldsOfStudy': corpus['fieldsOfStudy'].mode()[0]\n",
        "         }\n",
        "\n",
        "corpus.fillna(value=values,inplace=True)\n",
        "corpus.isna().sum()"
      ],
      "execution_count": null,
      "outputs": [
        {
          "output_type": "execute_result",
          "data": {
            "text/plain": [
              "recency                     0\n",
              "venue                       0\n",
              "journalName                 0\n",
              "fieldsOfStudy               0\n",
              "max_hindex                  0\n",
              "n_authors                   0\n",
              "title_len                   0\n",
              "abstract_len                0\n",
              "citations_n                 0\n",
              "venue_hindex                0\n",
              "venue_mean_cite             0\n",
              "avg_hindices                0\n",
              "sum_hindices                0\n",
              "ratio_hindex_paper_count    0\n",
              "topic_mean_cite             0\n",
              "prim_author_paper_count     0\n",
              "dtype: int64"
            ]
          },
          "metadata": {
            "tags": []
          },
          "execution_count": 19
        }
      ]
    },
    {
      "cell_type": "code",
      "metadata": {
        "colab": {
          "base_uri": "https://localhost:8080/"
        },
        "id": "QK4FaPlBK1DR",
        "outputId": "7f9642ac-ef0d-48b1-d348-c669f539530d"
      },
      "source": [
        "X.dtypes[X.dtypes == 'object']"
      ],
      "execution_count": null,
      "outputs": [
        {
          "output_type": "execute_result",
          "data": {
            "text/plain": [
              "id               object\n",
              "venue            object\n",
              "journalName      object\n",
              "fieldsOfStudy    object\n",
              "dtype: object"
            ]
          },
          "metadata": {
            "tags": []
          },
          "execution_count": 20
        }
      ]
    },
    {
      "cell_type": "markdown",
      "metadata": {
        "id": "a2LYY27Ia3R6"
      },
      "source": [
        "I have decide to consider only subset of articles as the heavy tail distribution is quite difficult to model"
      ]
    },
    {
      "cell_type": "code",
      "metadata": {
        "id": "IvNIk8OlYvMg"
      },
      "source": [
        "subset = corpus[corpus.citations_n < 10].copy()"
      ],
      "execution_count": 37,
      "outputs": []
    },
    {
      "cell_type": "code",
      "metadata": {
        "colab": {
          "base_uri": "https://localhost:8080/"
        },
        "id": "Rr57MA8wKqGf",
        "outputId": "d8510cef-7b3f-4c2d-c16d-dcec4e8fb756"
      },
      "source": [
        "y = subset['citations_n']\n",
        "X = subset.drop(columns=['citations_n'])\n",
        "\n",
        "# split data to 80% training and 20% testing\n",
        "X_train, X_test, y_train, y_test = train_test_split(X, y, test_size=0.2, random_state=42)\n",
        "\n",
        "cat_features = ['venue','journalName','fieldsOfStudy']\n",
        "\n",
        "train_pool = Pool(X_train, \n",
        "                  y_train, \n",
        "                  cat_features=cat_features)\n",
        "test_pool = Pool(X_test, \n",
        "                 cat_features=cat_features) \n",
        "\n",
        "model = CatBoostRegressor(loss_function='RMSE', eval_metric='R2')\n",
        "# train the model\n",
        "model.fit(train_pool, verbose=100)\n",
        "# make the prediction using the resulting model\n",
        "preds = model.predict(test_pool)\n",
        "preds"
      ],
      "execution_count": 38,
      "outputs": [
        {
          "output_type": "stream",
          "text": [
            "Learning rate set to 0.123164\n",
            "0:\tlearn: 0.1259290\ttotal: 644ms\tremaining: 10m 42s\n",
            "100:\tlearn: 0.6031070\ttotal: 46.8s\tremaining: 6m 56s\n",
            "200:\tlearn: 0.6088378\ttotal: 1m 32s\tremaining: 6m 6s\n",
            "300:\tlearn: 0.6120478\ttotal: 2m 15s\tremaining: 5m 15s\n",
            "400:\tlearn: 0.6144928\ttotal: 2m 59s\tremaining: 4m 28s\n",
            "500:\tlearn: 0.6163590\ttotal: 3m 43s\tremaining: 3m 42s\n",
            "600:\tlearn: 0.6180894\ttotal: 4m 27s\tremaining: 2m 57s\n",
            "700:\tlearn: 0.6194615\ttotal: 5m 12s\tremaining: 2m 13s\n",
            "800:\tlearn: 0.6207371\ttotal: 5m 58s\tremaining: 1m 29s\n",
            "900:\tlearn: 0.6221028\ttotal: 6m 41s\tremaining: 44.1s\n",
            "999:\tlearn: 0.6232761\ttotal: 7m 26s\tremaining: 0us\n"
          ],
          "name": "stdout"
        },
        {
          "output_type": "execute_result",
          "data": {
            "text/plain": [
              "array([-1.86586443e-03,  3.86709361e-02,  3.96148982e+00, ...,\n",
              "       -9.38948983e-03,  4.45797797e+00,  3.84574305e-03])"
            ]
          },
          "metadata": {
            "tags": []
          },
          "execution_count": 38
        }
      ]
    },
    {
      "cell_type": "code",
      "metadata": {
        "colab": {
          "base_uri": "https://localhost:8080/"
        },
        "id": "7GEpiR6fapdp",
        "outputId": "df2fce49-4914-4b42-ec28-f6a45ebd56c8"
      },
      "source": [
        "print(f\"r2_score: {r2_score(y_test, preds)}\")"
      ],
      "execution_count": 40,
      "outputs": [
        {
          "output_type": "stream",
          "text": [
            "r2_score: 0.6152481871672242\n"
          ],
          "name": "stdout"
        }
      ]
    },
    {
      "cell_type": "code",
      "metadata": {
        "id": "yRkzFaqhKu7A",
        "colab": {
          "base_uri": "https://localhost:8080/",
          "height": 543
        },
        "outputId": "720a6a38-66a5-4642-c70b-805f4e255984"
      },
      "source": [
        "fig, (ax1, ax2) = plt.subplots(1, 2, figsize=(10, 4))\n",
        "\n",
        "ax1.plot(y_test.value_counts() / len(y_test))\n",
        "ax2.plot(y_train.value_counts() / len(y_train))\n",
        "plt.show()\n",
        "\n",
        "\n",
        "features = corpus.columns\n",
        "importances = model.feature_importances_\n",
        "indices = np.argsort(importances)\n",
        "\n",
        "plt.title('Feature Importances')\n",
        "plt.barh(range(len(indices)), importances[indices], color='b', align='center')\n",
        "plt.yticks(range(len(indices)), [features[i] for i in indices])\n",
        "plt.xlabel('Relative Importance')\n",
        "plt.show()"
      ],
      "execution_count": 41,
      "outputs": [
        {
          "output_type": "display_data",
          "data": {
            "image/png": "[encoded data removed]",
            "text/plain": [
              "<Figure size 720x288 with 2 Axes>"
            ]
          },
          "metadata": {
            "tags": [],
            "needs_background": "light"
          }
        },
        {
          "output_type": "display_data",
          "data": {
            "image/png": "[encoded data removed]",
            "text/plain": [
              "<Figure size 432x288 with 1 Axes>"
            ]
          },
          "metadata": {
            "tags": [],
            "needs_background": "light"
          }
        }
      ]
    }
  ]
}