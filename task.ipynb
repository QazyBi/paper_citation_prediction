{
  "nbformat": 4,
  "nbformat_minor": 0,
  "metadata": {
    "kernelspec": {
      "display_name": "Python 3",
      "language": "python",
      "name": "python3"
    },
    "language_info": {
      "codemirror_mode": {
        "name": "ipython",
        "version": 3
      },
      "file_extension": ".py",
      "mimetype": "text/x-python",
      "name": "python",
      "nbconvert_exporter": "python",
      "pygments_lexer": "ipython3",
      "version": "3.9.2"
    },
    "colab": {
      "name": "task.ipynb",
      "provenance": [],
      "collapsed_sections": [
        "pz-GVs7QfD_N",
        "MDo-TPb0eHjB",
        "Hr2nZZrNeV3O",
        "OQ45KO4uxAoI"
      ]
    }
  },
  "cells": [
    {
      "cell_type": "markdown",
      "metadata": {
        "id": "r3VEEUUPDh1k"
      },
      "source": [
        "## Tasks:\n",
        "- [ ] Код должен выполняться без ошибок от начала до конца\n",
        "- [x] Должен быть указана оценка R2 для задачи регрессии\n",
        "- [ ] Должны быть приведены важность признаков\n",
        "- [ ] Код-ревью и окончательный отбор\n",
        "- [ ] Добавить файл requirements.txt содержащий все нужные библиотеки для запуска проекта.\n",
        "- [ ] Позаботьтесь о чистоте кода. Перед отправкой решения свежим взглядом окинуть свой код и убедиться, что в коде используются понятные названия, нет неиспользуемого/закомментированного кода, дубликатов.\n",
        "- [x] Необходимо прислать ссылку на GitHub или приложить ссылку на архив с решением\n",
        "\n",
        "<!-- Идеи:\n",
        "- Собрать ситэйшны у пэйперов и построить из них граф. Посчитать эмбеддинги из этого графа (например, при помощи Verse) и добавить их в простенькую нейронку вместе с мета фичами (журнал, кол-во странииц, и тд) -->"
      ]
    },
    {
      "cell_type": "code",
      "metadata": {
        "colab": {
          "base_uri": "https://localhost:8080/"
        },
        "id": "dLA6mIYXY15F",
        "outputId": "a4f2dfd1-7b55-4df2-c6ef-ad8aeecf7a4a"
      },
      "source": [
        "# download libraries from requirements.txt\n",
        "!pip install -r requirements.txt"
      ],
      "execution_count": 1,
      "outputs": [
        {
          "output_type": "stream",
          "text": [
            "Requirement already satisfied: absl-py==0.12.0 in /usr/local/lib/python3.7/dist-packages (from -r requirements.txt (line 1)) (0.12.0)\n",
            "Requirement already satisfied: alabaster==0.7.12 in /usr/local/lib/python3.7/dist-packages (from -r requirements.txt (line 2)) (0.7.12)\n",
            "Requirement already satisfied: albumentations==0.1.12 in /usr/local/lib/python3.7/dist-packages (from -r requirements.txt (line 3)) (0.1.12)\n",
            "Requirement already satisfied: altair==4.1.0 in /usr/local/lib/python3.7/dist-packages (from -r requirements.txt (line 4)) (4.1.0)\n",
            "Requirement already satisfied: appdirs==1.4.4 in /usr/local/lib/python3.7/dist-packages (from -r requirements.txt (line 5)) (1.4.4)\n",
            "Requirement already satisfied: argon2-cffi==20.1.0 in /usr/local/lib/python3.7/dist-packages (from -r requirements.txt (line 6)) (20.1.0)\n",
            "Requirement already satisfied: astor==0.8.1 in /usr/local/lib/python3.7/dist-packages (from -r requirements.txt (line 7)) (0.8.1)\n",
            "Requirement already satisfied: astropy==4.2 in /usr/local/lib/python3.7/dist-packages (from -r requirements.txt (line 8)) (4.2)\n",
            "Requirement already satisfied: astunparse==1.6.3 in /usr/local/lib/python3.7/dist-packages (from -r requirements.txt (line 9)) (1.6.3)\n",
            "Requirement already satisfied: async-generator==1.10 in /usr/local/lib/python3.7/dist-packages (from -r requirements.txt (line 10)) (1.10)\n",
            "Requirement already satisfied: atari-py==0.2.6 in /usr/local/lib/python3.7/dist-packages (from -r requirements.txt (line 11)) (0.2.6)\n",
            "Requirement already satisfied: atomicwrites==1.4.0 in /usr/local/lib/python3.7/dist-packages (from -r requirements.txt (line 12)) (1.4.0)\n",
            "Requirement already satisfied: attrs==20.3.0 in /usr/local/lib/python3.7/dist-packages (from -r requirements.txt (line 13)) (20.3.0)\n",
            "Requirement already satisfied: audioread==2.1.9 in /usr/local/lib/python3.7/dist-packages (from -r requirements.txt (line 14)) (2.1.9)\n",
            "Requirement already satisfied: autograd==1.3 in /usr/local/lib/python3.7/dist-packages (from -r requirements.txt (line 15)) (1.3)\n",
            "Requirement already satisfied: Babel==2.9.0 in /usr/local/lib/python3.7/dist-packages (from -r requirements.txt (line 16)) (2.9.0)\n",
            "Requirement already satisfied: backcall==0.2.0 in /usr/local/lib/python3.7/dist-packages (from -r requirements.txt (line 17)) (0.2.0)\n",
            "Requirement already satisfied: beautifulsoup4==4.6.3 in /usr/local/lib/python3.7/dist-packages (from -r requirements.txt (line 18)) (4.6.3)\n",
            "Requirement already satisfied: bleach==3.3.0 in /usr/local/lib/python3.7/dist-packages (from -r requirements.txt (line 19)) (3.3.0)\n",
            "Requirement already satisfied: blis==0.4.1 in /usr/local/lib/python3.7/dist-packages (from -r requirements.txt (line 20)) (0.4.1)\n",
            "Requirement already satisfied: bokeh==2.3.0 in /usr/local/lib/python3.7/dist-packages (from -r requirements.txt (line 21)) (2.3.0)\n",
            "Requirement already satisfied: Bottleneck==1.3.2 in /usr/local/lib/python3.7/dist-packages (from -r requirements.txt (line 22)) (1.3.2)\n",
            "Requirement already satisfied: branca==0.4.2 in /usr/local/lib/python3.7/dist-packages (from -r requirements.txt (line 23)) (0.4.2)\n",
            "Requirement already satisfied: bs4==0.0.1 in /usr/local/lib/python3.7/dist-packages (from -r requirements.txt (line 24)) (0.0.1)\n",
            "Requirement already satisfied: CacheControl==0.12.6 in /usr/local/lib/python3.7/dist-packages (from -r requirements.txt (line 25)) (0.12.6)\n",
            "Requirement already satisfied: cachetools==4.2.1 in /usr/local/lib/python3.7/dist-packages (from -r requirements.txt (line 26)) (4.2.1)\n",
            "Requirement already satisfied: catalogue==1.0.0 in /usr/local/lib/python3.7/dist-packages (from -r requirements.txt (line 27)) (1.0.0)\n",
            "Requirement already satisfied: certifi==2020.12.5 in /usr/local/lib/python3.7/dist-packages (from -r requirements.txt (line 28)) (2020.12.5)\n",
            "Requirement already satisfied: cffi==1.14.5 in /usr/local/lib/python3.7/dist-packages (from -r requirements.txt (line 29)) (1.14.5)\n",
            "Requirement already satisfied: chainer==7.4.0 in /usr/local/lib/python3.7/dist-packages (from -r requirements.txt (line 30)) (7.4.0)\n",
            "Requirement already satisfied: chardet==3.0.4 in /usr/local/lib/python3.7/dist-packages (from -r requirements.txt (line 31)) (3.0.4)\n",
            "Requirement already satisfied: click==7.1.2 in /usr/local/lib/python3.7/dist-packages (from -r requirements.txt (line 32)) (7.1.2)\n",
            "Requirement already satisfied: cloudpickle==1.3.0 in /usr/local/lib/python3.7/dist-packages (from -r requirements.txt (line 33)) (1.3.0)\n",
            "Requirement already satisfied: cmake==3.12.0 in /usr/local/lib/python3.7/dist-packages (from -r requirements.txt (line 34)) (3.12.0)\n",
            "Requirement already satisfied: cmdstanpy==0.9.5 in /usr/local/lib/python3.7/dist-packages (from -r requirements.txt (line 35)) (0.9.5)\n",
            "Requirement already satisfied: colorcet==2.0.6 in /usr/local/lib/python3.7/dist-packages (from -r requirements.txt (line 36)) (2.0.6)\n",
            "Requirement already satisfied: colorlover==0.3.0 in /usr/local/lib/python3.7/dist-packages (from -r requirements.txt (line 37)) (0.3.0)\n",
            "Requirement already satisfied: community==1.0.0b1 in /usr/local/lib/python3.7/dist-packages (from -r requirements.txt (line 38)) (1.0.0b1)\n",
            "Requirement already satisfied: contextlib2==0.5.5 in /usr/local/lib/python3.7/dist-packages (from -r requirements.txt (line 39)) (0.5.5)\n",
            "Requirement already satisfied: convertdate==2.3.2 in /usr/local/lib/python3.7/dist-packages (from -r requirements.txt (line 40)) (2.3.2)\n",
            "Requirement already satisfied: coverage==3.7.1 in /usr/local/lib/python3.7/dist-packages (from -r requirements.txt (line 41)) (3.7.1)\n",
            "Requirement already satisfied: coveralls==0.5 in /usr/local/lib/python3.7/dist-packages (from -r requirements.txt (line 42)) (0.5)\n",
            "Requirement already satisfied: crcmod==1.7 in /usr/local/lib/python3.7/dist-packages (from -r requirements.txt (line 43)) (1.7)\n",
            "Requirement already satisfied: cufflinks==0.17.3 in /usr/local/lib/python3.7/dist-packages (from -r requirements.txt (line 44)) (0.17.3)\n",
            "Requirement already satisfied: cvxopt==1.2.6 in /usr/local/lib/python3.7/dist-packages (from -r requirements.txt (line 45)) (1.2.6)\n",
            "Requirement already satisfied: cvxpy==1.0.31 in /usr/local/lib/python3.7/dist-packages (from -r requirements.txt (line 46)) (1.0.31)\n",
            "Requirement already satisfied: cycler==0.10.0 in /usr/local/lib/python3.7/dist-packages (from -r requirements.txt (line 47)) (0.10.0)\n",
            "Requirement already satisfied: cymem==2.0.5 in /usr/local/lib/python3.7/dist-packages (from -r requirements.txt (line 48)) (2.0.5)\n",
            "Requirement already satisfied: Cython==0.29.22 in /usr/local/lib/python3.7/dist-packages (from -r requirements.txt (line 49)) (0.29.22)\n",
            "Requirement already satisfied: daft==0.0.4 in /usr/local/lib/python3.7/dist-packages (from -r requirements.txt (line 50)) (0.0.4)\n",
            "Requirement already satisfied: dask==2.12.0 in /usr/local/lib/python3.7/dist-packages (from -r requirements.txt (line 51)) (2.12.0)\n",
            "Requirement already satisfied: datascience==0.10.6 in /usr/local/lib/python3.7/dist-packages (from -r requirements.txt (line 52)) (0.10.6)\n",
            "Requirement already satisfied: debugpy==1.0.0 in /usr/local/lib/python3.7/dist-packages (from -r requirements.txt (line 53)) (1.0.0)\n",
            "Requirement already satisfied: decorator==4.4.2 in /usr/local/lib/python3.7/dist-packages (from -r requirements.txt (line 54)) (4.4.2)\n",
            "Requirement already satisfied: defusedxml==0.7.1 in /usr/local/lib/python3.7/dist-packages (from -r requirements.txt (line 55)) (0.7.1)\n",
            "Requirement already satisfied: descartes==1.1.0 in /usr/local/lib/python3.7/dist-packages (from -r requirements.txt (line 56)) (1.1.0)\n",
            "Requirement already satisfied: dill==0.3.3 in /usr/local/lib/python3.7/dist-packages (from -r requirements.txt (line 57)) (0.3.3)\n",
            "Requirement already satisfied: distributed==1.25.3 in /usr/local/lib/python3.7/dist-packages (from -r requirements.txt (line 58)) (1.25.3)\n",
            "Requirement already satisfied: dlib==19.18.0 in /usr/local/lib/python3.7/dist-packages (from -r requirements.txt (line 59)) (19.18.0)\n",
            "Requirement already satisfied: dm-tree==0.1.5 in /usr/local/lib/python3.7/dist-packages (from -r requirements.txt (line 60)) (0.1.5)\n",
            "Requirement already satisfied: docopt==0.6.2 in /usr/local/lib/python3.7/dist-packages (from -r requirements.txt (line 61)) (0.6.2)\n",
            "Requirement already satisfied: docutils==0.16 in /usr/local/lib/python3.7/dist-packages (from -r requirements.txt (line 62)) (0.16)\n",
            "Requirement already satisfied: dopamine-rl==1.0.5 in /usr/local/lib/python3.7/dist-packages (from -r requirements.txt (line 63)) (1.0.5)\n",
            "Requirement already satisfied: earthengine-api==0.1.258 in /usr/local/lib/python3.7/dist-packages (from -r requirements.txt (line 64)) (0.1.258)\n",
            "Requirement already satisfied: easydict==1.9 in /usr/local/lib/python3.7/dist-packages (from -r requirements.txt (line 65)) (1.9)\n",
            "Requirement already satisfied: ecos==2.0.7.post1 in /usr/local/lib/python3.7/dist-packages (from -r requirements.txt (line 66)) (2.0.7.post1)\n",
            "Requirement already satisfied: editdistance==0.5.3 in /usr/local/lib/python3.7/dist-packages (from -r requirements.txt (line 67)) (0.5.3)\n",
            "Requirement already satisfied: en-core-web-sm==2.2.5 in /usr/local/lib/python3.7/dist-packages (from -r requirements.txt (line 68)) (2.2.5)\n",
            "Requirement already satisfied: entrypoints==0.3 in /usr/local/lib/python3.7/dist-packages (from -r requirements.txt (line 69)) (0.3)\n",
            "Requirement already satisfied: ephem==3.7.7.1 in /usr/local/lib/python3.7/dist-packages (from -r requirements.txt (line 70)) (3.7.7.1)\n",
            "Requirement already satisfied: et-xmlfile==1.0.1 in /usr/local/lib/python3.7/dist-packages (from -r requirements.txt (line 71)) (1.0.1)\n",
            "Requirement already satisfied: fa2==0.3.5 in /usr/local/lib/python3.7/dist-packages (from -r requirements.txt (line 72)) (0.3.5)\n",
            "Requirement already satisfied: fancyimpute==0.4.3 in /usr/local/lib/python3.7/dist-packages (from -r requirements.txt (line 73)) (0.4.3)\n",
            "Requirement already satisfied: fastai==1.0.61 in /usr/local/lib/python3.7/dist-packages (from -r requirements.txt (line 74)) (1.0.61)\n",
            "Requirement already satisfied: fastdtw==0.3.4 in /usr/local/lib/python3.7/dist-packages (from -r requirements.txt (line 75)) (0.3.4)\n",
            "Requirement already satisfied: fastprogress==1.0.0 in /usr/local/lib/python3.7/dist-packages (from -r requirements.txt (line 76)) (1.0.0)\n",
            "Requirement already satisfied: fastrlock==0.6 in /usr/local/lib/python3.7/dist-packages (from -r requirements.txt (line 77)) (0.6)\n",
            "Requirement already satisfied: fbprophet==0.7.1 in /usr/local/lib/python3.7/dist-packages (from -r requirements.txt (line 78)) (0.7.1)\n",
            "Requirement already satisfied: feather-format==0.4.1 in /usr/local/lib/python3.7/dist-packages (from -r requirements.txt (line 79)) (0.4.1)\n",
            "Requirement already satisfied: filelock==3.0.12 in /usr/local/lib/python3.7/dist-packages (from -r requirements.txt (line 80)) (3.0.12)\n",
            "Requirement already satisfied: firebase-admin==4.4.0 in /usr/local/lib/python3.7/dist-packages (from -r requirements.txt (line 81)) (4.4.0)\n",
            "Requirement already satisfied: fix-yahoo-finance==0.0.22 in /usr/local/lib/python3.7/dist-packages (from -r requirements.txt (line 82)) (0.0.22)\n",
            "Requirement already satisfied: Flask==1.1.2 in /usr/local/lib/python3.7/dist-packages (from -r requirements.txt (line 83)) (1.1.2)\n",
            "Requirement already satisfied: flatbuffers==1.12 in /usr/local/lib/python3.7/dist-packages (from -r requirements.txt (line 84)) (1.12)\n",
            "Requirement already satisfied: folium==0.8.3 in /usr/local/lib/python3.7/dist-packages (from -r requirements.txt (line 85)) (0.8.3)\n",
            "Requirement already satisfied: future==0.16.0 in /usr/local/lib/python3.7/dist-packages (from -r requirements.txt (line 86)) (0.16.0)\n",
            "Requirement already satisfied: gast==0.3.3 in /usr/local/lib/python3.7/dist-packages (from -r requirements.txt (line 87)) (0.3.3)\n",
            "Requirement already satisfied: GDAL==2.2.2 in /usr/local/lib/python3.7/dist-packages (from -r requirements.txt (line 88)) (2.2.2)\n",
            "Requirement already satisfied: gdown==3.6.4 in /usr/local/lib/python3.7/dist-packages (from -r requirements.txt (line 89)) (3.6.4)\n",
            "Requirement already satisfied: gensim==3.6.0 in /usr/local/lib/python3.7/dist-packages (from -r requirements.txt (line 90)) (3.6.0)\n",
            "Requirement already satisfied: geographiclib==1.50 in /usr/local/lib/python3.7/dist-packages (from -r requirements.txt (line 91)) (1.50)\n",
            "Requirement already satisfied: geopy==1.17.0 in /usr/local/lib/python3.7/dist-packages (from -r requirements.txt (line 92)) (1.17.0)\n",
            "Requirement already satisfied: gin-config==0.4.0 in /usr/local/lib/python3.7/dist-packages (from -r requirements.txt (line 93)) (0.4.0)\n",
            "Requirement already satisfied: glob2==0.7 in /usr/local/lib/python3.7/dist-packages (from -r requirements.txt (line 94)) (0.7)\n",
            "Requirement already satisfied: google==2.0.3 in /usr/local/lib/python3.7/dist-packages (from -r requirements.txt (line 95)) (2.0.3)\n",
            "Requirement already satisfied: google-api-core==1.26.2 in /usr/local/lib/python3.7/dist-packages (from -r requirements.txt (line 96)) (1.26.2)\n",
            "Requirement already satisfied: google-api-python-client==1.12.8 in /usr/local/lib/python3.7/dist-packages (from -r requirements.txt (line 97)) (1.12.8)\n",
            "Requirement already satisfied: google-auth==1.28.0 in /usr/local/lib/python3.7/dist-packages (from -r requirements.txt (line 98)) (1.28.0)\n",
            "Requirement already satisfied: google-auth-httplib2==0.0.4 in /usr/local/lib/python3.7/dist-packages (from -r requirements.txt (line 99)) (0.0.4)\n",
            "Requirement already satisfied: google-auth-oauthlib==0.4.3 in /usr/local/lib/python3.7/dist-packages (from -r requirements.txt (line 100)) (0.4.3)\n",
            "Requirement already satisfied: google-cloud-bigquery==1.21.0 in /usr/local/lib/python3.7/dist-packages (from -r requirements.txt (line 101)) (1.21.0)\n",
            "Requirement already satisfied: google-cloud-bigquery-storage==1.1.0 in /usr/local/lib/python3.7/dist-packages (from -r requirements.txt (line 102)) (1.1.0)\n",
            "Requirement already satisfied: google-cloud-core==1.0.3 in /usr/local/lib/python3.7/dist-packages (from -r requirements.txt (line 103)) (1.0.3)\n",
            "Requirement already satisfied: google-cloud-datastore==1.8.0 in /usr/local/lib/python3.7/dist-packages (from -r requirements.txt (line 104)) (1.8.0)\n",
            "Requirement already satisfied: google-cloud-firestore==1.7.0 in /usr/local/lib/python3.7/dist-packages (from -r requirements.txt (line 105)) (1.7.0)\n",
            "Requirement already satisfied: google-cloud-language==1.2.0 in /usr/local/lib/python3.7/dist-packages (from -r requirements.txt (line 106)) (1.2.0)\n",
            "Requirement already satisfied: google-cloud-storage==1.18.1 in /usr/local/lib/python3.7/dist-packages (from -r requirements.txt (line 107)) (1.18.1)\n",
            "Requirement already satisfied: google-cloud-translate==1.5.0 in /usr/local/lib/python3.7/dist-packages (from -r requirements.txt (line 108)) (1.5.0)\n",
            "Requirement already satisfied: google-colab==1.0.0 in /usr/local/lib/python3.7/dist-packages (from -r requirements.txt (line 109)) (1.0.0)\n",
            "Requirement already satisfied: google-pasta==0.2.0 in /usr/local/lib/python3.7/dist-packages (from -r requirements.txt (line 110)) (0.2.0)\n",
            "Requirement already satisfied: google-resumable-media==0.4.1 in /usr/local/lib/python3.7/dist-packages (from -r requirements.txt (line 111)) (0.4.1)\n",
            "Requirement already satisfied: googleapis-common-protos==1.53.0 in /usr/local/lib/python3.7/dist-packages (from -r requirements.txt (line 112)) (1.53.0)\n",
            "Requirement already satisfied: googledrivedownloader==0.4 in /usr/local/lib/python3.7/dist-packages (from -r requirements.txt (line 113)) (0.4)\n",
            "Requirement already satisfied: graphviz==0.10.1 in /usr/local/lib/python3.7/dist-packages (from -r requirements.txt (line 114)) (0.10.1)\n",
            "Requirement already satisfied: greenlet==1.0.0 in /usr/local/lib/python3.7/dist-packages (from -r requirements.txt (line 115)) (1.0.0)\n",
            "Requirement already satisfied: grpcio==1.32.0 in /usr/local/lib/python3.7/dist-packages (from -r requirements.txt (line 116)) (1.32.0)\n",
            "Requirement already satisfied: gspread==3.0.1 in /usr/local/lib/python3.7/dist-packages (from -r requirements.txt (line 117)) (3.0.1)\n",
            "Requirement already satisfied: gspread-dataframe==3.0.8 in /usr/local/lib/python3.7/dist-packages (from -r requirements.txt (line 118)) (3.0.8)\n",
            "Requirement already satisfied: gym==0.17.3 in /usr/local/lib/python3.7/dist-packages (from -r requirements.txt (line 119)) (0.17.3)\n",
            "Requirement already satisfied: h5py==2.10.0 in /usr/local/lib/python3.7/dist-packages (from -r requirements.txt (line 120)) (2.10.0)\n",
            "Requirement already satisfied: HeapDict==1.0.1 in /usr/local/lib/python3.7/dist-packages (from -r requirements.txt (line 121)) (1.0.1)\n",
            "Requirement already satisfied: hijri-converter==2.1.1 in /usr/local/lib/python3.7/dist-packages (from -r requirements.txt (line 122)) (2.1.1)\n",
            "Requirement already satisfied: holidays==0.10.5.2 in /usr/local/lib/python3.7/dist-packages (from -r requirements.txt (line 123)) (0.10.5.2)\n",
            "Requirement already satisfied: holoviews==1.14.2 in /usr/local/lib/python3.7/dist-packages (from -r requirements.txt (line 124)) (1.14.2)\n",
            "Requirement already satisfied: html5lib==1.0.1 in /usr/local/lib/python3.7/dist-packages (from -r requirements.txt (line 125)) (1.0.1)\n",
            "Requirement already satisfied: httpimport==0.5.18 in /usr/local/lib/python3.7/dist-packages (from -r requirements.txt (line 126)) (0.5.18)\n",
            "Requirement already satisfied: httplib2==0.17.4 in /usr/local/lib/python3.7/dist-packages (from -r requirements.txt (line 127)) (0.17.4)\n",
            "Requirement already satisfied: httplib2shim==0.0.3 in /usr/local/lib/python3.7/dist-packages (from -r requirements.txt (line 128)) (0.0.3)\n",
            "Requirement already satisfied: humanize==0.5.1 in /usr/local/lib/python3.7/dist-packages (from -r requirements.txt (line 129)) (0.5.1)\n",
            "Requirement already satisfied: hyperopt==0.1.2 in /usr/local/lib/python3.7/dist-packages (from -r requirements.txt (line 130)) (0.1.2)\n",
            "Requirement already satisfied: ideep4py==2.0.0.post3 in /usr/local/lib/python3.7/dist-packages (from -r requirements.txt (line 131)) (2.0.0.post3)\n",
            "Requirement already satisfied: idna==2.10 in /usr/local/lib/python3.7/dist-packages (from -r requirements.txt (line 132)) (2.10)\n",
            "Requirement already satisfied: imageio==2.4.1 in /usr/local/lib/python3.7/dist-packages (from -r requirements.txt (line 133)) (2.4.1)\n",
            "Requirement already satisfied: imagesize==1.2.0 in /usr/local/lib/python3.7/dist-packages (from -r requirements.txt (line 134)) (1.2.0)\n",
            "Requirement already satisfied: imbalanced-learn==0.4.3 in /usr/local/lib/python3.7/dist-packages (from -r requirements.txt (line 135)) (0.4.3)\n",
            "Requirement already satisfied: imblearn==0.0 in /usr/local/lib/python3.7/dist-packages (from -r requirements.txt (line 136)) (0.0)\n",
            "Requirement already satisfied: imgaug==0.2.9 in /usr/local/lib/python3.7/dist-packages (from -r requirements.txt (line 137)) (0.2.9)\n",
            "Requirement already satisfied: importlib-metadata==3.8.1 in /usr/local/lib/python3.7/dist-packages (from -r requirements.txt (line 138)) (3.8.1)\n",
            "Requirement already satisfied: importlib-resources==5.1.2 in /usr/local/lib/python3.7/dist-packages (from -r requirements.txt (line 139)) (5.1.2)\n",
            "Requirement already satisfied: imutils==0.5.4 in /usr/local/lib/python3.7/dist-packages (from -r requirements.txt (line 140)) (0.5.4)\n",
            "Requirement already satisfied: inflect==2.1.0 in /usr/local/lib/python3.7/dist-packages (from -r requirements.txt (line 141)) (2.1.0)\n",
            "Requirement already satisfied: iniconfig==1.1.1 in /usr/local/lib/python3.7/dist-packages (from -r requirements.txt (line 142)) (1.1.1)\n",
            "Requirement already satisfied: intel-openmp==2021.2.0 in /usr/local/lib/python3.7/dist-packages (from -r requirements.txt (line 143)) (2021.2.0)\n",
            "Requirement already satisfied: intervaltree==2.1.0 in /usr/local/lib/python3.7/dist-packages (from -r requirements.txt (line 144)) (2.1.0)\n",
            "Requirement already satisfied: ipykernel==4.10.1 in /usr/local/lib/python3.7/dist-packages (from -r requirements.txt (line 145)) (4.10.1)\n",
            "Requirement already satisfied: ipython==5.5.0 in /usr/local/lib/python3.7/dist-packages (from -r requirements.txt (line 146)) (5.5.0)\n",
            "Requirement already satisfied: ipython-genutils==0.2.0 in /usr/local/lib/python3.7/dist-packages (from -r requirements.txt (line 147)) (0.2.0)\n",
            "Requirement already satisfied: ipython-sql==0.3.9 in /usr/local/lib/python3.7/dist-packages (from -r requirements.txt (line 148)) (0.3.9)\n",
            "Requirement already satisfied: ipywidgets==7.6.3 in /usr/local/lib/python3.7/dist-packages (from -r requirements.txt (line 149)) (7.6.3)\n",
            "Requirement already satisfied: itsdangerous==1.1.0 in /usr/local/lib/python3.7/dist-packages (from -r requirements.txt (line 150)) (1.1.0)\n",
            "Requirement already satisfied: jax==0.2.11 in /usr/local/lib/python3.7/dist-packages (from -r requirements.txt (line 151)) (0.2.11)\n",
            "Requirement already satisfied: jaxlib==0.1.64+cuda110 in /usr/local/lib/python3.7/dist-packages (from -r requirements.txt (line 152)) (0.1.64+cuda110)\n",
            "Requirement already satisfied: jdcal==1.4.1 in /usr/local/lib/python3.7/dist-packages (from -r requirements.txt (line 153)) (1.4.1)\n",
            "Requirement already satisfied: jedi==0.18.0 in /usr/local/lib/python3.7/dist-packages (from -r requirements.txt (line 154)) (0.18.0)\n",
            "Requirement already satisfied: jieba==0.42.1 in /usr/local/lib/python3.7/dist-packages (from -r requirements.txt (line 155)) (0.42.1)\n",
            "Requirement already satisfied: Jinja2==2.11.3 in /usr/local/lib/python3.7/dist-packages (from -r requirements.txt (line 156)) (2.11.3)\n",
            "Requirement already satisfied: joblib==1.0.1 in /usr/local/lib/python3.7/dist-packages (from -r requirements.txt (line 157)) (1.0.1)\n",
            "Requirement already satisfied: jpeg4py==0.1.4 in /usr/local/lib/python3.7/dist-packages (from -r requirements.txt (line 158)) (0.1.4)\n",
            "Requirement already satisfied: jsonschema==2.6.0 in /usr/local/lib/python3.7/dist-packages (from -r requirements.txt (line 159)) (2.6.0)\n",
            "Requirement already satisfied: jupyter==1.0.0 in /usr/local/lib/python3.7/dist-packages (from -r requirements.txt (line 160)) (1.0.0)\n",
            "Requirement already satisfied: jupyter-client==5.3.5 in /usr/local/lib/python3.7/dist-packages (from -r requirements.txt (line 161)) (5.3.5)\n",
            "Requirement already satisfied: jupyter-console==5.2.0 in /usr/local/lib/python3.7/dist-packages (from -r requirements.txt (line 162)) (5.2.0)\n",
            "Requirement already satisfied: jupyter-core==4.7.1 in /usr/local/lib/python3.7/dist-packages (from -r requirements.txt (line 163)) (4.7.1)\n",
            "Requirement already satisfied: jupyterlab-pygments==0.1.2 in /usr/local/lib/python3.7/dist-packages (from -r requirements.txt (line 164)) (0.1.2)\n",
            "Requirement already satisfied: jupyterlab-widgets==1.0.0 in /usr/local/lib/python3.7/dist-packages (from -r requirements.txt (line 165)) (1.0.0)\n",
            "Requirement already satisfied: kaggle==1.5.12 in /usr/local/lib/python3.7/dist-packages (from -r requirements.txt (line 166)) (1.5.12)\n",
            "Requirement already satisfied: kapre==0.1.3.1 in /usr/local/lib/python3.7/dist-packages (from -r requirements.txt (line 167)) (0.1.3.1)\n",
            "Requirement already satisfied: Keras==2.4.3 in /usr/local/lib/python3.7/dist-packages (from -r requirements.txt (line 168)) (2.4.3)\n",
            "Requirement already satisfied: Keras-Preprocessing==1.1.2 in /usr/local/lib/python3.7/dist-packages (from -r requirements.txt (line 169)) (1.1.2)\n",
            "Requirement already satisfied: keras-vis==0.4.1 in /usr/local/lib/python3.7/dist-packages (from -r requirements.txt (line 170)) (0.4.1)\n",
            "Requirement already satisfied: kiwisolver==1.3.1 in /usr/local/lib/python3.7/dist-packages (from -r requirements.txt (line 171)) (1.3.1)\n",
            "Requirement already satisfied: knnimpute==0.1.0 in /usr/local/lib/python3.7/dist-packages (from -r requirements.txt (line 172)) (0.1.0)\n",
            "Requirement already satisfied: korean-lunar-calendar==0.2.1 in /usr/local/lib/python3.7/dist-packages (from -r requirements.txt (line 173)) (0.2.1)\n",
            "Requirement already satisfied: librosa==0.8.0 in /usr/local/lib/python3.7/dist-packages (from -r requirements.txt (line 174)) (0.8.0)\n",
            "Requirement already satisfied: lightgbm==2.2.3 in /usr/local/lib/python3.7/dist-packages (from -r requirements.txt (line 175)) (2.2.3)\n",
            "Requirement already satisfied: llvmlite==0.34.0 in /usr/local/lib/python3.7/dist-packages (from -r requirements.txt (line 176)) (0.34.0)\n",
            "Requirement already satisfied: lmdb==0.99 in /usr/local/lib/python3.7/dist-packages (from -r requirements.txt (line 177)) (0.99)\n",
            "Requirement already satisfied: LunarCalendar==0.0.9 in /usr/local/lib/python3.7/dist-packages (from -r requirements.txt (line 178)) (0.0.9)\n",
            "Requirement already satisfied: lxml==4.2.6 in /usr/local/lib/python3.7/dist-packages (from -r requirements.txt (line 179)) (4.2.6)\n",
            "Requirement already satisfied: Markdown==3.3.4 in /usr/local/lib/python3.7/dist-packages (from -r requirements.txt (line 180)) (3.3.4)\n",
            "Requirement already satisfied: MarkupSafe==1.1.1 in /usr/local/lib/python3.7/dist-packages (from -r requirements.txt (line 181)) (1.1.1)\n",
            "Requirement already satisfied: matplotlib==3.2.2 in /usr/local/lib/python3.7/dist-packages (from -r requirements.txt (line 182)) (3.2.2)\n",
            "Requirement already satisfied: matplotlib-venn==0.11.6 in /usr/local/lib/python3.7/dist-packages (from -r requirements.txt (line 183)) (0.11.6)\n",
            "Requirement already satisfied: missingno==0.4.2 in /usr/local/lib/python3.7/dist-packages (from -r requirements.txt (line 184)) (0.4.2)\n",
            "Requirement already satisfied: mistune==0.8.4 in /usr/local/lib/python3.7/dist-packages (from -r requirements.txt (line 185)) (0.8.4)\n",
            "Requirement already satisfied: mizani==0.6.0 in /usr/local/lib/python3.7/dist-packages (from -r requirements.txt (line 186)) (0.6.0)\n",
            "Requirement already satisfied: mkl==2019.0 in /usr/local/lib/python3.7/dist-packages (from -r requirements.txt (line 187)) (2019.0)\n",
            "Requirement already satisfied: mlxtend==0.14.0 in /usr/local/lib/python3.7/dist-packages (from -r requirements.txt (line 188)) (0.14.0)\n",
            "Requirement already satisfied: more-itertools==8.7.0 in /usr/local/lib/python3.7/dist-packages (from -r requirements.txt (line 189)) (8.7.0)\n",
            "Requirement already satisfied: moviepy==0.2.3.5 in /usr/local/lib/python3.7/dist-packages (from -r requirements.txt (line 190)) (0.2.3.5)\n",
            "Requirement already satisfied: mpmath==1.2.1 in /usr/local/lib/python3.7/dist-packages (from -r requirements.txt (line 191)) (1.2.1)\n",
            "Requirement already satisfied: msgpack==1.0.2 in /usr/local/lib/python3.7/dist-packages (from -r requirements.txt (line 192)) (1.0.2)\n",
            "Requirement already satisfied: multiprocess==0.70.11.1 in /usr/local/lib/python3.7/dist-packages (from -r requirements.txt (line 193)) (0.70.11.1)\n",
            "Requirement already satisfied: multitasking==0.0.9 in /usr/local/lib/python3.7/dist-packages (from -r requirements.txt (line 194)) (0.0.9)\n",
            "Requirement already satisfied: murmurhash==1.0.5 in /usr/local/lib/python3.7/dist-packages (from -r requirements.txt (line 195)) (1.0.5)\n",
            "Requirement already satisfied: music21==5.5.0 in /usr/local/lib/python3.7/dist-packages (from -r requirements.txt (line 196)) (5.5.0)\n",
            "Requirement already satisfied: natsort==5.5.0 in /usr/local/lib/python3.7/dist-packages (from -r requirements.txt (line 197)) (5.5.0)\n",
            "Requirement already satisfied: nbclient==0.5.3 in /usr/local/lib/python3.7/dist-packages (from -r requirements.txt (line 198)) (0.5.3)\n",
            "Requirement already satisfied: nbconvert==5.6.1 in /usr/local/lib/python3.7/dist-packages (from -r requirements.txt (line 199)) (5.6.1)\n",
            "Requirement already satisfied: nbformat==5.1.2 in /usr/local/lib/python3.7/dist-packages (from -r requirements.txt (line 200)) (5.1.2)\n",
            "Requirement already satisfied: nest-asyncio==1.5.1 in /usr/local/lib/python3.7/dist-packages (from -r requirements.txt (line 201)) (1.5.1)\n",
            "Requirement already satisfied: networkx==2.5 in /usr/local/lib/python3.7/dist-packages (from -r requirements.txt (line 202)) (2.5)\n",
            "Requirement already satisfied: nibabel==3.0.2 in /usr/local/lib/python3.7/dist-packages (from -r requirements.txt (line 203)) (3.0.2)\n",
            "Requirement already satisfied: nltk==3.2.5 in /usr/local/lib/python3.7/dist-packages (from -r requirements.txt (line 204)) (3.2.5)\n",
            "Requirement already satisfied: notebook==5.3.1 in /usr/local/lib/python3.7/dist-packages (from -r requirements.txt (line 205)) (5.3.1)\n",
            "Requirement already satisfied: np-utils==0.5.12.1 in /usr/local/lib/python3.7/dist-packages (from -r requirements.txt (line 206)) (0.5.12.1)\n",
            "Requirement already satisfied: numba==0.51.2 in /usr/local/lib/python3.7/dist-packages (from -r requirements.txt (line 207)) (0.51.2)\n",
            "Requirement already satisfied: numexpr==2.7.3 in /usr/local/lib/python3.7/dist-packages (from -r requirements.txt (line 208)) (2.7.3)\n",
            "Requirement already satisfied: numpy==1.19.5 in /usr/local/lib/python3.7/dist-packages (from -r requirements.txt (line 209)) (1.19.5)\n",
            "Requirement already satisfied: nvidia-ml-py3==7.352.0 in /usr/local/lib/python3.7/dist-packages (from -r requirements.txt (line 210)) (7.352.0)\n",
            "Requirement already satisfied: oauth2client==4.1.3 in /usr/local/lib/python3.7/dist-packages (from -r requirements.txt (line 211)) (4.1.3)\n",
            "Requirement already satisfied: oauthlib==3.1.0 in /usr/local/lib/python3.7/dist-packages (from -r requirements.txt (line 212)) (3.1.0)\n",
            "Requirement already satisfied: okgrade==0.4.3 in /usr/local/lib/python3.7/dist-packages (from -r requirements.txt (line 213)) (0.4.3)\n",
            "Requirement already satisfied: opencv-contrib-python==4.1.2.30 in /usr/local/lib/python3.7/dist-packages (from -r requirements.txt (line 214)) (4.1.2.30)\n",
            "Requirement already satisfied: opencv-python==4.1.2.30 in /usr/local/lib/python3.7/dist-packages (from -r requirements.txt (line 215)) (4.1.2.30)\n",
            "Requirement already satisfied: openpyxl==2.5.9 in /usr/local/lib/python3.7/dist-packages (from -r requirements.txt (line 216)) (2.5.9)\n",
            "Requirement already satisfied: opt-einsum==3.3.0 in /usr/local/lib/python3.7/dist-packages (from -r requirements.txt (line 217)) (3.3.0)\n",
            "Requirement already satisfied: osqp==0.6.2.post0 in /usr/local/lib/python3.7/dist-packages (from -r requirements.txt (line 218)) (0.6.2.post0)\n",
            "Requirement already satisfied: packaging==20.9 in /usr/local/lib/python3.7/dist-packages (from -r requirements.txt (line 219)) (20.9)\n",
            "Requirement already satisfied: palettable==3.3.0 in /usr/local/lib/python3.7/dist-packages (from -r requirements.txt (line 220)) (3.3.0)\n",
            "Requirement already satisfied: pandas==1.1.5 in /usr/local/lib/python3.7/dist-packages (from -r requirements.txt (line 221)) (1.1.5)\n",
            "Requirement already satisfied: pandas-datareader==0.9.0 in /usr/local/lib/python3.7/dist-packages (from -r requirements.txt (line 222)) (0.9.0)\n",
            "Requirement already satisfied: pandas-gbq==0.13.3 in /usr/local/lib/python3.7/dist-packages (from -r requirements.txt (line 223)) (0.13.3)\n",
            "Requirement already satisfied: pandas-profiling==1.4.1 in /usr/local/lib/python3.7/dist-packages (from -r requirements.txt (line 224)) (1.4.1)\n",
            "Requirement already satisfied: pandocfilters==1.4.3 in /usr/local/lib/python3.7/dist-packages (from -r requirements.txt (line 225)) (1.4.3)\n",
            "Requirement already satisfied: panel==0.11.1 in /usr/local/lib/python3.7/dist-packages (from -r requirements.txt (line 226)) (0.11.1)\n",
            "Requirement already satisfied: param==1.10.1 in /usr/local/lib/python3.7/dist-packages (from -r requirements.txt (line 227)) (1.10.1)\n",
            "Requirement already satisfied: parso==0.8.2 in /usr/local/lib/python3.7/dist-packages (from -r requirements.txt (line 228)) (0.8.2)\n",
            "Requirement already satisfied: pathlib==1.0.1 in /usr/local/lib/python3.7/dist-packages (from -r requirements.txt (line 229)) (1.0.1)\n",
            "Requirement already satisfied: patsy==0.5.1 in /usr/local/lib/python3.7/dist-packages (from -r requirements.txt (line 230)) (0.5.1)\n",
            "Requirement already satisfied: pbr==5.5.1 in /usr/local/lib/python3.7/dist-packages (from -r requirements.txt (line 231)) (5.5.1)\n",
            "Requirement already satisfied: pexpect==4.8.0 in /usr/local/lib/python3.7/dist-packages (from -r requirements.txt (line 232)) (4.8.0)\n",
            "Requirement already satisfied: pickleshare==0.7.5 in /usr/local/lib/python3.7/dist-packages (from -r requirements.txt (line 233)) (0.7.5)\n",
            "Requirement already satisfied: Pillow==7.1.2 in /usr/local/lib/python3.7/dist-packages (from -r requirements.txt (line 234)) (7.1.2)\n",
            "Requirement already satisfied: pip-tools==4.5.1 in /usr/local/lib/python3.7/dist-packages (from -r requirements.txt (line 235)) (4.5.1)\n",
            "Requirement already satisfied: plac==1.1.3 in /usr/local/lib/python3.7/dist-packages (from -r requirements.txt (line 236)) (1.1.3)\n",
            "Requirement already satisfied: plotly==4.4.1 in /usr/local/lib/python3.7/dist-packages (from -r requirements.txt (line 237)) (4.4.1)\n",
            "Requirement already satisfied: plotnine==0.6.0 in /usr/local/lib/python3.7/dist-packages (from -r requirements.txt (line 238)) (0.6.0)\n",
            "Requirement already satisfied: pluggy==0.7.1 in /usr/local/lib/python3.7/dist-packages (from -r requirements.txt (line 239)) (0.7.1)\n",
            "Requirement already satisfied: pooch==1.3.0 in /usr/local/lib/python3.7/dist-packages (from -r requirements.txt (line 240)) (1.3.0)\n",
            "Requirement already satisfied: portpicker==1.3.1 in /usr/local/lib/python3.7/dist-packages (from -r requirements.txt (line 241)) (1.3.1)\n",
            "Requirement already satisfied: prefetch-generator==1.0.1 in /usr/local/lib/python3.7/dist-packages (from -r requirements.txt (line 242)) (1.0.1)\n",
            "Requirement already satisfied: preshed==3.0.5 in /usr/local/lib/python3.7/dist-packages (from -r requirements.txt (line 243)) (3.0.5)\n",
            "Requirement already satisfied: prettytable==2.1.0 in /usr/local/lib/python3.7/dist-packages (from -r requirements.txt (line 244)) (2.1.0)\n",
            "Requirement already satisfied: progressbar2==3.38.0 in /usr/local/lib/python3.7/dist-packages (from -r requirements.txt (line 245)) (3.38.0)\n",
            "Requirement already satisfied: prometheus-client==0.10.0 in /usr/local/lib/python3.7/dist-packages (from -r requirements.txt (line 246)) (0.10.0)\n",
            "Requirement already satisfied: promise==2.3 in /usr/local/lib/python3.7/dist-packages (from -r requirements.txt (line 247)) (2.3)\n",
            "Requirement already satisfied: prompt-toolkit==1.0.18 in /usr/local/lib/python3.7/dist-packages (from -r requirements.txt (line 248)) (1.0.18)\n",
            "Requirement already satisfied: protobuf==3.12.4 in /usr/local/lib/python3.7/dist-packages (from -r requirements.txt (line 249)) (3.12.4)\n",
            "Requirement already satisfied: psutil==5.4.8 in /usr/local/lib/python3.7/dist-packages (from -r requirements.txt (line 250)) (5.4.8)\n",
            "Requirement already satisfied: psycopg2==2.7.6.1 in /usr/local/lib/python3.7/dist-packages (from -r requirements.txt (line 251)) (2.7.6.1)\n",
            "Requirement already satisfied: ptyprocess==0.7.0 in /usr/local/lib/python3.7/dist-packages (from -r requirements.txt (line 252)) (0.7.0)\n",
            "Requirement already satisfied: py==1.10.0 in /usr/local/lib/python3.7/dist-packages (from -r requirements.txt (line 253)) (1.10.0)\n",
            "Requirement already satisfied: pyarrow==3.0.0 in /usr/local/lib/python3.7/dist-packages (from -r requirements.txt (line 254)) (3.0.0)\n",
            "Requirement already satisfied: pyasn1==0.4.8 in /usr/local/lib/python3.7/dist-packages (from -r requirements.txt (line 255)) (0.4.8)\n",
            "Requirement already satisfied: pyasn1-modules==0.2.8 in /usr/local/lib/python3.7/dist-packages (from -r requirements.txt (line 256)) (0.2.8)\n",
            "Requirement already satisfied: pycocotools==2.0.2 in /usr/local/lib/python3.7/dist-packages (from -r requirements.txt (line 257)) (2.0.2)\n",
            "Requirement already satisfied: pycparser==2.20 in /usr/local/lib/python3.7/dist-packages (from -r requirements.txt (line 258)) (2.20)\n",
            "Requirement already satisfied: pyct==0.4.8 in /usr/local/lib/python3.7/dist-packages (from -r requirements.txt (line 259)) (0.4.8)\n",
            "Requirement already satisfied: pydata-google-auth==1.1.0 in /usr/local/lib/python3.7/dist-packages (from -r requirements.txt (line 260)) (1.1.0)\n",
            "Requirement already satisfied: pydot==1.3.0 in /usr/local/lib/python3.7/dist-packages (from -r requirements.txt (line 261)) (1.3.0)\n",
            "Requirement already satisfied: pydot-ng==2.0.0 in /usr/local/lib/python3.7/dist-packages (from -r requirements.txt (line 262)) (2.0.0)\n",
            "Requirement already satisfied: pydotplus==2.0.2 in /usr/local/lib/python3.7/dist-packages (from -r requirements.txt (line 263)) (2.0.2)\n",
            "Requirement already satisfied: PyDrive==1.3.1 in /usr/local/lib/python3.7/dist-packages (from -r requirements.txt (line 264)) (1.3.1)\n",
            "Requirement already satisfied: pyemd==0.5.1 in /usr/local/lib/python3.7/dist-packages (from -r requirements.txt (line 265)) (0.5.1)\n",
            "Requirement already satisfied: pyerfa==1.7.2 in /usr/local/lib/python3.7/dist-packages (from -r requirements.txt (line 266)) (1.7.2)\n",
            "Requirement already satisfied: pyglet==1.5.0 in /usr/local/lib/python3.7/dist-packages (from -r requirements.txt (line 267)) (1.5.0)\n",
            "Requirement already satisfied: Pygments==2.6.1 in /usr/local/lib/python3.7/dist-packages (from -r requirements.txt (line 268)) (2.6.1)\n",
            "Requirement already satisfied: pygobject==3.26.1 in /usr/lib/python3/dist-packages (from -r requirements.txt (line 269)) (3.26.1)\n",
            "Requirement already satisfied: pymc3==3.7 in /usr/local/lib/python3.7/dist-packages (from -r requirements.txt (line 270)) (3.7)\n",
            "Requirement already satisfied: PyMeeus==0.5.11 in /usr/local/lib/python3.7/dist-packages (from -r requirements.txt (line 271)) (0.5.11)\n",
            "Requirement already satisfied: pymongo==3.11.3 in /usr/local/lib/python3.7/dist-packages (from -r requirements.txt (line 272)) (3.11.3)\n",
            "Requirement already satisfied: pymystem3==0.2.0 in /usr/local/lib/python3.7/dist-packages (from -r requirements.txt (line 273)) (0.2.0)\n",
            "Requirement already satisfied: PyOpenGL==3.1.5 in /usr/local/lib/python3.7/dist-packages (from -r requirements.txt (line 274)) (3.1.5)\n",
            "Requirement already satisfied: pyparsing==2.4.7 in /usr/local/lib/python3.7/dist-packages (from -r requirements.txt (line 275)) (2.4.7)\n",
            "Requirement already satisfied: pyrsistent==0.17.3 in /usr/local/lib/python3.7/dist-packages (from -r requirements.txt (line 276)) (0.17.3)\n",
            "Requirement already satisfied: pysndfile==1.3.8 in /usr/local/lib/python3.7/dist-packages (from -r requirements.txt (line 277)) (1.3.8)\n",
            "Requirement already satisfied: PySocks==1.7.1 in /usr/local/lib/python3.7/dist-packages (from -r requirements.txt (line 278)) (1.7.1)\n",
            "Requirement already satisfied: pystan==2.19.1.1 in /usr/local/lib/python3.7/dist-packages (from -r requirements.txt (line 279)) (2.19.1.1)\n",
            "Requirement already satisfied: pytest==3.6.4 in /usr/local/lib/python3.7/dist-packages (from -r requirements.txt (line 280)) (3.6.4)\n",
            "Requirement already satisfied: python-apt==0.0.0 in /usr/local/lib/python3.7/dist-packages (from -r requirements.txt (line 281)) (0.0.0)\n",
            "Requirement already satisfied: python-chess==0.23.11 in /usr/local/lib/python3.7/dist-packages (from -r requirements.txt (line 282)) (0.23.11)\n",
            "Requirement already satisfied: python-dateutil==2.8.1 in /usr/local/lib/python3.7/dist-packages (from -r requirements.txt (line 283)) (2.8.1)\n",
            "Requirement already satisfied: python-louvain==0.15 in /usr/local/lib/python3.7/dist-packages (from -r requirements.txt (line 284)) (0.15)\n",
            "Requirement already satisfied: python-slugify==4.0.1 in /usr/local/lib/python3.7/dist-packages (from -r requirements.txt (line 285)) (4.0.1)\n",
            "Requirement already satisfied: python-utils==2.5.6 in /usr/local/lib/python3.7/dist-packages (from -r requirements.txt (line 286)) (2.5.6)\n",
            "Requirement already satisfied: pytz==2018.9 in /usr/local/lib/python3.7/dist-packages (from -r requirements.txt (line 287)) (2018.9)\n",
            "Requirement already satisfied: pyviz-comms==2.0.1 in /usr/local/lib/python3.7/dist-packages (from -r requirements.txt (line 288)) (2.0.1)\n",
            "Requirement already satisfied: PyWavelets==1.1.1 in /usr/local/lib/python3.7/dist-packages (from -r requirements.txt (line 289)) (1.1.1)\n",
            "Requirement already satisfied: PyYAML==3.13 in /usr/local/lib/python3.7/dist-packages (from -r requirements.txt (line 290)) (3.13)\n",
            "Requirement already satisfied: pyzmq==22.0.3 in /usr/local/lib/python3.7/dist-packages (from -r requirements.txt (line 291)) (22.0.3)\n",
            "Requirement already satisfied: qdldl==0.1.5.post0 in /usr/local/lib/python3.7/dist-packages (from -r requirements.txt (line 292)) (0.1.5.post0)\n",
            "Requirement already satisfied: qtconsole==5.0.3 in /usr/local/lib/python3.7/dist-packages (from -r requirements.txt (line 293)) (5.0.3)\n",
            "Requirement already satisfied: QtPy==1.9.0 in /usr/local/lib/python3.7/dist-packages (from -r requirements.txt (line 294)) (1.9.0)\n",
            "Requirement already satisfied: regex==2019.12.20 in /usr/local/lib/python3.7/dist-packages (from -r requirements.txt (line 295)) (2019.12.20)\n",
            "Requirement already satisfied: requests==2.23.0 in /usr/local/lib/python3.7/dist-packages (from -r requirements.txt (line 296)) (2.23.0)\n",
            "Requirement already satisfied: requests-oauthlib==1.3.0 in /usr/local/lib/python3.7/dist-packages (from -r requirements.txt (line 297)) (1.3.0)\n",
            "Requirement already satisfied: resampy==0.2.2 in /usr/local/lib/python3.7/dist-packages (from -r requirements.txt (line 298)) (0.2.2)\n",
            "Requirement already satisfied: retrying==1.3.3 in /usr/local/lib/python3.7/dist-packages (from -r requirements.txt (line 299)) (1.3.3)\n",
            "Requirement already satisfied: rpy2==3.4.3 in /usr/local/lib/python3.7/dist-packages (from -r requirements.txt (line 300)) (3.4.3)\n",
            "Requirement already satisfied: rsa==4.7.2 in /usr/local/lib/python3.7/dist-packages (from -r requirements.txt (line 301)) (4.7.2)\n",
            "Requirement already satisfied: scholarmetrics==0.2.1 in /usr/local/lib/python3.7/dist-packages (from -r requirements.txt (line 302)) (0.2.1)\n",
            "Requirement already satisfied: scikit-image==0.16.2 in /usr/local/lib/python3.7/dist-packages (from -r requirements.txt (line 303)) (0.16.2)\n",
            "Requirement already satisfied: scikit-learn==0.22.2.post1 in /usr/local/lib/python3.7/dist-packages (from -r requirements.txt (line 304)) (0.22.2.post1)\n",
            "Requirement already satisfied: scipy==1.4.1 in /usr/local/lib/python3.7/dist-packages (from -r requirements.txt (line 305)) (1.4.1)\n",
            "Requirement already satisfied: screen-resolution-extra==0.0.0 in /usr/lib/python3/dist-packages (from -r requirements.txt (line 306)) (0.0.0)\n",
            "Requirement already satisfied: scs==2.1.2 in /usr/local/lib/python3.7/dist-packages (from -r requirements.txt (line 307)) (2.1.2)\n",
            "Requirement already satisfied: seaborn==0.11.1 in /usr/local/lib/python3.7/dist-packages (from -r requirements.txt (line 308)) (0.11.1)\n",
            "Requirement already satisfied: Send2Trash==1.5.0 in /usr/local/lib/python3.7/dist-packages (from -r requirements.txt (line 309)) (1.5.0)\n",
            "Requirement already satisfied: setuptools-git==1.2 in /usr/local/lib/python3.7/dist-packages (from -r requirements.txt (line 310)) (1.2)\n",
            "Requirement already satisfied: Shapely==1.7.1 in /usr/local/lib/python3.7/dist-packages (from -r requirements.txt (line 311)) (1.7.1)\n",
            "Requirement already satisfied: simplegeneric==0.8.1 in /usr/local/lib/python3.7/dist-packages (from -r requirements.txt (line 312)) (0.8.1)\n",
            "Requirement already satisfied: six==1.15.0 in /usr/local/lib/python3.7/dist-packages (from -r requirements.txt (line 313)) (1.15.0)\n",
            "Requirement already satisfied: sklearn==0.0 in /usr/local/lib/python3.7/dist-packages (from -r requirements.txt (line 314)) (0.0)\n",
            "Requirement already satisfied: sklearn-pandas==1.8.0 in /usr/local/lib/python3.7/dist-packages (from -r requirements.txt (line 315)) (1.8.0)\n",
            "Requirement already satisfied: smart-open==4.2.0 in /usr/local/lib/python3.7/dist-packages (from -r requirements.txt (line 316)) (4.2.0)\n",
            "Requirement already satisfied: snowballstemmer==2.1.0 in /usr/local/lib/python3.7/dist-packages (from -r requirements.txt (line 317)) (2.1.0)\n",
            "Requirement already satisfied: sortedcontainers==2.3.0 in /usr/local/lib/python3.7/dist-packages (from -r requirements.txt (line 318)) (2.3.0)\n",
            "Requirement already satisfied: SoundFile==0.10.3.post1 in /usr/local/lib/python3.7/dist-packages (from -r requirements.txt (line 319)) (0.10.3.post1)\n",
            "Requirement already satisfied: spacy==2.2.4 in /usr/local/lib/python3.7/dist-packages (from -r requirements.txt (line 320)) (2.2.4)\n",
            "Requirement already satisfied: Sphinx==1.8.5 in /usr/local/lib/python3.7/dist-packages (from -r requirements.txt (line 321)) (1.8.5)\n",
            "Requirement already satisfied: sphinxcontrib-serializinghtml==1.1.4 in /usr/local/lib/python3.7/dist-packages (from -r requirements.txt (line 322)) (1.1.4)\n",
            "Requirement already satisfied: sphinxcontrib-websupport==1.2.4 in /usr/local/lib/python3.7/dist-packages (from -r requirements.txt (line 323)) (1.2.4)\n",
            "Requirement already satisfied: SQLAlchemy==1.4.3 in /usr/local/lib/python3.7/dist-packages (from -r requirements.txt (line 324)) (1.4.3)\n",
            "Requirement already satisfied: sqlparse==0.4.1 in /usr/local/lib/python3.7/dist-packages (from -r requirements.txt (line 325)) (0.4.1)\n",
            "Requirement already satisfied: srsly==1.0.5 in /usr/local/lib/python3.7/dist-packages (from -r requirements.txt (line 326)) (1.0.5)\n",
            "Requirement already satisfied: statsmodels==0.10.2 in /usr/local/lib/python3.7/dist-packages (from -r requirements.txt (line 327)) (0.10.2)\n",
            "Requirement already satisfied: sympy==1.7.1 in /usr/local/lib/python3.7/dist-packages (from -r requirements.txt (line 328)) (1.7.1)\n",
            "Requirement already satisfied: tables==3.4.4 in /usr/local/lib/python3.7/dist-packages (from -r requirements.txt (line 329)) (3.4.4)\n",
            "Requirement already satisfied: tabulate==0.8.9 in /usr/local/lib/python3.7/dist-packages (from -r requirements.txt (line 330)) (0.8.9)\n",
            "Requirement already satisfied: tblib==1.7.0 in /usr/local/lib/python3.7/dist-packages (from -r requirements.txt (line 331)) (1.7.0)\n",
            "Requirement already satisfied: tensorboard==2.4.1 in /usr/local/lib/python3.7/dist-packages (from -r requirements.txt (line 332)) (2.4.1)\n",
            "Requirement already satisfied: tensorboard-plugin-wit==1.8.0 in /usr/local/lib/python3.7/dist-packages (from -r requirements.txt (line 333)) (1.8.0)\n",
            "Requirement already satisfied: tensorflow==2.4.1 in /usr/local/lib/python3.7/dist-packages (from -r requirements.txt (line 334)) (2.4.1)\n",
            "Requirement already satisfied: tensorflow-datasets==4.0.1 in /usr/local/lib/python3.7/dist-packages (from -r requirements.txt (line 335)) (4.0.1)\n",
            "Requirement already satisfied: tensorflow-estimator==2.4.0 in /usr/local/lib/python3.7/dist-packages (from -r requirements.txt (line 336)) (2.4.0)\n",
            "Requirement already satisfied: tensorflow-gcs-config==2.4.0 in /usr/local/lib/python3.7/dist-packages (from -r requirements.txt (line 337)) (2.4.0)\n",
            "Requirement already satisfied: tensorflow-hub==0.11.0 in /usr/local/lib/python3.7/dist-packages (from -r requirements.txt (line 338)) (0.11.0)\n",
            "Requirement already satisfied: tensorflow-metadata==0.29.0 in /usr/local/lib/python3.7/dist-packages (from -r requirements.txt (line 339)) (0.29.0)\n",
            "Requirement already satisfied: tensorflow-probability==0.12.1 in /usr/local/lib/python3.7/dist-packages (from -r requirements.txt (line 340)) (0.12.1)\n",
            "Requirement already satisfied: termcolor==1.1.0 in /usr/local/lib/python3.7/dist-packages (from -r requirements.txt (line 341)) (1.1.0)\n",
            "Requirement already satisfied: terminado==0.9.3 in /usr/local/lib/python3.7/dist-packages (from -r requirements.txt (line 342)) (0.9.3)\n",
            "Requirement already satisfied: testpath==0.4.4 in /usr/local/lib/python3.7/dist-packages (from -r requirements.txt (line 343)) (0.4.4)\n",
            "Requirement already satisfied: text-unidecode==1.3 in /usr/local/lib/python3.7/dist-packages (from -r requirements.txt (line 344)) (1.3)\n",
            "Requirement already satisfied: textblob==0.15.3 in /usr/local/lib/python3.7/dist-packages (from -r requirements.txt (line 345)) (0.15.3)\n",
            "Requirement already satisfied: textgenrnn==1.4.1 in /usr/local/lib/python3.7/dist-packages (from -r requirements.txt (line 346)) (1.4.1)\n",
            "Requirement already satisfied: Theano==1.0.5 in /usr/local/lib/python3.7/dist-packages (from -r requirements.txt (line 347)) (1.0.5)\n",
            "Requirement already satisfied: thinc==7.4.0 in /usr/local/lib/python3.7/dist-packages (from -r requirements.txt (line 348)) (7.4.0)\n",
            "Requirement already satisfied: tifffile==2021.3.31 in /usr/local/lib/python3.7/dist-packages (from -r requirements.txt (line 349)) (2021.3.31)\n",
            "Requirement already satisfied: toml==0.10.2 in /usr/local/lib/python3.7/dist-packages (from -r requirements.txt (line 350)) (0.10.2)\n",
            "Requirement already satisfied: toolz==0.11.1 in /usr/local/lib/python3.7/dist-packages (from -r requirements.txt (line 351)) (0.11.1)\n",
            "Requirement already satisfied: torch==1.8.1+cu101 in /usr/local/lib/python3.7/dist-packages (from -r requirements.txt (line 352)) (1.8.1+cu101)\n",
            "Requirement already satisfied: torchsummary==1.5.1 in /usr/local/lib/python3.7/dist-packages (from -r requirements.txt (line 353)) (1.5.1)\n",
            "Requirement already satisfied: torchtext==0.9.1 in /usr/local/lib/python3.7/dist-packages (from -r requirements.txt (line 354)) (0.9.1)\n",
            "Requirement already satisfied: torchvision==0.9.1+cu101 in /usr/local/lib/python3.7/dist-packages (from -r requirements.txt (line 355)) (0.9.1+cu101)\n",
            "Requirement already satisfied: tornado==5.1.1 in /usr/local/lib/python3.7/dist-packages (from -r requirements.txt (line 356)) (5.1.1)\n",
            "Requirement already satisfied: tqdm==4.41.1 in /usr/local/lib/python3.7/dist-packages (from -r requirements.txt (line 357)) (4.41.1)\n",
            "Requirement already satisfied: traitlets==5.0.5 in /usr/local/lib/python3.7/dist-packages (from -r requirements.txt (line 358)) (5.0.5)\n",
            "Requirement already satisfied: tweepy==3.10.0 in /usr/local/lib/python3.7/dist-packages (from -r requirements.txt (line 359)) (3.10.0)\n",
            "Requirement already satisfied: typeguard==2.7.1 in /usr/local/lib/python3.7/dist-packages (from -r requirements.txt (line 360)) (2.7.1)\n",
            "Requirement already satisfied: typing-extensions==3.7.4.3 in /usr/local/lib/python3.7/dist-packages (from -r requirements.txt (line 361)) (3.7.4.3)\n",
            "Requirement already satisfied: tzlocal==1.5.1 in /usr/local/lib/python3.7/dist-packages (from -r requirements.txt (line 362)) (1.5.1)\n",
            "Requirement already satisfied: uritemplate==3.0.1 in /usr/local/lib/python3.7/dist-packages (from -r requirements.txt (line 363)) (3.0.1)\n",
            "Requirement already satisfied: urllib3==1.24.3 in /usr/local/lib/python3.7/dist-packages (from -r requirements.txt (line 364)) (1.24.3)\n",
            "Requirement already satisfied: vega-datasets==0.9.0 in /usr/local/lib/python3.7/dist-packages (from -r requirements.txt (line 365)) (0.9.0)\n",
            "Requirement already satisfied: wasabi==0.8.2 in /usr/local/lib/python3.7/dist-packages (from -r requirements.txt (line 366)) (0.8.2)\n",
            "Requirement already satisfied: wcwidth==0.2.5 in /usr/local/lib/python3.7/dist-packages (from -r requirements.txt (line 367)) (0.2.5)\n",
            "Requirement already satisfied: webencodings==0.5.1 in /usr/local/lib/python3.7/dist-packages (from -r requirements.txt (line 368)) (0.5.1)\n",
            "Requirement already satisfied: Werkzeug==1.0.1 in /usr/local/lib/python3.7/dist-packages (from -r requirements.txt (line 369)) (1.0.1)\n",
            "Requirement already satisfied: widgetsnbextension==3.5.1 in /usr/local/lib/python3.7/dist-packages (from -r requirements.txt (line 370)) (3.5.1)\n",
            "Requirement already satisfied: wordcloud==1.5.0 in /usr/local/lib/python3.7/dist-packages (from -r requirements.txt (line 371)) (1.5.0)\n",
            "Requirement already satisfied: wrapt==1.12.1 in /usr/local/lib/python3.7/dist-packages (from -r requirements.txt (line 372)) (1.12.1)\n",
            "Requirement already satisfied: xarray==0.15.1 in /usr/local/lib/python3.7/dist-packages (from -r requirements.txt (line 373)) (0.15.1)\n",
            "Requirement already satisfied: xgboost==0.90 in /usr/local/lib/python3.7/dist-packages (from -r requirements.txt (line 374)) (0.90)\n",
            "Requirement already satisfied: xkit==0.0.0 in /usr/lib/python3/dist-packages (from -r requirements.txt (line 375)) (0.0.0)\n",
            "Requirement already satisfied: xlrd==1.1.0 in /usr/local/lib/python3.7/dist-packages (from -r requirements.txt (line 376)) (1.1.0)\n",
            "Requirement already satisfied: xlwt==1.3.0 in /usr/local/lib/python3.7/dist-packages (from -r requirements.txt (line 377)) (1.3.0)\n",
            "Requirement already satisfied: yellowbrick==0.9.1 in /usr/local/lib/python3.7/dist-packages (from -r requirements.txt (line 378)) (0.9.1)\n",
            "Requirement already satisfied: zict==2.0.0 in /usr/local/lib/python3.7/dist-packages (from -r requirements.txt (line 379)) (2.0.0)\n",
            "Requirement already satisfied: zipp==3.4.1 in /usr/local/lib/python3.7/dist-packages (from -r requirements.txt (line 380)) (3.4.1)\n",
            "Requirement already satisfied: wheel<1.0,>=0.23.0 in /usr/local/lib/python3.7/dist-packages (from astunparse==1.6.3->-r requirements.txt (line 9)) (0.36.2)\n",
            "Requirement already satisfied: setuptools in /usr/local/lib/python3.7/dist-packages (from chainer==7.4.0->-r requirements.txt (line 30)) (54.2.0)\n"
          ],
          "name": "stdout"
        }
      ]
    },
    {
      "cell_type": "code",
      "metadata": {
        "id": "V5vz040uDh1p"
      },
      "source": [
        "# importing libraries\n",
        "import matplotlib.pyplot as plt\n",
        "import pandas as pd\n",
        "import numpy as np\n",
        "\n",
        "from collections import Counter\n",
        "from pathlib import Path\n",
        "import requests\n",
        "import gzip\n",
        "import json\n",
        "import os\n",
        "import re\n",
        "\n",
        "from sklearn.model_selection import GridSearchCV, train_test_split\n",
        "from sklearn.linear_model import LinearRegression\n",
        "from sklearn.metrics import r2_score\n",
        "\n",
        "import xgboost as xgb\n",
        "\n",
        "\n",
        "from scholarmetrics import hindex, gindex\n",
        "import scipy.stats as ss"
      ],
      "execution_count": 2,
      "outputs": []
    },
    {
      "cell_type": "markdown",
      "metadata": {
        "id": "u0MxcyALDh1q"
      },
      "source": [
        "## 1. Parsing Data"
      ]
    },
    {
      "cell_type": "code",
      "metadata": {
        "id": "e0NUL23_Dh1r"
      },
      "source": [
        "# link to the manifest\n",
        "manifest = \"https://s3-us-west-2.amazonaws.com/ai2-s2-research-public/open-corpus/2021-03-01/manifest.txt\"\n",
        "\n",
        "response = requests.get(manifest)\n",
        "# according to the task we select only 30 files\n",
        "files = response.text.split('\\n')[:30]"
      ],
      "execution_count": 3,
      "outputs": []
    },
    {
      "cell_type": "code",
      "metadata": {
        "id": "ScWfVVQFDh1s"
      },
      "source": [
        "folder_to_save = \"data\"\n",
        "\n",
        "folder = Path(folder_to_save)\n",
        "# if folder does not exist then create it\n",
        "if not folder.is_dir():\n",
        "    folder.mkdir(parents=True)"
      ],
      "execution_count": 4,
      "outputs": []
    },
    {
      "cell_type": "code",
      "metadata": {
        "tags": [],
        "colab": {
          "base_uri": "https://localhost:8080/"
        },
        "id": "qMwlzDU6Dh1t",
        "outputId": "ff0bcdf6-92f2-4e90-9c74-fd3fdab940c9"
      },
      "source": [
        "# link to the corpus with files\n",
        "corpus_link = \"https://s3-us-west-2.amazonaws.com/ai2-s2-research-public/open-corpus/2021-03-01/\"\n",
        "\n",
        "# dataframe to store all article information\n",
        "article_info = pd.DataFrame()\n",
        "\n",
        "for file in files:\n",
        "    # make a request to the s3 service\n",
        "    response = requests.get(corpus_link + file)\n",
        "    # path to the file\n",
        "    path = os.path.join(folder_to_save, file)\n",
        "    # write contents of the reuqest to the file\n",
        "    with open(path, 'wb+') as f:\n",
        "        f.write(response.content)\n",
        "        \n",
        "    # unzip this file\n",
        "    with gzip.open(path, 'rb') as f:    \n",
        "        file_data = f.read()        \n",
        "\n",
        "    # make dataframe out of the file    \n",
        "    df = pd.read_json(file_data, orient='records', lines=True)\n",
        "    # join new dataframe with article_info dataframe \n",
        "    article_info = pd.concat([article_info, df])\n",
        "    # delete temporary dataframe\n",
        "    del df  \n",
        "        \n",
        "    print('Finished downloading one file')"
      ],
      "execution_count": 5,
      "outputs": [
        {
          "output_type": "stream",
          "text": [
            "Finished downloading one file\n",
            "Finished downloading one file\n",
            "Finished downloading one file\n",
            "Finished downloading one file\n",
            "Finished downloading one file\n",
            "Finished downloading one file\n",
            "Finished downloading one file\n",
            "Finished downloading one file\n",
            "Finished downloading one file\n",
            "Finished downloading one file\n",
            "Finished downloading one file\n",
            "Finished downloading one file\n",
            "Finished downloading one file\n",
            "Finished downloading one file\n",
            "Finished downloading one file\n",
            "Finished downloading one file\n",
            "Finished downloading one file\n",
            "Finished downloading one file\n",
            "Finished downloading one file\n",
            "Finished downloading one file\n",
            "Finished downloading one file\n",
            "Finished downloading one file\n",
            "Finished downloading one file\n",
            "Finished downloading one file\n",
            "Finished downloading one file\n",
            "Finished downloading one file\n",
            "Finished downloading one file\n",
            "Finished downloading one file\n",
            "Finished downloading one file\n",
            "Finished downloading one file\n"
          ],
          "name": "stdout"
        }
      ]
    },
    {
      "cell_type": "code",
      "metadata": {
        "colab": {
          "base_uri": "https://localhost:8080/",
          "height": 380
        },
        "id": "C0adjpO0Dh1v",
        "outputId": "7766a675-f8d7-47c4-cdfa-d5a9653b8eac"
      },
      "source": [
        "# set index 'id' and display few rows \n",
        "article_info.set_index('id', inplace=True)\n",
        "article_info.head(3)"
      ],
      "execution_count": 6,
      "outputs": [
        {
          "output_type": "execute_result",
          "data": {
            "text/html": [
              "<div>\n",
              "<style scoped>\n",
              "    .dataframe tbody tr th:only-of-type {\n",
              "        vertical-align: middle;\n",
              "    }\n",
              "\n",
              "    .dataframe tbody tr th {\n",
              "        vertical-align: top;\n",
              "    }\n",
              "\n",
              "    .dataframe thead th {\n",
              "        text-align: right;\n",
              "    }\n",
              "</style>\n",
              "<table border=\"1\" class=\"dataframe\">\n",
              "  <thead>\n",
              "    <tr style=\"text-align: right;\">\n",
              "      <th></th>\n",
              "      <th>title</th>\n",
              "      <th>paperAbstract</th>\n",
              "      <th>authors</th>\n",
              "      <th>inCitations</th>\n",
              "      <th>outCitations</th>\n",
              "      <th>year</th>\n",
              "      <th>s2Url</th>\n",
              "      <th>sources</th>\n",
              "      <th>pdfUrls</th>\n",
              "      <th>venue</th>\n",
              "      <th>journalName</th>\n",
              "      <th>journalVolume</th>\n",
              "      <th>journalPages</th>\n",
              "      <th>doi</th>\n",
              "      <th>doiUrl</th>\n",
              "      <th>pmid</th>\n",
              "      <th>fieldsOfStudy</th>\n",
              "      <th>magId</th>\n",
              "      <th>s2PdfUrl</th>\n",
              "      <th>entities</th>\n",
              "    </tr>\n",
              "    <tr>\n",
              "      <th>id</th>\n",
              "      <th></th>\n",
              "      <th></th>\n",
              "      <th></th>\n",
              "      <th></th>\n",
              "      <th></th>\n",
              "      <th></th>\n",
              "      <th></th>\n",
              "      <th></th>\n",
              "      <th></th>\n",
              "      <th></th>\n",
              "      <th></th>\n",
              "      <th></th>\n",
              "      <th></th>\n",
              "      <th></th>\n",
              "      <th></th>\n",
              "      <th></th>\n",
              "      <th></th>\n",
              "      <th></th>\n",
              "      <th></th>\n",
              "      <th></th>\n",
              "    </tr>\n",
              "  </thead>\n",
              "  <tbody>\n",
              "    <tr>\n",
              "      <th>33b237709dbd53953a750355115b57ccb6690da1</th>\n",
              "      <td>USING PHOTO IMAGES TO DETERMINE THE GEOMETRIC ...</td>\n",
              "      <td></td>\n",
              "      <td>[{'name': 'E  Popov', 'ids': ['144112922']}, {...</td>\n",
              "      <td>[]</td>\n",
              "      <td>[]</td>\n",
              "      <td>2019.0</td>\n",
              "      <td>https://semanticscholar.org/paper/33b237709dbd...</td>\n",
              "      <td>[]</td>\n",
              "      <td>[]</td>\n",
              "      <td></td>\n",
              "      <td></td>\n",
              "      <td>19</td>\n",
              "      <td>45-54</td>\n",
              "      <td>10.14529/build190307</td>\n",
              "      <td>https://doi.org/10.14529/build190307</td>\n",
              "      <td></td>\n",
              "      <td>[Computer Science]</td>\n",
              "      <td>3000193832</td>\n",
              "      <td></td>\n",
              "      <td>[]</td>\n",
              "    </tr>\n",
              "    <tr>\n",
              "      <th>062e9c7579adc73129e1198671d05905f07d4ab5</th>\n",
              "      <td>Clinical or Industrial Pharmacy? Case Studies ...</td>\n",
              "      <td>Automated medication dispensing systems for ho...</td>\n",
              "      <td>[{'name': 'J  Novek', 'ids': ['47586327']}]</td>\n",
              "      <td>[799bde07f3e9dc7f39d30ae9e1ac29cda9cd5a5c, 59a...</td>\n",
              "      <td>[a402dac75befed8c389fe00a3b6eed7ee8da87e1, 7d9...</td>\n",
              "      <td>1998.0</td>\n",
              "      <td>https://semanticscholar.org/paper/062e9c7579ad...</td>\n",
              "      <td>[Medline]</td>\n",
              "      <td>[]</td>\n",
              "      <td>International journal of health services : pla...</td>\n",
              "      <td>International Journal of Health Services</td>\n",
              "      <td>28</td>\n",
              "      <td>445 - 465</td>\n",
              "      <td>10.2190/W2BT-FGXQ-QL0G-YNL9</td>\n",
              "      <td>https://doi.org/10.2190/W2BT-FGXQ-QL0G-YNL9</td>\n",
              "      <td>9711475</td>\n",
              "      <td>[Medicine]</td>\n",
              "      <td>1988383910</td>\n",
              "      <td></td>\n",
              "      <td>[]</td>\n",
              "    </tr>\n",
              "    <tr>\n",
              "      <th>771723e7e2d9ed97d09442086553b726f0dd6657</th>\n",
              "      <td>Noncoronary and coronary atherothrombotic plaq...</td>\n",
              "      <td>In the future, the use of imaging methods to q...</td>\n",
              "      <td>[{'name': 'Zahi A Fayad', 'ids': ['1886137']}]</td>\n",
              "      <td>[ba2cbbac306fa374c7c07da398e31a52c5680a58, 494...</td>\n",
              "      <td>[3109764f646de80e096609f86b5e4bf19320c81c, aea...</td>\n",
              "      <td>2002.0</td>\n",
              "      <td>https://semanticscholar.org/paper/771723e7e2d9...</td>\n",
              "      <td>[Medline]</td>\n",
              "      <td>[]</td>\n",
              "      <td>Neuroimaging clinics of North America</td>\n",
              "      <td>Neuroimaging clinics of North America</td>\n",
              "      <td>12 3</td>\n",
              "      <td>\\n          461-71\\n</td>\n",
              "      <td>10.1016/S1052-5149(02)00023-0</td>\n",
              "      <td>https://doi.org/10.1016/S1052-5149%2802%2900023-0</td>\n",
              "      <td>12486833</td>\n",
              "      <td>[Medicine]</td>\n",
              "      <td>1983175018</td>\n",
              "      <td></td>\n",
              "      <td>[]</td>\n",
              "    </tr>\n",
              "  </tbody>\n",
              "</table>\n",
              "</div>"
            ],
            "text/plain": [
              "                                                                                      title  ... entities\n",
              "id                                                                                           ...         \n",
              "33b237709dbd53953a750355115b57ccb6690da1  USING PHOTO IMAGES TO DETERMINE THE GEOMETRIC ...  ...       []\n",
              "062e9c7579adc73129e1198671d05905f07d4ab5  Clinical or Industrial Pharmacy? Case Studies ...  ...       []\n",
              "771723e7e2d9ed97d09442086553b726f0dd6657  Noncoronary and coronary atherothrombotic plaq...  ...       []\n",
              "\n",
              "[3 rows x 20 columns]"
            ]
          },
          "metadata": {
            "tags": []
          },
          "execution_count": 6
        }
      ]
    },
    {
      "cell_type": "markdown",
      "metadata": {
        "id": "L79Dvxxkb15r"
      },
      "source": [
        "## 2. Data Pre-processing\n",
        "\n",
        "in this section we will discover our features and manipulate column data to get desirable features for machine learning stage."
      ]
    },
    {
      "cell_type": "code",
      "metadata": {
        "colab": {
          "base_uri": "https://localhost:8080/"
        },
        "id": "TONmBY7YFOJN",
        "outputId": "43a4929c-dad3-4a94-b106-0228744ebb4b"
      },
      "source": [
        "# our dataset is huge\n",
        "# we have about a 9.5k rows with 20 features\n",
        "article_info.shape"
      ],
      "execution_count": 7,
      "outputs": [
        {
          "output_type": "execute_result",
          "data": {
            "text/plain": [
              "(954657, 20)"
            ]
          },
          "metadata": {
            "tags": []
          },
          "execution_count": 7
        }
      ]
    },
    {
      "cell_type": "markdown",
      "metadata": {
        "id": "5EAqCgUKjF_8"
      },
      "source": [
        "let's look at our dataset\n",
        "we have a lot of noninteger columns, some are lists, some are urls\n",
        "we need to prepare this data to pass it to the ML model "
      ]
    },
    {
      "cell_type": "code",
      "metadata": {
        "colab": {
          "base_uri": "https://localhost:8080/",
          "height": 510
        },
        "id": "IKfeyQOxi7qc",
        "outputId": "e0457711-1621-46fe-ab93-8c4e7d8771a9"
      },
      "source": [
        "article_info.head(5)"
      ],
      "execution_count": 8,
      "outputs": [
        {
          "output_type": "execute_result",
          "data": {
            "text/html": [
              "<div>\n",
              "<style scoped>\n",
              "    .dataframe tbody tr th:only-of-type {\n",
              "        vertical-align: middle;\n",
              "    }\n",
              "\n",
              "    .dataframe tbody tr th {\n",
              "        vertical-align: top;\n",
              "    }\n",
              "\n",
              "    .dataframe thead th {\n",
              "        text-align: right;\n",
              "    }\n",
              "</style>\n",
              "<table border=\"1\" class=\"dataframe\">\n",
              "  <thead>\n",
              "    <tr style=\"text-align: right;\">\n",
              "      <th></th>\n",
              "      <th>title</th>\n",
              "      <th>paperAbstract</th>\n",
              "      <th>authors</th>\n",
              "      <th>inCitations</th>\n",
              "      <th>outCitations</th>\n",
              "      <th>year</th>\n",
              "      <th>s2Url</th>\n",
              "      <th>sources</th>\n",
              "      <th>pdfUrls</th>\n",
              "      <th>venue</th>\n",
              "      <th>journalName</th>\n",
              "      <th>journalVolume</th>\n",
              "      <th>journalPages</th>\n",
              "      <th>doi</th>\n",
              "      <th>doiUrl</th>\n",
              "      <th>pmid</th>\n",
              "      <th>fieldsOfStudy</th>\n",
              "      <th>magId</th>\n",
              "      <th>s2PdfUrl</th>\n",
              "      <th>entities</th>\n",
              "    </tr>\n",
              "    <tr>\n",
              "      <th>id</th>\n",
              "      <th></th>\n",
              "      <th></th>\n",
              "      <th></th>\n",
              "      <th></th>\n",
              "      <th></th>\n",
              "      <th></th>\n",
              "      <th></th>\n",
              "      <th></th>\n",
              "      <th></th>\n",
              "      <th></th>\n",
              "      <th></th>\n",
              "      <th></th>\n",
              "      <th></th>\n",
              "      <th></th>\n",
              "      <th></th>\n",
              "      <th></th>\n",
              "      <th></th>\n",
              "      <th></th>\n",
              "      <th></th>\n",
              "      <th></th>\n",
              "    </tr>\n",
              "  </thead>\n",
              "  <tbody>\n",
              "    <tr>\n",
              "      <th>33b237709dbd53953a750355115b57ccb6690da1</th>\n",
              "      <td>USING PHOTO IMAGES TO DETERMINE THE GEOMETRIC ...</td>\n",
              "      <td></td>\n",
              "      <td>[{'name': 'E  Popov', 'ids': ['144112922']}, {...</td>\n",
              "      <td>[]</td>\n",
              "      <td>[]</td>\n",
              "      <td>2019.0</td>\n",
              "      <td>https://semanticscholar.org/paper/33b237709dbd...</td>\n",
              "      <td>[]</td>\n",
              "      <td>[]</td>\n",
              "      <td></td>\n",
              "      <td></td>\n",
              "      <td>19</td>\n",
              "      <td>45-54</td>\n",
              "      <td>10.14529/build190307</td>\n",
              "      <td>https://doi.org/10.14529/build190307</td>\n",
              "      <td></td>\n",
              "      <td>[Computer Science]</td>\n",
              "      <td>3000193832</td>\n",
              "      <td></td>\n",
              "      <td>[]</td>\n",
              "    </tr>\n",
              "    <tr>\n",
              "      <th>062e9c7579adc73129e1198671d05905f07d4ab5</th>\n",
              "      <td>Clinical or Industrial Pharmacy? Case Studies ...</td>\n",
              "      <td>Automated medication dispensing systems for ho...</td>\n",
              "      <td>[{'name': 'J  Novek', 'ids': ['47586327']}]</td>\n",
              "      <td>[799bde07f3e9dc7f39d30ae9e1ac29cda9cd5a5c, 59a...</td>\n",
              "      <td>[a402dac75befed8c389fe00a3b6eed7ee8da87e1, 7d9...</td>\n",
              "      <td>1998.0</td>\n",
              "      <td>https://semanticscholar.org/paper/062e9c7579ad...</td>\n",
              "      <td>[Medline]</td>\n",
              "      <td>[]</td>\n",
              "      <td>International journal of health services : pla...</td>\n",
              "      <td>International Journal of Health Services</td>\n",
              "      <td>28</td>\n",
              "      <td>445 - 465</td>\n",
              "      <td>10.2190/W2BT-FGXQ-QL0G-YNL9</td>\n",
              "      <td>https://doi.org/10.2190/W2BT-FGXQ-QL0G-YNL9</td>\n",
              "      <td>9711475</td>\n",
              "      <td>[Medicine]</td>\n",
              "      <td>1988383910</td>\n",
              "      <td></td>\n",
              "      <td>[]</td>\n",
              "    </tr>\n",
              "    <tr>\n",
              "      <th>771723e7e2d9ed97d09442086553b726f0dd6657</th>\n",
              "      <td>Noncoronary and coronary atherothrombotic plaq...</td>\n",
              "      <td>In the future, the use of imaging methods to q...</td>\n",
              "      <td>[{'name': 'Zahi A Fayad', 'ids': ['1886137']}]</td>\n",
              "      <td>[ba2cbbac306fa374c7c07da398e31a52c5680a58, 494...</td>\n",
              "      <td>[3109764f646de80e096609f86b5e4bf19320c81c, aea...</td>\n",
              "      <td>2002.0</td>\n",
              "      <td>https://semanticscholar.org/paper/771723e7e2d9...</td>\n",
              "      <td>[Medline]</td>\n",
              "      <td>[]</td>\n",
              "      <td>Neuroimaging clinics of North America</td>\n",
              "      <td>Neuroimaging clinics of North America</td>\n",
              "      <td>12 3</td>\n",
              "      <td>\\n          461-71\\n</td>\n",
              "      <td>10.1016/S1052-5149(02)00023-0</td>\n",
              "      <td>https://doi.org/10.1016/S1052-5149%2802%2900023-0</td>\n",
              "      <td>12486833</td>\n",
              "      <td>[Medicine]</td>\n",
              "      <td>1983175018</td>\n",
              "      <td></td>\n",
              "      <td>[]</td>\n",
              "    </tr>\n",
              "    <tr>\n",
              "      <th>263f70167ba7def67a2843ffc30c80a0b9b3f617</th>\n",
              "      <td>국어 명사구 접속의 연구</td>\n",
              "      <td></td>\n",
              "      <td>[{'name': '최재희', 'ids': ['115087709']}]</td>\n",
              "      <td>[]</td>\n",
              "      <td>[]</td>\n",
              "      <td>1985.0</td>\n",
              "      <td>https://semanticscholar.org/paper/263f70167ba7...</td>\n",
              "      <td>[]</td>\n",
              "      <td>[]</td>\n",
              "      <td></td>\n",
              "      <td></td>\n",
              "      <td></td>\n",
              "      <td></td>\n",
              "      <td></td>\n",
              "      <td></td>\n",
              "      <td></td>\n",
              "      <td>[]</td>\n",
              "      <td>2291560164</td>\n",
              "      <td></td>\n",
              "      <td>[]</td>\n",
              "    </tr>\n",
              "    <tr>\n",
              "      <th>9ea1148fa657103879ef7ed9a5b716be48ee13a4</th>\n",
              "      <td>Who'll Take My Place : When I'm Gone</td>\n",
              "      <td></td>\n",
              "      <td>[{'name': 'Billy  Fazioli', 'ids': ['146257415...</td>\n",
              "      <td>[]</td>\n",
              "      <td>[]</td>\n",
              "      <td>2018.0</td>\n",
              "      <td>https://semanticscholar.org/paper/9ea1148fa657...</td>\n",
              "      <td>[]</td>\n",
              "      <td>[https://digitalcommons.library.umaine.edu/cgi...</td>\n",
              "      <td></td>\n",
              "      <td></td>\n",
              "      <td></td>\n",
              "      <td></td>\n",
              "      <td></td>\n",
              "      <td></td>\n",
              "      <td></td>\n",
              "      <td>[Art]</td>\n",
              "      <td>1489188979</td>\n",
              "      <td></td>\n",
              "      <td>[]</td>\n",
              "    </tr>\n",
              "  </tbody>\n",
              "</table>\n",
              "</div>"
            ],
            "text/plain": [
              "                                                                                      title  ... entities\n",
              "id                                                                                           ...         \n",
              "33b237709dbd53953a750355115b57ccb6690da1  USING PHOTO IMAGES TO DETERMINE THE GEOMETRIC ...  ...       []\n",
              "062e9c7579adc73129e1198671d05905f07d4ab5  Clinical or Industrial Pharmacy? Case Studies ...  ...       []\n",
              "771723e7e2d9ed97d09442086553b726f0dd6657  Noncoronary and coronary atherothrombotic plaq...  ...       []\n",
              "263f70167ba7def67a2843ffc30c80a0b9b3f617                                      국어 명사구 접속의 연구  ...       []\n",
              "9ea1148fa657103879ef7ed9a5b716be48ee13a4               Who'll Take My Place : When I'm Gone  ...       []\n",
              "\n",
              "[5 rows x 20 columns]"
            ]
          },
          "metadata": {
            "tags": []
          },
          "execution_count": 8
        }
      ]
    },
    {
      "cell_type": "markdown",
      "metadata": {
        "id": "NTO6Hq8sfPS2"
      },
      "source": [
        "### 2.1 inCitations or outCitations?\n",
        "\n",
        "Which of those two features refer to the papers which have cited the paper?\n",
        "\n",
        "let's find out"
      ]
    },
    {
      "cell_type": "code",
      "metadata": {
        "colab": {
          "base_uri": "https://localhost:8080/",
          "height": 35
        },
        "id": "p3dlb0D6gUGD",
        "outputId": "69389c6a-c050-4224-b2fa-165dffc26b55"
      },
      "source": [
        "article_info.loc['d2ffe43c1eb26d971c0103bee923c719b2866b65'].title"
      ],
      "execution_count": 9,
      "outputs": [
        {
          "output_type": "execute_result",
          "data": {
            "application/vnd.google.colaboratory.intrinsic+json": {
              "type": "string"
            },
            "text/plain": [
              "'Smyd3-associated regulatory pathways in cancer.'"
            ]
          },
          "metadata": {
            "tags": []
          },
          "execution_count": 9
        }
      ]
    },
    {
      "cell_type": "code",
      "metadata": {
        "colab": {
          "base_uri": "https://localhost:8080/"
        },
        "id": "7wO1ZytNgWzI",
        "outputId": "b59415e1-e3d9-4764-b42b-4a235d3b6658"
      },
      "source": [
        "len(article_info.loc['d2ffe43c1eb26d971c0103bee923c719b2866b65'].outCitations)"
      ],
      "execution_count": 10,
      "outputs": [
        {
          "output_type": "execute_result",
          "data": {
            "text/plain": [
              "177"
            ]
          },
          "metadata": {
            "tags": []
          },
          "execution_count": 10
        }
      ]
    },
    {
      "cell_type": "code",
      "metadata": {
        "colab": {
          "base_uri": "https://localhost:8080/"
        },
        "id": "GymIGUirgZo2",
        "outputId": "fc5d9fbe-7af9-460a-9199-05b1b9600d4f"
      },
      "source": [
        "len(article_info.loc['d2ffe43c1eb26d971c0103bee923c719b2866b65'].inCitations)"
      ],
      "execution_count": 11,
      "outputs": [
        {
          "output_type": "execute_result",
          "data": {
            "text/plain": [
              "22"
            ]
          },
          "metadata": {
            "tags": []
          },
          "execution_count": 11
        }
      ]
    },
    {
      "cell_type": "markdown",
      "metadata": {
        "id": "sFmSqCe_hbJt"
      },
      "source": [
        "I have found this paper and looked to the references. According to the screenshot below, we can see that paper with id d2ffe43c1eb26d971c0103bee923c719b2866b65 has `177` citations, thus `outCitations` refer to the papers which have been cited in the paper. \n",
        "\n",
        "But, we need `inCitations` needed to count number of papers `cited our paper`"
      ]
    },
    {
      "cell_type": "markdown",
      "metadata": {
        "id": "nbKNMFW0AH-r"
      },
      "source": [
        "![Untitled.png](data:image/png;base64,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)"
      ]
    },
    {
      "cell_type": "markdown",
      "metadata": {
        "id": "ccwpMkjOgETp"
      },
      "source": [
        "\n",
        "### 2.2 Moving inCitations to another dataframe\n",
        "\n",
        "We will need to use citations information for building our model, this column will be our target variable, and we will do some operations with this column\n",
        "\n",
        "Thus we will take it out to another dataframe"
      ]
    },
    {
      "cell_type": "code",
      "metadata": {
        "colab": {
          "base_uri": "https://localhost:8080/"
        },
        "id": "T281cRn6Dh1v",
        "outputId": "d00c53b5-59bc-4caf-9d02-1e05a45c379c"
      },
      "source": [
        "inCitations = article_info.inCitations\n",
        "inCitations.head(3)"
      ],
      "execution_count": 12,
      "outputs": [
        {
          "output_type": "execute_result",
          "data": {
            "text/plain": [
              "id\n",
              "33b237709dbd53953a750355115b57ccb6690da1                                                   []\n",
              "062e9c7579adc73129e1198671d05905f07d4ab5    [799bde07f3e9dc7f39d30ae9e1ac29cda9cd5a5c, 59a...\n",
              "771723e7e2d9ed97d09442086553b726f0dd6657    [ba2cbbac306fa374c7c07da398e31a52c5680a58, 494...\n",
              "Name: inCitations, dtype: object"
            ]
          },
          "metadata": {
            "tags": []
          },
          "execution_count": 12
        }
      ]
    },
    {
      "cell_type": "code",
      "metadata": {
        "id": "v1IR5z7vDh1w"
      },
      "source": [
        "# drop redundant column\n",
        "article_info.drop('inCitations', axis=1, inplace=True)"
      ],
      "execution_count": 13,
      "outputs": []
    },
    {
      "cell_type": "code",
      "metadata": {
        "colab": {
          "base_uri": "https://localhost:8080/"
        },
        "id": "1nHL00onpFwV",
        "outputId": "2183d9af-ae64-401c-ebb5-45ade87d7c90"
      },
      "source": [
        "inCitations"
      ],
      "execution_count": 26,
      "outputs": [
        {
          "output_type": "execute_result",
          "data": {
            "text/plain": [
              "id\n",
              "33b237709dbd53953a750355115b57ccb6690da1                                                   []\n",
              "062e9c7579adc73129e1198671d05905f07d4ab5    [799bde07f3e9dc7f39d30ae9e1ac29cda9cd5a5c, 59a...\n",
              "771723e7e2d9ed97d09442086553b726f0dd6657    [ba2cbbac306fa374c7c07da398e31a52c5680a58, 494...\n",
              "263f70167ba7def67a2843ffc30c80a0b9b3f617                                                   []\n",
              "9ea1148fa657103879ef7ed9a5b716be48ee13a4                                                   []\n",
              "                                                                  ...                        \n",
              "4c61aa8e7e85a88491e531b1983e3e85a6c82894    [faf8fd51c01b2db5cadfb15c1e63821a7f0f4883, 629...\n",
              "0fae8e72274e9bc72dc31dc9b4f86aa617593706                                                   []\n",
              "23a26492083561549b6eec014db0b539be62b3be                                                   []\n",
              "e2e97b3e97dd33d49a76c2ce757efbdff4a526ba    [eb2b8b941268db89575daaac130542dc82e3705a, e07...\n",
              "e3d5bbcd80b5b5927799164a8538d62966492fe5                                                   []\n",
              "Name: inCitations, Length: 954657, dtype: object"
            ]
          },
          "metadata": {
            "tags": []
          },
          "execution_count": 26
        }
      ]
    },
    {
      "cell_type": "markdown",
      "metadata": {
        "id": "pz-GVs7QfD_N"
      },
      "source": [
        "### 2.3 Clean year column"
      ]
    },
    {
      "cell_type": "code",
      "metadata": {
        "id": "OWe82e_gDh1x"
      },
      "source": [
        "# there are some papers with no year specified.\n",
        "# We will not consider such papers as we have year dependent constraint\n",
        "article_info.dropna(inplace=True)\n",
        "# year column currently is of type float\n",
        "article_info.year = article_info.year.astype(int) "
      ],
      "execution_count": 14,
      "outputs": []
    },
    {
      "cell_type": "markdown",
      "metadata": {
        "id": "MDo-TPb0eHjB"
      },
      "source": [
        "### 2.4 Clean authors column"
      ]
    },
    {
      "cell_type": "markdown",
      "metadata": {
        "id": "fAYqTQmpdKBL"
      },
      "source": [
        "As you can observe we have list of authors, we cannot use such feature. Thus, I will remove redundant data. Not every author in our dataset has id, thus will keep only names."
      ]
    },
    {
      "cell_type": "code",
      "metadata": {
        "colab": {
          "base_uri": "https://localhost:8080/"
        },
        "id": "hQETOYLodFhr",
        "outputId": "1d5eb962-9b36-4ebf-b847-39b8aab24414"
      },
      "source": [
        "article_info.authors.head(3)"
      ],
      "execution_count": 15,
      "outputs": [
        {
          "output_type": "execute_result",
          "data": {
            "text/plain": [
              "id\n",
              "33b237709dbd53953a750355115b57ccb6690da1    [{'name': 'E  Popov', 'ids': ['144112922']}, {...\n",
              "062e9c7579adc73129e1198671d05905f07d4ab5          [{'name': 'J  Novek', 'ids': ['47586327']}]\n",
              "771723e7e2d9ed97d09442086553b726f0dd6657       [{'name': 'Zahi A Fayad', 'ids': ['1886137']}]\n",
              "Name: authors, dtype: object"
            ]
          },
          "metadata": {
            "tags": []
          },
          "execution_count": 15
        }
      ]
    },
    {
      "cell_type": "code",
      "metadata": {
        "id": "1sDEdtm1GbJY"
      },
      "source": [
        "# get only names\n",
        "def clean_authors_row(row):\n",
        "    return [author['name'] for author in row]\n",
        "\n",
        "# apply function for each row in the dataframe\n",
        "article_info.authors = article_info.authors.apply(clean_authors_row)"
      ],
      "execution_count": 16,
      "outputs": []
    },
    {
      "cell_type": "markdown",
      "metadata": {
        "id": "Hr2nZZrNeV3O"
      },
      "source": [
        "### 2.5 Clean journalPages column"
      ]
    },
    {
      "cell_type": "markdown",
      "metadata": {
        "id": "wg4c4RNmj9Vk"
      },
      "source": [
        "As you can see that journalPages column is very messy. We have string of different formats. We need to take out numbers from the string and calculate difference"
      ]
    },
    {
      "cell_type": "code",
      "metadata": {
        "colab": {
          "base_uri": "https://localhost:8080/"
        },
        "id": "C9k_g_k5kAs2",
        "outputId": "b6cdb2b5-c2f8-4ae7-c6b5-6d1f6bdf3f27"
      },
      "source": [
        "article_info.journalPages"
      ],
      "execution_count": 17,
      "outputs": [
        {
          "output_type": "execute_result",
          "data": {
            "text/plain": [
              "id\n",
              "33b237709dbd53953a750355115b57ccb6690da1                           45-54\n",
              "062e9c7579adc73129e1198671d05905f07d4ab5                       445 - 465\n",
              "771723e7e2d9ed97d09442086553b726f0dd6657    \\n          461-71\\n        \n",
              "263f70167ba7def67a2843ffc30c80a0b9b3f617                                \n",
              "9ea1148fa657103879ef7ed9a5b716be48ee13a4                                \n",
              "                                                        ...             \n",
              "4c61aa8e7e85a88491e531b1983e3e85a6c82894     \\n          453-8\\n        \n",
              "0fae8e72274e9bc72dc31dc9b4f86aa617593706                                \n",
              "23a26492083561549b6eec014db0b539be62b3be                                \n",
              "e2e97b3e97dd33d49a76c2ce757efbdff4a526ba                         543-544\n",
              "e3d5bbcd80b5b5927799164a8538d62966492fe5    \\n          99-107\\n        \n",
              "Name: journalPages, Length: 950001, dtype: object"
            ]
          },
          "metadata": {
            "tags": []
          },
          "execution_count": 17
        }
      ]
    },
    {
      "cell_type": "code",
      "metadata": {
        "id": "igtngTIeI3cS"
      },
      "source": [
        "def clean_journal_pages(row):\n",
        "    # find strings which have `number-number` structure\n",
        "    fstring = re.sub(\"[^0-9-|–]\", \"\", row).replace(' ', '')\n",
        "    try:\n",
        "        regex_result = re.findall('[A-Za-z]*[0-9]*-[A-Za-z]*[0-9]*', fstring)[0]\n",
        "        result = regex_result.split('-')\n",
        "        left, right = int(result[0]), int(result[1])\n",
        "        return int(max(right, left) - min(right, left))\n",
        "    except:\n",
        "        pass\n",
        "\n",
        "    # in case there are no boundaries specified\n",
        "    # instead if there is one number then we will keep it as it is\n",
        "    # however if the number is very huge it is unlikely that it denotes the page number\n",
        "    try:\n",
        "        n = int(fstring)\n",
        "        if n > 1000 or n < 0:\n",
        "            return np.nan\n",
        "\n",
        "        return int(n)\n",
        "    except:\n",
        "        return np.nan\n",
        "\n",
        "    return np.nan\n",
        "\n",
        "# apply function to each row\n",
        "article_info.journalPagesz = article_info.journalPages.apply(clean_journal_pages)"
      ],
      "execution_count": 19,
      "outputs": []
    },
    {
      "cell_type": "markdown",
      "metadata": {
        "id": "OQ45KO4uxAoI"
      },
      "source": [
        "### 2.6 Calculate author number for each paper\n",
        "\n",
        "We can create new feature from the number of authors as a list of authors cannot be a feature itself. And machine learning models work better with numbers"
      ]
    },
    {
      "cell_type": "code",
      "metadata": {
        "id": "Y1tG1M1N4qyH"
      },
      "source": [
        "# find len of each list in column authors\n",
        "article_info['n_authors'] = article_info.authors.apply(lambda x: len(x))"
      ],
      "execution_count": 23,
      "outputs": []
    },
    {
      "cell_type": "markdown",
      "metadata": {
        "id": "3CE4Renyl5hh"
      },
      "source": [
        "### 2.7 Calculate citations for papers and authors\n",
        "\n",
        "our target variable is a number of citations within 5 years since publishing. \n",
        "\n",
        "while calculating citation count for paper we will calculate for authors too. To use later to find [h-index](https://en.wikipedia.org/wiki/H-index), [g-index](https://en.wikipedia.org/wiki/G-index) and more fair index calculation based on dividing number of citations over the number of authors of the paper.\n",
        "\n"
      ]
    },
    {
      "cell_type": "code",
      "metadata": {
        "id": "tnm4l9ap7of1"
      },
      "source": [
        "def count_citations(inCitations, article_info):\n",
        "    paper_citation_counter = Counter()\n",
        "    author_citation_counter = Counter()\n",
        "    fair_author_citation_counter = Counter()\n",
        "\n",
        "    # for each paper in the dataframe\n",
        "    for article_index in article_info.index:\n",
        "        # for each paper which cited our paper\n",
        "        for cited_article_id in inCitations.loc[article_index]:\n",
        "            # find year of publication\n",
        "            paper_year = article_info.loc[article_index].year\n",
        "\n",
        "            # we use `try` since cited papers might not be in our dataset\n",
        "            try:\n",
        "                cited_paper_year = article_info.loc[cited_article_id].year\n",
        "            except:\n",
        "                continue\n",
        "\n",
        "            # if citation happend within 5 years since publication\n",
        "            if cited_paper_year - paper_year < 5:\n",
        "                \n",
        "                # update paper citation counter\n",
        "                if article_index in paper_citation_counter:\n",
        "                    paper_citation_counter[article_index] += 1\n",
        "                else:\n",
        "                    paper_citation_counter[article_index] = 1\n",
        "\n",
        "                # find author number\n",
        "                authors_n = len(article_info.loc[article_index].authors)\n",
        "                # update authors citation counters\n",
        "                for author in article_info.loc[article_index].authors:\n",
        "                    if  author in author_citation_counter: \n",
        "                        author_citation_counter[author][article_index] += 1\n",
        "                        # divide 1 to the number of authors in the paper\n",
        "                        fair_author_citation_counter[author][article_index] += 1 / authors_n\n",
        "                    else:\n",
        "                        author_citation_counter[author] = Counter()\n",
        "                        author_citation_counter[author][article_index] = 1\n",
        "                        \n",
        "                        fair_author_citation_counter[author] = Counter()\n",
        "                        # divide 1 to the number of authors in the paper\n",
        "                        fair_author_citation_counter[author][article_index] = 1 / authors_n\n",
        "    \n",
        "    return pd.Series(paper_citation_counter), author_citation_counter, fair_author_citation_counter\n",
        "\n",
        "\n",
        "citation_info, author_citation_info, fair_author_citation_counter = count_citations(inCitations,\n",
        "                                                                                    article_info)"
      ],
      "execution_count": 27,
      "outputs": []
    },
    {
      "cell_type": "markdown",
      "metadata": {
        "id": "nXGynP1Fe5Sm"
      },
      "source": [
        "We can observe that we have imbalanced data"
      ]
    },
    {
      "cell_type": "code",
      "metadata": {
        "colab": {
          "base_uri": "https://localhost:8080/"
        },
        "id": "1My04sfrelYF",
        "outputId": "24afda70-2abd-4603-d308-4060eb995634"
      },
      "source": [
        "citation_info.value_counts()"
      ],
      "execution_count": 28,
      "outputs": [
        {
          "output_type": "execute_result",
          "data": {
            "text/plain": [
              "1     11800\n",
              "2       865\n",
              "3       140\n",
              "4        50\n",
              "5        20\n",
              "6         6\n",
              "8         5\n",
              "7         3\n",
              "12        2\n",
              "10        2\n",
              "15        1\n",
              "13        1\n",
              "dtype: int64"
            ]
          },
          "metadata": {
            "tags": []
          },
          "execution_count": 28
        }
      ]
    },
    {
      "cell_type": "markdown",
      "metadata": {
        "id": "X8Lh0PAkqIBl"
      },
      "source": [
        "### 2.8 Find authors mean rank\n",
        "\n",
        "for each paper find mean rank of authors"
      ]
    },
    {
      "cell_type": "code",
      "metadata": {
        "id": "MJXH1q-DEiKb"
      },
      "source": [
        "# authors_mean_rank\n",
        "# find number of citations each author has, then rank each author by the number of citations\n",
        "\n",
        "# sort by author citations count\n",
        "ordered_authors_citation = sorted(fair_author_citation_counter.items(),\n",
        "                                  key=lambda x: sum(x[1].values()),\n",
        "                                  reverse=True)\n",
        "# make a dictionary of author: cite_count\n",
        "authors_citations_count = {citations[0]: sum(citations[1].values()) for citations in ordered_authors_citation}\n",
        "# get keys and assign each key its rank(by order which they appear)\n",
        "authors_ranks = ss.rankdata(list(authors_citations_count.values()))"
      ],
      "execution_count": 29,
      "outputs": []
    },
    {
      "cell_type": "code",
      "metadata": {
        "id": "0N1h9HLbgAwN"
      },
      "source": [
        "# make a dataframe from ranking values\n",
        "author_ranks = pd.DataFrame(authors_ranks, index=authors_citations_count.keys())"
      ],
      "execution_count": 30,
      "outputs": []
    },
    {
      "cell_type": "code",
      "metadata": {
        "colab": {
          "base_uri": "https://localhost:8080/"
        },
        "id": "3amkQnJflE0t",
        "outputId": "a0ae55e5-9089-4765-9cef-9edf490a1ba5"
      },
      "source": [
        "def find_mean(authors):\n",
        "    total = []\n",
        "    for author in authors:\n",
        "        if author in author_ranks.index:\n",
        "            total.append(author_ranks.loc[author])\n",
        "        else:\n",
        "            total.append(len(author_ranks))\n",
        "\n",
        "    return np.mean(total)\n",
        "    \n",
        "mean_author_ranks = article_info.authors.apply(find_mean)"
      ],
      "execution_count": 31,
      "outputs": [
        {
          "output_type": "stream",
          "text": [
            "/usr/local/lib/python3.7/dist-packages/numpy/core/_asarray.py:136: VisibleDeprecationWarning: Creating an ndarray from ragged nested sequences (which is a list-or-tuple of lists-or-tuples-or ndarrays with different lengths or shapes) is deprecated. If you meant to do this, you must specify 'dtype=object' when creating the ndarray\n",
            "  return array(a, dtype, copy=False, order=order, subok=True)\n",
            "/usr/local/lib/python3.7/dist-packages/numpy/core/fromnumeric.py:3373: RuntimeWarning: Mean of empty slice.\n",
            "  out=out, **kwargs)\n"
          ],
          "name": "stderr"
        }
      ]
    },
    {
      "cell_type": "code",
      "metadata": {
        "id": "5qzUwanjms18"
      },
      "source": [
        "article_info['authors_mean_rank'] = mean_author_ranks"
      ],
      "execution_count": 32,
      "outputs": []
    },
    {
      "cell_type": "markdown",
      "metadata": {
        "id": "nCIhDA1Lqf0n"
      },
      "source": [
        "### 2.9 Calculate productivity and citation-impact of authors\n",
        "\n",
        "We will stick to previously specified indexes h-index, g-index as they are widely known and used(especially h-index)"
      ]
    },
    {
      "cell_type": "code",
      "metadata": {
        "id": "H5FW79MD_U1H"
      },
      "source": [
        "from scholarmetrics import hindex\n",
        "from scholarmetrics import gindex\n",
        "\n",
        "\n",
        "def calc_scholarmetrics(citation_info, article_info, author_citation_info):\n",
        "    mean_h_values = Counter()\n",
        "    mean_g_values = Counter()\n",
        "\n",
        "    for article_index in article_info.index:\n",
        "        h_indexes = []\n",
        "        g_indexes = []\n",
        "\n",
        "        for author in article_info.loc[article_index].authors:\n",
        "            try:\n",
        "                author_citation_counter = author_citation_info[author]\n",
        "                if author_citation_counter == 0:\n",
        "                    citation_counts = 0\n",
        "                else:\n",
        "                    citation_counts = list(author_citation_counter.values())\n",
        "            except:\n",
        "                print(author, author_citation_info[author])\n",
        "\n",
        "            h_index = hindex(citation_counts)\n",
        "            g_index = gindex(citation_counts)\n",
        "\n",
        "            h_indexes.append(h_index)\n",
        "            g_indexes.append(g_index)\n",
        "\n",
        "        mean_h_values[article_index] = 0 if len(h_indexes) == 0 else np.mean(h_indexes)\n",
        "        mean_g_values[article_index] = 0 if len(g_indexes) == 0 else np.mean(g_indexes)\n",
        "\n",
        "    return mean_h_values, mean_g_values\n",
        "\n",
        "\n",
        "mean_h_values, mean_g_values = calc_scholarmetrics(citation_info, \n",
        "                                                   article_info,\n",
        "                                                   author_citation_info)\n",
        "\n",
        "article_info['authors_mean_hindex'] = pd.DataFrame.from_dict(mean_h_values, orient='index')\n",
        "article_info['authors_mean_gindex'] = pd.DataFrame.from_dict(mean_g_values, orient='index')"
      ],
      "execution_count": 33,
      "outputs": []
    },
    {
      "cell_type": "markdown",
      "metadata": {
        "id": "2_Wb0YrixiYt"
      },
      "source": [
        "### 2.10 Generate features from text data\n",
        "\n",
        "we have abstract and title of each paper, we can use length of these features for better predictions"
      ]
    },
    {
      "cell_type": "code",
      "metadata": {
        "colab": {
          "base_uri": "https://localhost:8080/",
          "height": 214
        },
        "id": "x5rA24Mdw_IB",
        "outputId": "b8ed4c89-b677-432e-9c71-1046d993ef27"
      },
      "source": [
        "get_len = lambda x: len(x) if x is not np.nan else 0\n",
        "\n",
        "article_info['title_len'] = article_info.title.apply(gen_len)\n",
        "article_info['abstract_len'] = article_info.paperAbstract.apply(get_len) "
      ],
      "execution_count": 34,
      "outputs": [
        {
          "output_type": "error",
          "ename": "NameError",
          "evalue": "ignored",
          "traceback": [
            "\u001b[0;31m---------------------------------------------------------------------------\u001b[0m",
            "\u001b[0;31mNameError\u001b[0m                                 Traceback (most recent call last)",
            "\u001b[0;32m<ipython-input-34-da5588d0d58a>\u001b[0m in \u001b[0;36m<module>\u001b[0;34m()\u001b[0m\n\u001b[1;32m      1\u001b[0m \u001b[0mget_len\u001b[0m \u001b[0;34m=\u001b[0m \u001b[0;32mlambda\u001b[0m \u001b[0mx\u001b[0m\u001b[0;34m:\u001b[0m \u001b[0mlen\u001b[0m\u001b[0;34m(\u001b[0m\u001b[0mx\u001b[0m\u001b[0;34m)\u001b[0m \u001b[0;32mif\u001b[0m \u001b[0mx\u001b[0m \u001b[0;32mis\u001b[0m \u001b[0;32mnot\u001b[0m \u001b[0mnp\u001b[0m\u001b[0;34m.\u001b[0m\u001b[0mnan\u001b[0m \u001b[0;32melse\u001b[0m \u001b[0;36m0\u001b[0m\u001b[0;34m\u001b[0m\u001b[0;34m\u001b[0m\u001b[0m\n\u001b[1;32m      2\u001b[0m \u001b[0;34m\u001b[0m\u001b[0m\n\u001b[0;32m----> 3\u001b[0;31m \u001b[0marticle_info\u001b[0m\u001b[0;34m[\u001b[0m\u001b[0;34m'title_len'\u001b[0m\u001b[0;34m]\u001b[0m \u001b[0;34m=\u001b[0m \u001b[0marticle_info\u001b[0m\u001b[0;34m.\u001b[0m\u001b[0mtitle\u001b[0m\u001b[0;34m.\u001b[0m\u001b[0mapply\u001b[0m\u001b[0;34m(\u001b[0m\u001b[0mgen_len\u001b[0m\u001b[0;34m)\u001b[0m\u001b[0;34m\u001b[0m\u001b[0;34m\u001b[0m\u001b[0m\n\u001b[0m\u001b[1;32m      4\u001b[0m \u001b[0marticle_info\u001b[0m\u001b[0;34m[\u001b[0m\u001b[0;34m'abstract_len'\u001b[0m\u001b[0;34m]\u001b[0m \u001b[0;34m=\u001b[0m \u001b[0marticle_info\u001b[0m\u001b[0;34m.\u001b[0m\u001b[0mpaperAbstract\u001b[0m\u001b[0;34m.\u001b[0m\u001b[0mapply\u001b[0m\u001b[0;34m(\u001b[0m\u001b[0mget_len\u001b[0m\u001b[0;34m)\u001b[0m\u001b[0;34m\u001b[0m\u001b[0;34m\u001b[0m\u001b[0m\n",
            "\u001b[0;31mNameError\u001b[0m: name 'gen_len' is not defined"
          ]
        }
      ]
    },
    {
      "cell_type": "markdown",
      "metadata": {
        "id": "lWtN7oo-rSxY"
      },
      "source": [
        "### 2.11 Calculate topic ranks"
      ]
    },
    {
      "cell_type": "code",
      "metadata": {
        "id": "DlbeBUL8MPCX"
      },
      "source": [
        "# topic_rank\n",
        "topic_counter = Counter()\n",
        "\n",
        "for topics in article_info.fieldsOfStudy:\n",
        "    if len(topics) == 0:\n",
        "        # ' ' refers to the empty topic\n",
        "        if ' ' not in topic_counter:\n",
        "            topic_counter[' '] = 1\n",
        "        else:\n",
        "            topic_counter[' '] += 1\n",
        "\n",
        "    for topic in topics:\n",
        "        if topic not in topic_counter:\n",
        "            topic_counter[topic] = 1\n",
        "        else:\n",
        "            topic_counter[topic] += 1\n",
        "\n",
        "topics_ranked = [element[0] for element in topic_counter.most_common()]\n",
        "\n",
        "# we have 19 unique topics, excluding empty topic\n",
        "if len(topics_ranked) == 19:\n",
        "    topics_ranked.append('')  # to handle articles without field of study specified"
      ],
      "execution_count": 35,
      "outputs": []
    },
    {
      "cell_type": "code",
      "metadata": {
        "id": "COzSmzQbO2EJ"
      },
      "source": [
        "# assign ranks for each topic\n",
        "reversed_topics = topics_ranked[::-1]\n",
        "\n",
        "def map_rank(x):\n",
        "    if len(x) == 0:\n",
        "        return reversed_topics.index(' ') + 1\n",
        "    else:\n",
        "        return reversed_topics.index(x[0]) + 1 \n",
        "\n",
        "\n",
        "article_info.fieldsOfStudy = article_info.fieldsOfStudy.apply(map_rank)"
      ],
      "execution_count": 36,
      "outputs": []
    },
    {
      "cell_type": "markdown",
      "metadata": {
        "id": "RdxetrzQshq5"
      },
      "source": [
        "### 2.12 Calculate journal ranks"
      ]
    },
    {
      "cell_type": "code",
      "metadata": {
        "id": "kwrRdtB-TB5_"
      },
      "source": [
        "# get journals with their corresponding number of occurrences\n",
        "journal_value_counts = article_info.journalName.value_counts()\n",
        "journal_ranks = list(journal_value_counts.index)\n",
        "\n",
        "last_rank = len(journal_ranks)\n",
        "# lambda function to make ranks start from 1 not from 0\n",
        "rank_journals = lambda x: journal_ranks.index(x) + 1 if x in journal_ranks else last_rank + 1\n",
        "# apply function to each row\n",
        "article_info.journalName = article_info.journalName.apply(rank_journals)"
      ],
      "execution_count": 37,
      "outputs": []
    },
    {
      "cell_type": "code",
      "metadata": {
        "id": "vIIv-XE0ZVCH"
      },
      "source": [
        "# we need to rename our columns to better represent current dataframe\n",
        "article_info.rename(columns={\"fieldsOfStudy\": \"topic_rank\", \"journalName\": \"journal_rank\"}, inplace=True)"
      ],
      "execution_count": 38,
      "outputs": []
    },
    {
      "cell_type": "code",
      "metadata": {
        "colab": {
          "base_uri": "https://localhost:8080/",
          "height": 332
        },
        "id": "_HRfv4A_Yl5L",
        "outputId": "01e533b1-0cc4-41d3-dfcd-ea36fd7d27e0"
      },
      "source": [
        "article_info.head(2)"
      ],
      "execution_count": 39,
      "outputs": [
        {
          "output_type": "execute_result",
          "data": {
            "text/html": [
              "<div>\n",
              "<style scoped>\n",
              "    .dataframe tbody tr th:only-of-type {\n",
              "        vertical-align: middle;\n",
              "    }\n",
              "\n",
              "    .dataframe tbody tr th {\n",
              "        vertical-align: top;\n",
              "    }\n",
              "\n",
              "    .dataframe thead th {\n",
              "        text-align: right;\n",
              "    }\n",
              "</style>\n",
              "<table border=\"1\" class=\"dataframe\">\n",
              "  <thead>\n",
              "    <tr style=\"text-align: right;\">\n",
              "      <th></th>\n",
              "      <th>title</th>\n",
              "      <th>paperAbstract</th>\n",
              "      <th>authors</th>\n",
              "      <th>outCitations</th>\n",
              "      <th>year</th>\n",
              "      <th>s2Url</th>\n",
              "      <th>sources</th>\n",
              "      <th>pdfUrls</th>\n",
              "      <th>venue</th>\n",
              "      <th>journal_rank</th>\n",
              "      <th>journalVolume</th>\n",
              "      <th>journalPages</th>\n",
              "      <th>doi</th>\n",
              "      <th>doiUrl</th>\n",
              "      <th>pmid</th>\n",
              "      <th>topic_rank</th>\n",
              "      <th>magId</th>\n",
              "      <th>s2PdfUrl</th>\n",
              "      <th>entities</th>\n",
              "      <th>n_authors</th>\n",
              "      <th>authors_mean_rank</th>\n",
              "      <th>authors_mean_hindex</th>\n",
              "      <th>authors_mean_gindex</th>\n",
              "    </tr>\n",
              "    <tr>\n",
              "      <th>id</th>\n",
              "      <th></th>\n",
              "      <th></th>\n",
              "      <th></th>\n",
              "      <th></th>\n",
              "      <th></th>\n",
              "      <th></th>\n",
              "      <th></th>\n",
              "      <th></th>\n",
              "      <th></th>\n",
              "      <th></th>\n",
              "      <th></th>\n",
              "      <th></th>\n",
              "      <th></th>\n",
              "      <th></th>\n",
              "      <th></th>\n",
              "      <th></th>\n",
              "      <th></th>\n",
              "      <th></th>\n",
              "      <th></th>\n",
              "      <th></th>\n",
              "      <th></th>\n",
              "      <th></th>\n",
              "      <th></th>\n",
              "    </tr>\n",
              "  </thead>\n",
              "  <tbody>\n",
              "    <tr>\n",
              "      <th>33b237709dbd53953a750355115b57ccb6690da1</th>\n",
              "      <td>USING PHOTO IMAGES TO DETERMINE THE GEOMETRIC ...</td>\n",
              "      <td></td>\n",
              "      <td>[E  Popov, O  Raskatkina]</td>\n",
              "      <td>[]</td>\n",
              "      <td>2019</td>\n",
              "      <td>https://semanticscholar.org/paper/33b237709dbd...</td>\n",
              "      <td>[]</td>\n",
              "      <td>[]</td>\n",
              "      <td></td>\n",
              "      <td>1</td>\n",
              "      <td>19</td>\n",
              "      <td>NaN</td>\n",
              "      <td>10.14529/build190307</td>\n",
              "      <td>https://doi.org/10.14529/build190307</td>\n",
              "      <td></td>\n",
              "      <td>16</td>\n",
              "      <td>3000193832</td>\n",
              "      <td></td>\n",
              "      <td>[]</td>\n",
              "      <td>2</td>\n",
              "      <td>64768.0</td>\n",
              "      <td>0.0</td>\n",
              "      <td>0.0</td>\n",
              "    </tr>\n",
              "    <tr>\n",
              "      <th>062e9c7579adc73129e1198671d05905f07d4ab5</th>\n",
              "      <td>Clinical or Industrial Pharmacy? Case Studies ...</td>\n",
              "      <td>Automated medication dispensing systems for ho...</td>\n",
              "      <td>[J  Novek]</td>\n",
              "      <td>[a402dac75befed8c389fe00a3b6eed7ee8da87e1, 7d9...</td>\n",
              "      <td>1998</td>\n",
              "      <td>https://semanticscholar.org/paper/062e9c7579ad...</td>\n",
              "      <td>[Medline]</td>\n",
              "      <td>[]</td>\n",
              "      <td>International journal of health services : pla...</td>\n",
              "      <td>6141</td>\n",
              "      <td>28</td>\n",
              "      <td>NaN</td>\n",
              "      <td>10.2190/W2BT-FGXQ-QL0G-YNL9</td>\n",
              "      <td>https://doi.org/10.2190/W2BT-FGXQ-QL0G-YNL9</td>\n",
              "      <td>9711475</td>\n",
              "      <td>20</td>\n",
              "      <td>1988383910</td>\n",
              "      <td></td>\n",
              "      <td>[]</td>\n",
              "      <td>1</td>\n",
              "      <td>64768.0</td>\n",
              "      <td>0.0</td>\n",
              "      <td>0.0</td>\n",
              "    </tr>\n",
              "  </tbody>\n",
              "</table>\n",
              "</div>"
            ],
            "text/plain": [
              "                                                                                      title  ... authors_mean_gindex\n",
              "id                                                                                           ...                    \n",
              "33b237709dbd53953a750355115b57ccb6690da1  USING PHOTO IMAGES TO DETERMINE THE GEOMETRIC ...  ...                 0.0\n",
              "062e9c7579adc73129e1198671d05905f07d4ab5  Clinical or Industrial Pharmacy? Case Studies ...  ...                 0.0\n",
              "\n",
              "[2 rows x 23 columns]"
            ]
          },
          "metadata": {
            "tags": []
          },
          "execution_count": 39
        }
      ]
    },
    {
      "cell_type": "markdown",
      "metadata": {
        "id": "dZ4U2RV3xusb"
      },
      "source": [
        "### 2.12 Generate features form year "
      ]
    },
    {
      "cell_type": "code",
      "metadata": {
        "id": "Nbca8u0-yEmZ"
      },
      "source": [
        "# recency(current year - year of publication)\n",
        "article_info.year = article_info.year.apply(lambda x: 2021 - x)\n",
        "article_info.rename(columns={'year': 'recency'}, inplace=True)"
      ],
      "execution_count": 40,
      "outputs": []
    },
    {
      "cell_type": "markdown",
      "metadata": {
        "id": "NpY_MwIib_o6"
      },
      "source": [
        "### 2.13 Remove unnecessary columns "
      ]
    },
    {
      "cell_type": "code",
      "metadata": {
        "colab": {
          "base_uri": "https://localhost:8080/"
        },
        "id": "DWRSoO86aMk0",
        "outputId": "3a8f32d3-6a76-4701-9d09-e4c9e2e68826"
      },
      "source": [
        "article_info.columns"
      ],
      "execution_count": 41,
      "outputs": [
        {
          "output_type": "execute_result",
          "data": {
            "text/plain": [
              "Index(['title', 'paperAbstract', 'authors', 'outCitations', 'recency', 's2Url',\n",
              "       'sources', 'pdfUrls', 'venue', 'journal_rank', 'journalVolume',\n",
              "       'journalPages', 'doi', 'doiUrl', 'pmid', 'topic_rank', 'magId',\n",
              "       's2PdfUrl', 'entities', 'n_authors', 'authors_mean_rank',\n",
              "       'authors_mean_hindex', 'authors_mean_gindex'],\n",
              "      dtype='object')"
            ]
          },
          "metadata": {
            "tags": []
          },
          "execution_count": 41
        }
      ]
    },
    {
      "cell_type": "code",
      "metadata": {
        "id": "a-fk84JBaKbb"
      },
      "source": [
        "columns_to_remove = ['title', 'outCitations', 'paperAbstract', 'authors', 's2Url', 'sources', 'pdfUrls', 'venue', 'journalVolume', 'journalPages',  'doi', 'doiUrl', 's2PdfUrl', 'pmid', 'magId', 'entities']\n",
        "article_info.drop(columns_to_remove, axis=1, inplace=True)"
      ],
      "execution_count": 42,
      "outputs": []
    },
    {
      "cell_type": "code",
      "metadata": {
        "colab": {
          "base_uri": "https://localhost:8080/",
          "height": 204
        },
        "id": "BpgD5CKUbDj3",
        "outputId": "cb2abf98-6469-4ebe-d831-583aed44be20"
      },
      "source": [
        "article_info.head(4)"
      ],
      "execution_count": 48,
      "outputs": [
        {
          "output_type": "execute_result",
          "data": {
            "text/html": [
              "<div>\n",
              "<style scoped>\n",
              "    .dataframe tbody tr th:only-of-type {\n",
              "        vertical-align: middle;\n",
              "    }\n",
              "\n",
              "    .dataframe tbody tr th {\n",
              "        vertical-align: top;\n",
              "    }\n",
              "\n",
              "    .dataframe thead th {\n",
              "        text-align: right;\n",
              "    }\n",
              "</style>\n",
              "<table border=\"1\" class=\"dataframe\">\n",
              "  <thead>\n",
              "    <tr style=\"text-align: right;\">\n",
              "      <th></th>\n",
              "      <th>recency</th>\n",
              "      <th>journal_rank</th>\n",
              "      <th>topic_rank</th>\n",
              "      <th>n_authors</th>\n",
              "      <th>authors_mean_rank</th>\n",
              "      <th>authors_mean_hindex</th>\n",
              "      <th>authors_mean_gindex</th>\n",
              "    </tr>\n",
              "    <tr>\n",
              "      <th>id</th>\n",
              "      <th></th>\n",
              "      <th></th>\n",
              "      <th></th>\n",
              "      <th></th>\n",
              "      <th></th>\n",
              "      <th></th>\n",
              "      <th></th>\n",
              "    </tr>\n",
              "  </thead>\n",
              "  <tbody>\n",
              "    <tr>\n",
              "      <th>33b237709dbd53953a750355115b57ccb6690da1</th>\n",
              "      <td>2</td>\n",
              "      <td>1</td>\n",
              "      <td>16</td>\n",
              "      <td>2</td>\n",
              "      <td>64768.0</td>\n",
              "      <td>0.0</td>\n",
              "      <td>0.0</td>\n",
              "    </tr>\n",
              "    <tr>\n",
              "      <th>062e9c7579adc73129e1198671d05905f07d4ab5</th>\n",
              "      <td>23</td>\n",
              "      <td>6141</td>\n",
              "      <td>20</td>\n",
              "      <td>1</td>\n",
              "      <td>64768.0</td>\n",
              "      <td>0.0</td>\n",
              "      <td>0.0</td>\n",
              "    </tr>\n",
              "    <tr>\n",
              "      <th>771723e7e2d9ed97d09442086553b726f0dd6657</th>\n",
              "      <td>19</td>\n",
              "      <td>7358</td>\n",
              "      <td>20</td>\n",
              "      <td>1</td>\n",
              "      <td>64768.0</td>\n",
              "      <td>0.0</td>\n",
              "      <td>0.0</td>\n",
              "    </tr>\n",
              "    <tr>\n",
              "      <th>263f70167ba7def67a2843ffc30c80a0b9b3f617</th>\n",
              "      <td>36</td>\n",
              "      <td>1</td>\n",
              "      <td>19</td>\n",
              "      <td>1</td>\n",
              "      <td>64768.0</td>\n",
              "      <td>0.0</td>\n",
              "      <td>0.0</td>\n",
              "    </tr>\n",
              "  </tbody>\n",
              "</table>\n",
              "</div>"
            ],
            "text/plain": [
              "                                          recency  ...  authors_mean_gindex\n",
              "id                                                 ...                     \n",
              "33b237709dbd53953a750355115b57ccb6690da1        2  ...                  0.0\n",
              "062e9c7579adc73129e1198671d05905f07d4ab5       23  ...                  0.0\n",
              "771723e7e2d9ed97d09442086553b726f0dd6657       19  ...                  0.0\n",
              "263f70167ba7def67a2843ffc30c80a0b9b3f617       36  ...                  0.0\n",
              "\n",
              "[4 rows x 7 columns]"
            ]
          },
          "metadata": {
            "tags": []
          },
          "execution_count": 48
        }
      ]
    },
    {
      "cell_type": "markdown",
      "metadata": {
        "id": "pSibN9ZkcIOz"
      },
      "source": [
        "## 3. Build regression model"
      ]
    },
    {
      "cell_type": "code",
      "metadata": {
        "id": "UKVG61scPSw-"
      },
      "source": [
        "# get citation_info aligned to the same index as article_info and named as y\n",
        "y, _ = citation_info.align(article_info, join='right', axis=0, fill_value=0)"
      ],
      "execution_count": 49,
      "outputs": []
    },
    {
      "cell_type": "code",
      "metadata": {
        "colab": {
          "base_uri": "https://localhost:8080/",
          "height": 173
        },
        "id": "Ak7X1qL3RSVc",
        "outputId": "c4428adb-63c5-45f3-a38f-c007d9236f17"
      },
      "source": [
        "article_info.head(3)"
      ],
      "execution_count": 50,
      "outputs": [
        {
          "output_type": "execute_result",
          "data": {
            "text/html": [
              "<div>\n",
              "<style scoped>\n",
              "    .dataframe tbody tr th:only-of-type {\n",
              "        vertical-align: middle;\n",
              "    }\n",
              "\n",
              "    .dataframe tbody tr th {\n",
              "        vertical-align: top;\n",
              "    }\n",
              "\n",
              "    .dataframe thead th {\n",
              "        text-align: right;\n",
              "    }\n",
              "</style>\n",
              "<table border=\"1\" class=\"dataframe\">\n",
              "  <thead>\n",
              "    <tr style=\"text-align: right;\">\n",
              "      <th></th>\n",
              "      <th>recency</th>\n",
              "      <th>journal_rank</th>\n",
              "      <th>topic_rank</th>\n",
              "      <th>n_authors</th>\n",
              "      <th>authors_mean_rank</th>\n",
              "      <th>authors_mean_hindex</th>\n",
              "      <th>authors_mean_gindex</th>\n",
              "    </tr>\n",
              "    <tr>\n",
              "      <th>id</th>\n",
              "      <th></th>\n",
              "      <th></th>\n",
              "      <th></th>\n",
              "      <th></th>\n",
              "      <th></th>\n",
              "      <th></th>\n",
              "      <th></th>\n",
              "    </tr>\n",
              "  </thead>\n",
              "  <tbody>\n",
              "    <tr>\n",
              "      <th>33b237709dbd53953a750355115b57ccb6690da1</th>\n",
              "      <td>2</td>\n",
              "      <td>1</td>\n",
              "      <td>16</td>\n",
              "      <td>2</td>\n",
              "      <td>64768.0</td>\n",
              "      <td>0.0</td>\n",
              "      <td>0.0</td>\n",
              "    </tr>\n",
              "    <tr>\n",
              "      <th>062e9c7579adc73129e1198671d05905f07d4ab5</th>\n",
              "      <td>23</td>\n",
              "      <td>6141</td>\n",
              "      <td>20</td>\n",
              "      <td>1</td>\n",
              "      <td>64768.0</td>\n",
              "      <td>0.0</td>\n",
              "      <td>0.0</td>\n",
              "    </tr>\n",
              "    <tr>\n",
              "      <th>771723e7e2d9ed97d09442086553b726f0dd6657</th>\n",
              "      <td>19</td>\n",
              "      <td>7358</td>\n",
              "      <td>20</td>\n",
              "      <td>1</td>\n",
              "      <td>64768.0</td>\n",
              "      <td>0.0</td>\n",
              "      <td>0.0</td>\n",
              "    </tr>\n",
              "  </tbody>\n",
              "</table>\n",
              "</div>"
            ],
            "text/plain": [
              "                                          recency  ...  authors_mean_gindex\n",
              "id                                                 ...                     \n",
              "33b237709dbd53953a750355115b57ccb6690da1        2  ...                  0.0\n",
              "062e9c7579adc73129e1198671d05905f07d4ab5       23  ...                  0.0\n",
              "771723e7e2d9ed97d09442086553b726f0dd6657       19  ...                  0.0\n",
              "\n",
              "[3 rows x 7 columns]"
            ]
          },
          "metadata": {
            "tags": []
          },
          "execution_count": 50
        }
      ]
    },
    {
      "cell_type": "code",
      "metadata": {
        "id": "hTF_Iuj_ptys"
      },
      "source": [
        "article_info.authors_mean_rank = article_info.authors_mean_rank.fillna(len(author_ranks))"
      ],
      "execution_count": 51,
      "outputs": []
    },
    {
      "cell_type": "code",
      "metadata": {
        "id": "ViYz2K70cbSk"
      },
      "source": [
        "# split data to 80% training and 20% testing\n",
        "from sklearn.model_selection import train_test_split\n",
        "\n",
        "X_train, X_test, y_train, y_test = train_test_split(article_info, y, test_size=0.2, random_state=42)"
      ],
      "execution_count": 52,
      "outputs": []
    },
    {
      "cell_type": "markdown",
      "metadata": {
        "id": "bbGaf9NytGKo"
      },
      "source": [
        "Boosting algorithm takes multiple models and make better prediction based on their predictions\n",
        "\n",
        "Our model shows good results in the test dataset"
      ]
    },
    {
      "cell_type": "code",
      "metadata": {
        "colab": {
          "base_uri": "https://localhost:8080/"
        },
        "id": "gBW1j_tItFij",
        "outputId": "5132964c-042f-4185-cd92-e06aef85a9e9"
      },
      "source": [
        "model=xgb.XGBRegressor()\n",
        "model.fit(X_train, y_train)\n",
        "\n",
        "y_pred = model.predict(X_test)\n",
        "y_pred = np.abs(np.rint(y_pred))\n",
        "print(f\"r2_score: {r2_score(y_test, y_pred)}\")"
      ],
      "execution_count": 53,
      "outputs": [
        {
          "output_type": "stream",
          "text": [
            "[21:29:11] WARNING: /workspace/src/objective/regression_obj.cu:152: reg:linear is now deprecated in favor of reg:squarederror.\n",
            "r2_score: 0.8543187069791283\n"
          ],
          "name": "stdout"
        }
      ]
    },
    {
      "cell_type": "code",
      "metadata": {
        "id": "Fw2g8BV7tqNI"
      },
      "source": [
        "features = article_info.columns\n",
        "importances = model.feature_importances_\n",
        "indices = np.argsort(importances)"
      ],
      "execution_count": 54,
      "outputs": []
    },
    {
      "cell_type": "markdown",
      "metadata": {
        "id": "8ite4MwKtWWL"
      },
      "source": [
        "Let us see how each feature affected the model\n",
        "\n",
        "mostly information about the authors helped regression model predict number of citations \n",
        "\n",
        "as people read popular authors role of the h-index is high"
      ]
    },
    {
      "cell_type": "code",
      "metadata": {
        "colab": {
          "base_uri": "https://localhost:8080/",
          "height": 295
        },
        "id": "aNxSiHbHt28w",
        "outputId": "55e9c2e8-9887-4203-b008-0951d95cf5c2"
      },
      "source": [
        "plt.title('Feature Importances')\n",
        "plt.barh(range(len(indices)), importances[indices], color='b', align='center')\n",
        "plt.yticks(range(len(indices)), [features[i] for i in indices])\n",
        "plt.xlabel('Relative Importance')\n",
        "plt.show()"
      ],
      "execution_count": 55,
      "outputs": [
        {
          "output_type": "display_data",
          "data": {
            "image/png": "[encoded data removed]",
            "text/plain": [
              "<Figure size 432x288 with 1 Axes>"
            ]
          },
          "metadata": {
            "tags": [],
            "needs_background": "light"
          }
        }
      ]
    },
    {
      "cell_type": "markdown",
      "metadata": {
        "id": "-aQdVxEltu8Y"
      },
      "source": [
        "We can tune our parameters to get best performance with this data and model\n",
        "\n",
        "To such purposes let's use gridsearch which will try different combinations of parameters and build a model. The best model with greatest performance will be selected"
      ]
    },
    {
      "cell_type": "code",
      "metadata": {
        "colab": {
          "base_uri": "https://localhost:8080/"
        },
        "id": "OK_l3dqmu2P9",
        "outputId": "4fc6d468-f198-4adb-bf02-81293aa33111"
      },
      "source": [
        "from sklearn.model_selection import GridSearchCV\n",
        "\n",
        "\n",
        "xgb1 = xgb.XGBRegressor()\n",
        "parameters = {'nthread':[4],\n",
        "              'objective':['reg:linear'],\n",
        "              'learning_rate': [.03, 0.05, .07],\n",
        "              'max_depth': [5, 6, 7],\n",
        "              'min_child_weight': [4],\n",
        "              'silent': [1],\n",
        "              'subsample': [0.7],\n",
        "              'colsample_bytree': [0.7],\n",
        "              'n_estimators': [500]}\n",
        "\n",
        "xgb_grid = GridSearchCV(xgb1,\n",
        "                        parameters,\n",
        "                        scoring='r2',\n",
        "                        cv = 2,\n",
        "                        n_jobs = 5,\n",
        "                        verbose=True)\n",
        "\n",
        "xgb_grid.fit(article_info,\n",
        "         y)\n",
        "\n",
        "print(xgb_grid.best_score_)\n",
        "print(xgb_grid.best_params_)"
      ],
      "execution_count": null,
      "outputs": [
        {
          "output_type": "stream",
          "text": [
            "Fitting 2 folds for each of 9 candidates, totalling 18 fits\n"
          ],
          "name": "stdout"
        },
        {
          "output_type": "stream",
          "text": [
            "[Parallel(n_jobs=5)]: Using backend LokyBackend with 5 concurrent workers.\n"
          ],
          "name": "stderr"
        }
      ]
    },
    {
      "cell_type": "markdown",
      "metadata": {
        "id": "YSrhvU7suDnw"
      },
      "source": [
        "## 4. Testing our model on another data\n",
        "\n",
        "Let us see how our model will perform on another dataset"
      ]
    },
    {
      "cell_type": "code",
      "metadata": {
        "id": "8CuNZAuUK_53"
      },
      "source": [
        "# read the data\n",
        "test_dataset = pd.read_csv('predict.csv')\n",
        "# get the target column\n",
        "y_test = test_dataset.c5\n",
        "# get features\n",
        "X_test = test_dataset.drop(columns=['log_authors_mean_sociality',\n",
        "                                     'journal_pagerank',\n",
        "                                     'authors_mean_productivity',\n",
        "                                     'authors_mean_pagerank',\n",
        "                                     'authors_mean_sociality',\n",
        "                                     'diversity',\n",
        "                                     'c5'])"
      ],
      "execution_count": null,
      "outputs": []
    },
    {
      "cell_type": "code",
      "metadata": {
        "id": "J1AAJKH2Ubdg"
      },
      "source": [
        "# align columns with our training dataframe's\n",
        "X_test = X_test[X_train.columns]\n",
        "X_test.dropna(inplace=True)\n",
        "y_test = y_test[X_test.index]"
      ],
      "execution_count": null,
      "outputs": []
    },
    {
      "cell_type": "code",
      "metadata": {
        "id": "8CJkweYPDne-"
      },
      "source": [
        "# run the model with best parameters\n",
        "model = xgb.XGBRegressor(**xgb_grid.best_params_)\n",
        "model.fit(X_train, y_train)\n",
        "# predict values\n",
        "y_pred = model.predict(X_test)\n",
        "y_pred = np.abs(np.rint(y_pred))\n",
        "print(f\"r2_score: {r2_score(y_test, y_pred)}\")"
      ],
      "execution_count": null,
      "outputs": []
    },
    {
      "cell_type": "markdown",
      "metadata": {
        "id": "RC52uq8Juj0L"
      },
      "source": [
        "R2 score is less than 0, which means our model is not good enough on this type of data"
      ]
    }
  ]
}