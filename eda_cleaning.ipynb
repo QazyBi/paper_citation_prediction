{
  "nbformat": 4,
  "nbformat_minor": 5,
  "metadata": {
    "colab": {
      "name": "eda_cleaning.ipynb",
      "provenance": [],
      "collapsed_sections": [
        "a3cdc23b-b8f6-4eda-81f2-601e81db87be",
        "d52dc65a-d059-49ef-b87a-a6936cf1942d",
        "888c1140-9196-423a-ac3e-949637b4d174",
        "e1883e83-0259-44c4-b5d4-f593549809df",
        "10f17ad4-aa7d-4bb0-bb46-84f5a5617365",
        "AbFTT62Ebc9i",
        "HVKAnpBrcyZJ",
        "3bAKdPJReCfr",
        "e94c602a-8958-41d8-ba9b-434e05710ea3",
        "A1OuQxmucLk8",
        "EJkLAz8g1duq",
        "jaPk8xkZ2YxY",
        "PCQ7RdoT2afo",
        "IVb57JEIsA1I",
        "jQ9l2WFE1xAo",
        "_36acxEN10oT",
        "T40EuWlukrl9",
        "RxxHpqZslYhC",
        "__oFDPLYluOk",
        "GCjLuKWJm9q1",
        "cBA8kgz310Pr",
        "vQZiAkJp6gUW"
      ]
    },
    "kernelspec": {
      "display_name": "ds",
      "language": "python",
      "name": "ds"
    },
    "language_info": {
      "codemirror_mode": {
        "name": "ipython",
        "version": 3
      },
      "file_extension": ".py",
      "mimetype": "text/x-python",
      "name": "python",
      "nbconvert_exporter": "python",
      "pygments_lexer": "ipython3",
      "version": "3.8.5"
    },
    "widgets": {
      "application/vnd.jupyter.widget-state+json": {
        "d840d8939be64062ad8c14355c88e0ab": {
          "model_module": "@jupyter-widgets/controls",
          "model_name": "HBoxModel",
          "state": {
            "_view_name": "HBoxView",
            "_dom_classes": [],
            "_model_name": "HBoxModel",
            "_view_module": "@jupyter-widgets/controls",
            "_model_module_version": "1.5.0",
            "_view_count": null,
            "_view_module_version": "1.5.0",
            "box_style": "",
            "layout": "IPY_MODEL_1aee2bbf88394598a8831df0a1e21ca2",
            "_model_module": "@jupyter-widgets/controls",
            "children": [
              "IPY_MODEL_5a3b467b6aa046ffb1682ca6c5664bd8",
              "IPY_MODEL_8feb5fdd6ed74018b45b86774b4728a1"
            ]
          }
        },
        "1aee2bbf88394598a8831df0a1e21ca2": {
          "model_module": "@jupyter-widgets/base",
          "model_name": "LayoutModel",
          "state": {
            "_view_name": "LayoutView",
            "grid_template_rows": null,
            "right": null,
            "justify_content": null,
            "_view_module": "@jupyter-widgets/base",
            "overflow": null,
            "_model_module_version": "1.2.0",
            "_view_count": null,
            "flex_flow": null,
            "width": null,
            "min_width": null,
            "border": null,
            "align_items": null,
            "bottom": null,
            "_model_module": "@jupyter-widgets/base",
            "top": null,
            "grid_column": null,
            "overflow_y": null,
            "overflow_x": null,
            "grid_auto_flow": null,
            "grid_area": null,
            "grid_template_columns": null,
            "flex": null,
            "_model_name": "LayoutModel",
            "justify_items": null,
            "grid_row": null,
            "max_height": null,
            "align_content": null,
            "visibility": null,
            "align_self": null,
            "height": null,
            "min_height": null,
            "padding": null,
            "grid_auto_rows": null,
            "grid_gap": null,
            "max_width": null,
            "order": null,
            "_view_module_version": "1.2.0",
            "grid_template_areas": null,
            "object_position": null,
            "object_fit": null,
            "grid_auto_columns": null,
            "margin": null,
            "display": null,
            "left": null
          }
        },
        "5a3b467b6aa046ffb1682ca6c5664bd8": {
          "model_module": "@jupyter-widgets/controls",
          "model_name": "FloatProgressModel",
          "state": {
            "_view_name": "ProgressView",
            "style": "IPY_MODEL_501cb0901bee494fbdb5f667d4fda7f3",
            "_dom_classes": [],
            "description": "100%",
            "_model_name": "FloatProgressModel",
            "bar_style": "success",
            "max": 950001,
            "_view_module": "@jupyter-widgets/controls",
            "_model_module_version": "1.5.0",
            "value": 950001,
            "_view_count": null,
            "_view_module_version": "1.5.0",
            "orientation": "horizontal",
            "min": 0,
            "description_tooltip": null,
            "_model_module": "@jupyter-widgets/controls",
            "layout": "IPY_MODEL_babb643e61c44bd7a537000c73fbbf35"
          }
        },
        "8feb5fdd6ed74018b45b86774b4728a1": {
          "model_module": "@jupyter-widgets/controls",
          "model_name": "HTMLModel",
          "state": {
            "_view_name": "HTMLView",
            "style": "IPY_MODEL_829de0a1f3e84e91b154bff27342a2bc",
            "_dom_classes": [],
            "description": "",
            "_model_name": "HTMLModel",
            "placeholder": "​",
            "_view_module": "@jupyter-widgets/controls",
            "_model_module_version": "1.5.0",
            "value": " 950001/950001 [36:56&lt;00:00, 428.68it/s]",
            "_view_count": null,
            "_view_module_version": "1.5.0",
            "description_tooltip": null,
            "_model_module": "@jupyter-widgets/controls",
            "layout": "IPY_MODEL_68701ae300a84c5e964b68158c09fff5"
          }
        },
        "501cb0901bee494fbdb5f667d4fda7f3": {
          "model_module": "@jupyter-widgets/controls",
          "model_name": "ProgressStyleModel",
          "state": {
            "_view_name": "StyleView",
            "_model_name": "ProgressStyleModel",
            "description_width": "initial",
            "_view_module": "@jupyter-widgets/base",
            "_model_module_version": "1.5.0",
            "_view_count": null,
            "_view_module_version": "1.2.0",
            "bar_color": null,
            "_model_module": "@jupyter-widgets/controls"
          }
        },
        "babb643e61c44bd7a537000c73fbbf35": {
          "model_module": "@jupyter-widgets/base",
          "model_name": "LayoutModel",
          "state": {
            "_view_name": "LayoutView",
            "grid_template_rows": null,
            "right": null,
            "justify_content": null,
            "_view_module": "@jupyter-widgets/base",
            "overflow": null,
            "_model_module_version": "1.2.0",
            "_view_count": null,
            "flex_flow": null,
            "width": null,
            "min_width": null,
            "border": null,
            "align_items": null,
            "bottom": null,
            "_model_module": "@jupyter-widgets/base",
            "top": null,
            "grid_column": null,
            "overflow_y": null,
            "overflow_x": null,
            "grid_auto_flow": null,
            "grid_area": null,
            "grid_template_columns": null,
            "flex": null,
            "_model_name": "LayoutModel",
            "justify_items": null,
            "grid_row": null,
            "max_height": null,
            "align_content": null,
            "visibility": null,
            "align_self": null,
            "height": null,
            "min_height": null,
            "padding": null,
            "grid_auto_rows": null,
            "grid_gap": null,
            "max_width": null,
            "order": null,
            "_view_module_version": "1.2.0",
            "grid_template_areas": null,
            "object_position": null,
            "object_fit": null,
            "grid_auto_columns": null,
            "margin": null,
            "display": null,
            "left": null
          }
        },
        "829de0a1f3e84e91b154bff27342a2bc": {
          "model_module": "@jupyter-widgets/controls",
          "model_name": "DescriptionStyleModel",
          "state": {
            "_view_name": "StyleView",
            "_model_name": "DescriptionStyleModel",
            "description_width": "",
            "_view_module": "@jupyter-widgets/base",
            "_model_module_version": "1.5.0",
            "_view_count": null,
            "_view_module_version": "1.2.0",
            "_model_module": "@jupyter-widgets/controls"
          }
        },
        "68701ae300a84c5e964b68158c09fff5": {
          "model_module": "@jupyter-widgets/base",
          "model_name": "LayoutModel",
          "state": {
            "_view_name": "LayoutView",
            "grid_template_rows": null,
            "right": null,
            "justify_content": null,
            "_view_module": "@jupyter-widgets/base",
            "overflow": null,
            "_model_module_version": "1.2.0",
            "_view_count": null,
            "flex_flow": null,
            "width": null,
            "min_width": null,
            "border": null,
            "align_items": null,
            "bottom": null,
            "_model_module": "@jupyter-widgets/base",
            "top": null,
            "grid_column": null,
            "overflow_y": null,
            "overflow_x": null,
            "grid_auto_flow": null,
            "grid_area": null,
            "grid_template_columns": null,
            "flex": null,
            "_model_name": "LayoutModel",
            "justify_items": null,
            "grid_row": null,
            "max_height": null,
            "align_content": null,
            "visibility": null,
            "align_self": null,
            "height": null,
            "min_height": null,
            "padding": null,
            "grid_auto_rows": null,
            "grid_gap": null,
            "max_width": null,
            "order": null,
            "_view_module_version": "1.2.0",
            "grid_template_areas": null,
            "object_position": null,
            "object_fit": null,
            "grid_auto_columns": null,
            "margin": null,
            "display": null,
            "left": null
          }
        },
        "4174b754004647bdb07a8589ca453bb3": {
          "model_module": "@jupyter-widgets/controls",
          "model_name": "HBoxModel",
          "state": {
            "_view_name": "HBoxView",
            "_dom_classes": [],
            "_model_name": "HBoxModel",
            "_view_module": "@jupyter-widgets/controls",
            "_model_module_version": "1.5.0",
            "_view_count": null,
            "_view_module_version": "1.5.0",
            "box_style": "",
            "layout": "IPY_MODEL_23b538f8ce324bccbc837d2f0f42ebfb",
            "_model_module": "@jupyter-widgets/controls",
            "children": [
              "IPY_MODEL_23fee9113f624f18a6ee0e1f773ba369",
              "IPY_MODEL_3b1191a8f5e149cf8e6639be21b59d7a"
            ]
          }
        },
        "23b538f8ce324bccbc837d2f0f42ebfb": {
          "model_module": "@jupyter-widgets/base",
          "model_name": "LayoutModel",
          "state": {
            "_view_name": "LayoutView",
            "grid_template_rows": null,
            "right": null,
            "justify_content": null,
            "_view_module": "@jupyter-widgets/base",
            "overflow": null,
            "_model_module_version": "1.2.0",
            "_view_count": null,
            "flex_flow": null,
            "width": null,
            "min_width": null,
            "border": null,
            "align_items": null,
            "bottom": null,
            "_model_module": "@jupyter-widgets/base",
            "top": null,
            "grid_column": null,
            "overflow_y": null,
            "overflow_x": null,
            "grid_auto_flow": null,
            "grid_area": null,
            "grid_template_columns": null,
            "flex": null,
            "_model_name": "LayoutModel",
            "justify_items": null,
            "grid_row": null,
            "max_height": null,
            "align_content": null,
            "visibility": null,
            "align_self": null,
            "height": null,
            "min_height": null,
            "padding": null,
            "grid_auto_rows": null,
            "grid_gap": null,
            "max_width": null,
            "order": null,
            "_view_module_version": "1.2.0",
            "grid_template_areas": null,
            "object_position": null,
            "object_fit": null,
            "grid_auto_columns": null,
            "margin": null,
            "display": null,
            "left": null
          }
        },
        "23fee9113f624f18a6ee0e1f773ba369": {
          "model_module": "@jupyter-widgets/controls",
          "model_name": "FloatProgressModel",
          "state": {
            "_view_name": "ProgressView",
            "style": "IPY_MODEL_55c53f7e99a1436bbd27564c3ce865fa",
            "_dom_classes": [],
            "description": "100%",
            "_model_name": "FloatProgressModel",
            "bar_style": "success",
            "max": 950001,
            "_view_module": "@jupyter-widgets/controls",
            "_model_module_version": "1.5.0",
            "value": 950001,
            "_view_count": null,
            "_view_module_version": "1.5.0",
            "orientation": "horizontal",
            "min": 0,
            "description_tooltip": null,
            "_model_module": "@jupyter-widgets/controls",
            "layout": "IPY_MODEL_5be5422fc68d48a9abdefb8d500fd706"
          }
        },
        "3b1191a8f5e149cf8e6639be21b59d7a": {
          "model_module": "@jupyter-widgets/controls",
          "model_name": "HTMLModel",
          "state": {
            "_view_name": "HTMLView",
            "style": "IPY_MODEL_85ddc0a0462844439f8fb34db2103e81",
            "_dom_classes": [],
            "description": "",
            "_model_name": "HTMLModel",
            "placeholder": "​",
            "_view_module": "@jupyter-widgets/controls",
            "_model_module_version": "1.5.0",
            "value": " 950001/950001 [07:13&lt;00:00, 2193.89it/s]",
            "_view_count": null,
            "_view_module_version": "1.5.0",
            "description_tooltip": null,
            "_model_module": "@jupyter-widgets/controls",
            "layout": "IPY_MODEL_898b1198f88f42548e0e6f4d570c0e3d"
          }
        },
        "55c53f7e99a1436bbd27564c3ce865fa": {
          "model_module": "@jupyter-widgets/controls",
          "model_name": "ProgressStyleModel",
          "state": {
            "_view_name": "StyleView",
            "_model_name": "ProgressStyleModel",
            "description_width": "initial",
            "_view_module": "@jupyter-widgets/base",
            "_model_module_version": "1.5.0",
            "_view_count": null,
            "_view_module_version": "1.2.0",
            "bar_color": null,
            "_model_module": "@jupyter-widgets/controls"
          }
        },
        "5be5422fc68d48a9abdefb8d500fd706": {
          "model_module": "@jupyter-widgets/base",
          "model_name": "LayoutModel",
          "state": {
            "_view_name": "LayoutView",
            "grid_template_rows": null,
            "right": null,
            "justify_content": null,
            "_view_module": "@jupyter-widgets/base",
            "overflow": null,
            "_model_module_version": "1.2.0",
            "_view_count": null,
            "flex_flow": null,
            "width": null,
            "min_width": null,
            "border": null,
            "align_items": null,
            "bottom": null,
            "_model_module": "@jupyter-widgets/base",
            "top": null,
            "grid_column": null,
            "overflow_y": null,
            "overflow_x": null,
            "grid_auto_flow": null,
            "grid_area": null,
            "grid_template_columns": null,
            "flex": null,
            "_model_name": "LayoutModel",
            "justify_items": null,
            "grid_row": null,
            "max_height": null,
            "align_content": null,
            "visibility": null,
            "align_self": null,
            "height": null,
            "min_height": null,
            "padding": null,
            "grid_auto_rows": null,
            "grid_gap": null,
            "max_width": null,
            "order": null,
            "_view_module_version": "1.2.0",
            "grid_template_areas": null,
            "object_position": null,
            "object_fit": null,
            "grid_auto_columns": null,
            "margin": null,
            "display": null,
            "left": null
          }
        },
        "85ddc0a0462844439f8fb34db2103e81": {
          "model_module": "@jupyter-widgets/controls",
          "model_name": "DescriptionStyleModel",
          "state": {
            "_view_name": "StyleView",
            "_model_name": "DescriptionStyleModel",
            "description_width": "",
            "_view_module": "@jupyter-widgets/base",
            "_model_module_version": "1.5.0",
            "_view_count": null,
            "_view_module_version": "1.2.0",
            "_model_module": "@jupyter-widgets/controls"
          }
        },
        "898b1198f88f42548e0e6f4d570c0e3d": {
          "model_module": "@jupyter-widgets/base",
          "model_name": "LayoutModel",
          "state": {
            "_view_name": "LayoutView",
            "grid_template_rows": null,
            "right": null,
            "justify_content": null,
            "_view_module": "@jupyter-widgets/base",
            "overflow": null,
            "_model_module_version": "1.2.0",
            "_view_count": null,
            "flex_flow": null,
            "width": null,
            "min_width": null,
            "border": null,
            "align_items": null,
            "bottom": null,
            "_model_module": "@jupyter-widgets/base",
            "top": null,
            "grid_column": null,
            "overflow_y": null,
            "overflow_x": null,
            "grid_auto_flow": null,
            "grid_area": null,
            "grid_template_columns": null,
            "flex": null,
            "_model_name": "LayoutModel",
            "justify_items": null,
            "grid_row": null,
            "max_height": null,
            "align_content": null,
            "visibility": null,
            "align_self": null,
            "height": null,
            "min_height": null,
            "padding": null,
            "grid_auto_rows": null,
            "grid_gap": null,
            "max_width": null,
            "order": null,
            "_view_module_version": "1.2.0",
            "grid_template_areas": null,
            "object_position": null,
            "object_fit": null,
            "grid_auto_columns": null,
            "margin": null,
            "display": null,
            "left": null
          }
        }
      }
    }
  },
  "cells": [
    {
      "cell_type": "markdown",
      "metadata": {
        "id": "3e60c01f-0d9e-4f08-865b-2659e0e3ddde"
      },
      "source": [
        "# Paper Citation Prediction\n",
        "*by Kazybek Askarbek([github](https://github.com/qazybi))*\n",
        "\\\n",
        "\\\n",
        "*This notebook provides extensive data analysis, cleaning of the datasets, feature generation and visual analysis*\n",
        "\\\n",
        "\\\n",
        "**Contents:**\n",
        "- [Problem definition](#scrollTo=37h0gWaxWx7Y&line=3&uniqifier=1)\n",
        "- [Data retrieval](#scrollTo=477aa5d1-4046-4a55-bd9e-bf4736cb39c0&line=4&uniqifier=1)\n",
        "- [Data preprocessing](#scrollTo=a3cdc23b-b8f6-4eda-81f2-601e81db87be&line=5&uniqifier=1)\n",
        "- Feature generation\n",
        "- Visual analysis \n",
        "---\n",
        "\n",
        "**Additional Modules**\n",
        "- Dataretr - module for downloading data and making dataframes out of it.\n",
        "- Dataprep - module for cleaning the data and generating features.\n",
        "- Info - module with configurations\n",
        "- Features - module to generate new features\n"
      ],
      "id": "3e60c01f-0d9e-4f08-865b-2659e0e3ddde"
    },
    {
      "cell_type": "markdown",
      "metadata": {
        "id": "37h0gWaxWx7Y"
      },
      "source": [
        "## Problem definition\n",
        "\n",
        "We believe many researchers want to have many citations and get high h-index. However, when there are numerous papers published each year it becomes difficult to obtain more citations. \\\n",
        "\n",
        "In order to help researchers improve scientific impact of their work we present you the automatic tool. The tool analyzes the title, abstract, publication journal, year, and other meta information disregarding the content. \\\n",
        "\n",
        "Then, system predicts the number of citations the paper will have after five years. Based on the result researcher will decide whether to improve the title, change publication journal or make abstract shorter.\n",
        "\n",
        "Five year time frame was used as it was in the [paper - \"Can Scientific Impact Be Predicted?\"](https://arxiv.org/pdf/1606.05905.pdf). \n",
        "\n",
        "**Target variable** - Number of citations after five year since publication"
      ],
      "id": "37h0gWaxWx7Y"
    },
    {
      "cell_type": "markdown",
      "metadata": {
        "id": "477aa5d1-4046-4a55-bd9e-bf4736cb39c0"
      },
      "source": [
        "## Data Retrieval\n",
        "\n",
        "*In this section we retrieve all the data from the server.*\n",
        "\\\n",
        "\\\n",
        "`Dataretr` module contains functions to download and convert them to the pandas dataframe. We will heavily use functions from the module.\n",
        "\n",
        "As the analysis goes under limited computational and memory resources we will be considering only 30 files from the full dataset. \n",
        "\n",
        "Even though, 30 zip files contain around **1M** papers metadata.\n",
        "\n"
      ],
      "id": "477aa5d1-4046-4a55-bd9e-bf4736cb39c0"
    },
    {
      "cell_type": "markdown",
      "metadata": {
        "id": "25Pkl7CpUeez"
      },
      "source": [
        "In case data already in the file system the `Dataretr` module will not download files again.\n",
        "\n",
        "Instead will create DataFrame from existing files."
      ],
      "id": "25Pkl7CpUeez"
    },
    {
      "cell_type": "code",
      "metadata": {
        "colab": {
          "base_uri": "https://localhost:8080/"
        },
        "id": "Igs_UtBQNskF",
        "outputId": "decd14da-51f2-4006-85a7-f6ed9586975b"
      },
      "source": [
        "!git clone https://github.com/QazyBi/paper_citation_prediction.git"
      ],
      "id": "Igs_UtBQNskF",
      "execution_count": 5,
      "outputs": [
        {
          "output_type": "stream",
          "text": [
            "Cloning into 'paper_citation_prediction'...\n",
            "remote: Enumerating objects: 42, done.\u001b[K\n",
            "remote: Counting objects: 100% (42/42), done.\u001b[K\n",
            "remote: Compressing objects: 100% (33/33), done.\u001b[K\n",
            "remote: Total 42 (delta 13), reused 31 (delta 7), pack-reused 0\u001b[K\n",
            "Unpacking objects: 100% (42/42), done.\n"
          ],
          "name": "stdout"
        }
      ]
    },
    {
      "cell_type": "code",
      "metadata": {
        "colab": {
          "base_uri": "https://localhost:8080/"
        },
        "id": "zZSRzjC_w5S5",
        "outputId": "944d73e7-2541-40fe-ac13-b494615fabf4"
      },
      "source": [
        "!pip install scholarmetrics\n",
        "!pip install catboost"
      ],
      "id": "zZSRzjC_w5S5",
      "execution_count": 5,
      "outputs": [
        {
          "output_type": "stream",
          "text": [
            "Requirement already satisfied: scholarmetrics in /usr/local/lib/python3.7/dist-packages (0.2.1)\n",
            "Requirement already satisfied: setuptools in /usr/local/lib/python3.7/dist-packages (from scholarmetrics) (57.0.0)\n",
            "Requirement already satisfied: pbr in /usr/local/lib/python3.7/dist-packages (from scholarmetrics) (5.6.0)\n"
          ],
          "name": "stdout"
        }
      ]
    },
    {
      "cell_type": "code",
      "metadata": {
        "id": "ae8b347d-9b1e-48d0-89f0-6972123812a5",
        "colab": {
          "base_uri": "https://localhost:8080/"
        },
        "outputId": "5f9b9e4f-8f32-41a6-9cfc-492f249abb77"
      },
      "source": [
        "%load_ext autoreload"
      ],
      "id": "ae8b347d-9b1e-48d0-89f0-6972123812a5",
      "execution_count": 6,
      "outputs": [
        {
          "output_type": "stream",
          "text": [
            "The autoreload extension is already loaded. To reload it, use:\n",
            "  %reload_ext autoreload\n"
          ],
          "name": "stdout"
        }
      ]
    },
    {
      "cell_type": "code",
      "metadata": {
        "id": "ae870368-b3f5-45b4-9ac8-e7e355b0f346"
      },
      "source": [
        "%autoreload\n",
        "import numpy as np\n",
        "import pandas as pd\n",
        "import requests\n",
        "import matplotlib.pyplot as plt\n",
        "\n",
        "# module with links and directory names\n",
        "from info import *\n",
        "# module for downloading and reading corpus\n",
        "import dataretr\n",
        "# module for preprocessing the data\n",
        "import dataprep"
      ],
      "id": "ae870368-b3f5-45b4-9ac8-e7e355b0f346",
      "execution_count": 7,
      "outputs": []
    },
    {
      "cell_type": "code",
      "metadata": {
        "colab": {
          "base_uri": "https://localhost:8080/"
        },
        "id": "5920bc36-483f-43bd-8b94-91ca4f2b96c5",
        "outputId": "0e83de7b-f298-44a8-e331-b02f375fc585"
      },
      "source": [
        "# make request to get filenames\n",
        "response = requests.get(manifest_link)\n",
        "# for now we work with only 30 files\n",
        "filenames = response.text.split('\\n')[:30]\n",
        "\n",
        "corpus: pd.DataFrame = dataretr.download_make_df(filenames, corpus_link, out_dir)"
      ],
      "id": "5920bc36-483f-43bd-8b94-91ca4f2b96c5",
      "execution_count": 8,
      "outputs": [
        {
          "output_type": "stream",
          "text": [
            "building dataframe: 100%|██████████| 30/30 [02:22<00:00,  4.76s/it]\n"
          ],
          "name": "stderr"
        }
      ]
    },
    {
      "cell_type": "markdown",
      "metadata": {
        "id": "a3cdc23b-b8f6-4eda-81f2-601e81db87be"
      },
      "source": [
        "## Data Preprocessing\n",
        "\n",
        "*In this section we clean/transform features and remove redundant columns for our further use*\n",
        "\\\n",
        "\\\n",
        "Here we will witness that the data is quite dirty and needs cleaning. \n",
        "\n",
        "By dirty, we mean that the columns contain jsons, lists and inconsistent notations.\n",
        "\n",
        "We will tackle each issue. So let's get started!\n"
      ],
      "id": "a3cdc23b-b8f6-4eda-81f2-601e81db87be"
    },
    {
      "cell_type": "markdown",
      "metadata": {
        "id": "w2gcUvpcXbHx"
      },
      "source": [
        "We will visually observe the data. Our great tool is a `head` function. \n",
        "\n",
        "Mostly our data contains some string, list and few number columns.\n",
        "\n",
        "Also, there are many empty cells!\n",
        "\n",
        "Some papers were written not in English"
      ],
      "id": "w2gcUvpcXbHx"
    },
    {
      "cell_type": "code",
      "metadata": {
        "colab": {
          "base_uri": "https://localhost:8080/",
          "height": 0
        },
        "id": "9d648431-1ee5-4d3b-aee1-c92379e9ccd3",
        "outputId": "e1b75e4c-c5c5-4d42-d747-10a59c3b60df"
      },
      "source": [
        "corpus.head()"
      ],
      "id": "9d648431-1ee5-4d3b-aee1-c92379e9ccd3",
      "execution_count": 9,
      "outputs": [
        {
          "output_type": "execute_result",
          "data": {
            "text/html": [
              "<div>\n",
              "<style scoped>\n",
              "    .dataframe tbody tr th:only-of-type {\n",
              "        vertical-align: middle;\n",
              "    }\n",
              "\n",
              "    .dataframe tbody tr th {\n",
              "        vertical-align: top;\n",
              "    }\n",
              "\n",
              "    .dataframe thead th {\n",
              "        text-align: right;\n",
              "    }\n",
              "</style>\n",
              "<table border=\"1\" class=\"dataframe\">\n",
              "  <thead>\n",
              "    <tr style=\"text-align: right;\">\n",
              "      <th></th>\n",
              "      <th>title</th>\n",
              "      <th>paperAbstract</th>\n",
              "      <th>authors</th>\n",
              "      <th>inCitations</th>\n",
              "      <th>outCitations</th>\n",
              "      <th>year</th>\n",
              "      <th>s2Url</th>\n",
              "      <th>sources</th>\n",
              "      <th>pdfUrls</th>\n",
              "      <th>venue</th>\n",
              "      <th>journalName</th>\n",
              "      <th>journalVolume</th>\n",
              "      <th>journalPages</th>\n",
              "      <th>doi</th>\n",
              "      <th>doiUrl</th>\n",
              "      <th>pmid</th>\n",
              "      <th>fieldsOfStudy</th>\n",
              "      <th>magId</th>\n",
              "      <th>s2PdfUrl</th>\n",
              "      <th>entities</th>\n",
              "    </tr>\n",
              "    <tr>\n",
              "      <th>id</th>\n",
              "      <th></th>\n",
              "      <th></th>\n",
              "      <th></th>\n",
              "      <th></th>\n",
              "      <th></th>\n",
              "      <th></th>\n",
              "      <th></th>\n",
              "      <th></th>\n",
              "      <th></th>\n",
              "      <th></th>\n",
              "      <th></th>\n",
              "      <th></th>\n",
              "      <th></th>\n",
              "      <th></th>\n",
              "      <th></th>\n",
              "      <th></th>\n",
              "      <th></th>\n",
              "      <th></th>\n",
              "      <th></th>\n",
              "      <th></th>\n",
              "    </tr>\n",
              "  </thead>\n",
              "  <tbody>\n",
              "    <tr>\n",
              "      <th>33b237709dbd53953a750355115b57ccb6690da1</th>\n",
              "      <td>USING PHOTO IMAGES TO DETERMINE THE GEOMETRIC ...</td>\n",
              "      <td></td>\n",
              "      <td>[{'name': 'E  Popov', 'ids': ['144112922']}, {...</td>\n",
              "      <td>[]</td>\n",
              "      <td>[]</td>\n",
              "      <td>2019.0</td>\n",
              "      <td>https://semanticscholar.org/paper/33b237709dbd...</td>\n",
              "      <td>[]</td>\n",
              "      <td>[]</td>\n",
              "      <td></td>\n",
              "      <td></td>\n",
              "      <td>19</td>\n",
              "      <td>45-54</td>\n",
              "      <td>10.14529/build190307</td>\n",
              "      <td>https://doi.org/10.14529/build190307</td>\n",
              "      <td></td>\n",
              "      <td>[Computer Science]</td>\n",
              "      <td>3000193832</td>\n",
              "      <td></td>\n",
              "      <td>[]</td>\n",
              "    </tr>\n",
              "    <tr>\n",
              "      <th>062e9c7579adc73129e1198671d05905f07d4ab5</th>\n",
              "      <td>Clinical or Industrial Pharmacy? Case Studies ...</td>\n",
              "      <td>Automated medication dispensing systems for ho...</td>\n",
              "      <td>[{'name': 'J  Novek', 'ids': ['47586327']}]</td>\n",
              "      <td>[799bde07f3e9dc7f39d30ae9e1ac29cda9cd5a5c, 59a...</td>\n",
              "      <td>[a402dac75befed8c389fe00a3b6eed7ee8da87e1, 7d9...</td>\n",
              "      <td>1998.0</td>\n",
              "      <td>https://semanticscholar.org/paper/062e9c7579ad...</td>\n",
              "      <td>[Medline]</td>\n",
              "      <td>[]</td>\n",
              "      <td>International journal of health services : pla...</td>\n",
              "      <td>International Journal of Health Services</td>\n",
              "      <td>28</td>\n",
              "      <td>445 - 465</td>\n",
              "      <td>10.2190/W2BT-FGXQ-QL0G-YNL9</td>\n",
              "      <td>https://doi.org/10.2190/W2BT-FGXQ-QL0G-YNL9</td>\n",
              "      <td>9711475</td>\n",
              "      <td>[Medicine]</td>\n",
              "      <td>1988383910</td>\n",
              "      <td></td>\n",
              "      <td>[]</td>\n",
              "    </tr>\n",
              "    <tr>\n",
              "      <th>771723e7e2d9ed97d09442086553b726f0dd6657</th>\n",
              "      <td>Noncoronary and coronary atherothrombotic plaq...</td>\n",
              "      <td>In the future, the use of imaging methods to q...</td>\n",
              "      <td>[{'name': 'Zahi A Fayad', 'ids': ['1886137']}]</td>\n",
              "      <td>[ba2cbbac306fa374c7c07da398e31a52c5680a58, 494...</td>\n",
              "      <td>[3109764f646de80e096609f86b5e4bf19320c81c, aea...</td>\n",
              "      <td>2002.0</td>\n",
              "      <td>https://semanticscholar.org/paper/771723e7e2d9...</td>\n",
              "      <td>[Medline]</td>\n",
              "      <td>[]</td>\n",
              "      <td>Neuroimaging clinics of North America</td>\n",
              "      <td>Neuroimaging clinics of North America</td>\n",
              "      <td>12 3</td>\n",
              "      <td>\\n          461-71\\n</td>\n",
              "      <td>10.1016/S1052-5149(02)00023-0</td>\n",
              "      <td>https://doi.org/10.1016/S1052-5149%2802%2900023-0</td>\n",
              "      <td>12486833</td>\n",
              "      <td>[Medicine]</td>\n",
              "      <td>1983175018</td>\n",
              "      <td></td>\n",
              "      <td>[]</td>\n",
              "    </tr>\n",
              "    <tr>\n",
              "      <th>263f70167ba7def67a2843ffc30c80a0b9b3f617</th>\n",
              "      <td>국어 명사구 접속의 연구</td>\n",
              "      <td></td>\n",
              "      <td>[{'name': '최재희', 'ids': ['115087709']}]</td>\n",
              "      <td>[]</td>\n",
              "      <td>[]</td>\n",
              "      <td>1985.0</td>\n",
              "      <td>https://semanticscholar.org/paper/263f70167ba7...</td>\n",
              "      <td>[]</td>\n",
              "      <td>[]</td>\n",
              "      <td></td>\n",
              "      <td></td>\n",
              "      <td></td>\n",
              "      <td></td>\n",
              "      <td></td>\n",
              "      <td></td>\n",
              "      <td></td>\n",
              "      <td>[]</td>\n",
              "      <td>2291560164</td>\n",
              "      <td></td>\n",
              "      <td>[]</td>\n",
              "    </tr>\n",
              "    <tr>\n",
              "      <th>9ea1148fa657103879ef7ed9a5b716be48ee13a4</th>\n",
              "      <td>Who'll Take My Place : When I'm Gone</td>\n",
              "      <td></td>\n",
              "      <td>[{'name': 'Billy  Fazioli', 'ids': ['146257415...</td>\n",
              "      <td>[]</td>\n",
              "      <td>[]</td>\n",
              "      <td>2018.0</td>\n",
              "      <td>https://semanticscholar.org/paper/9ea1148fa657...</td>\n",
              "      <td>[]</td>\n",
              "      <td>[https://digitalcommons.library.umaine.edu/cgi...</td>\n",
              "      <td></td>\n",
              "      <td></td>\n",
              "      <td></td>\n",
              "      <td></td>\n",
              "      <td></td>\n",
              "      <td></td>\n",
              "      <td></td>\n",
              "      <td>[Art]</td>\n",
              "      <td>1489188979</td>\n",
              "      <td></td>\n",
              "      <td>[]</td>\n",
              "    </tr>\n",
              "  </tbody>\n",
              "</table>\n",
              "</div>"
            ],
            "text/plain": [
              "                                                                                      title  ... entities\n",
              "id                                                                                           ...         \n",
              "33b237709dbd53953a750355115b57ccb6690da1  USING PHOTO IMAGES TO DETERMINE THE GEOMETRIC ...  ...       []\n",
              "062e9c7579adc73129e1198671d05905f07d4ab5  Clinical or Industrial Pharmacy? Case Studies ...  ...       []\n",
              "771723e7e2d9ed97d09442086553b726f0dd6657  Noncoronary and coronary atherothrombotic plaq...  ...       []\n",
              "263f70167ba7def67a2843ffc30c80a0b9b3f617                                      국어 명사구 접속의 연구  ...       []\n",
              "9ea1148fa657103879ef7ed9a5b716be48ee13a4               Who'll Take My Place : When I'm Gone  ...       []\n",
              "\n",
              "[5 rows x 20 columns]"
            ]
          },
          "metadata": {
            "tags": []
          },
          "execution_count": 9
        }
      ]
    },
    {
      "cell_type": "markdown",
      "metadata": {
        "id": "PQF59FB5bx_g"
      },
      "source": [
        "The column names are sound. But for clarity we can describe shortly each. \n",
        "\n",
        "Columns:\n",
        "- `id` - id of the paper in the Semantic Scholar database\n",
        "- `title` - title of the paper\n",
        "- `paperAbstract` - abstract of the paper\n",
        "- `authors` - json containing names and ids of authors\n",
        "- `inCitations` - papers ids which have cited current paper\n",
        "- `outCitations` - papers ids which were cited by current paper\n",
        "- `year` - year of publication\n",
        "- `s2Url` - url to get the paper information\n",
        "- `sources` - bibliographic source of the paper\n",
        "- `pdfUrls` - link to the pdf\n",
        "- `venue` - publishing platform\n",
        "- `journalName` - name of the journal where paper published\n",
        "- `journalVolume` - volume of the journal\n",
        "- `journalPages` - at which pages the paper situated\n",
        "- `doi` - digital object identifier\n",
        "- `doiUrl` - link to the persistent location in the Internet\n",
        "- `pmid` - id in the PubMed database\n",
        "- `fieldsOfStudy` - fields to which paper relates\n",
        "- `magId` - another identifier\n",
        "- `s2PdfUrl` - link to the pdf in Semantic Scholar database\n",
        "- `entities` - blank \n",
        "---"
      ],
      "id": "PQF59FB5bx_g"
    },
    {
      "cell_type": "markdown",
      "metadata": {
        "id": "mgTtKOxZaXum"
      },
      "source": [
        "Following cell shows that only one column(year) is of the float type. \n",
        "\n",
        "We will convert or transform most of the columns to the numerical type since machine learning models work best with these types. \n",
        "\n",
        "> In the model selection section we will refer to one special model - **Catboost**, which can work with categorical(object) columns. "
      ],
      "id": "mgTtKOxZaXum"
    },
    {
      "cell_type": "code",
      "metadata": {
        "colab": {
          "base_uri": "https://localhost:8080/"
        },
        "id": "cc585312-0129-4fdc-890f-25a1991ac6a9",
        "outputId": "0dc69d3a-434e-4f7e-e806-1448a405b217"
      },
      "source": [
        "corpus.info()"
      ],
      "id": "cc585312-0129-4fdc-890f-25a1991ac6a9",
      "execution_count": 10,
      "outputs": [
        {
          "output_type": "stream",
          "text": [
            "<class 'pandas.core.frame.DataFrame'>\n",
            "Index: 954657 entries, 33b237709dbd53953a750355115b57ccb6690da1 to e3d5bbcd80b5b5927799164a8538d62966492fe5\n",
            "Data columns (total 20 columns):\n",
            " #   Column         Non-Null Count   Dtype  \n",
            "---  ------         --------------   -----  \n",
            " 0   title          954657 non-null  object \n",
            " 1   paperAbstract  954657 non-null  object \n",
            " 2   authors        954657 non-null  object \n",
            " 3   inCitations    954657 non-null  object \n",
            " 4   outCitations   954657 non-null  object \n",
            " 5   year           950001 non-null  float64\n",
            " 6   s2Url          954657 non-null  object \n",
            " 7   sources        954657 non-null  object \n",
            " 8   pdfUrls        954657 non-null  object \n",
            " 9   venue          954657 non-null  object \n",
            " 10  journalName    954657 non-null  object \n",
            " 11  journalVolume  954657 non-null  object \n",
            " 12  journalPages   954657 non-null  object \n",
            " 13  doi            954657 non-null  object \n",
            " 14  doiUrl         954657 non-null  object \n",
            " 15  pmid           954657 non-null  object \n",
            " 16  fieldsOfStudy  954657 non-null  object \n",
            " 17  magId          954657 non-null  object \n",
            " 18  s2PdfUrl       954657 non-null  object \n",
            " 19  entities       954657 non-null  object \n",
            "dtypes: float64(1), object(19)\n",
            "memory usage: 153.0+ MB\n"
          ],
          "name": "stdout"
        }
      ]
    },
    {
      "cell_type": "markdown",
      "metadata": {
        "id": "vrR7qhhsbB5j"
      },
      "source": [
        "Let's get some simple statistical information about column `year`. \n",
        "\n",
        "Generally, mean of the papers around 2001.\n",
        "\n",
        "However, there are very old papers published in 1601 and new papers published in 2021."
      ],
      "id": "vrR7qhhsbB5j"
    },
    {
      "cell_type": "code",
      "metadata": {
        "colab": {
          "base_uri": "https://localhost:8080/",
          "height": 0
        },
        "id": "ea753c61-f0bc-4d2e-ba4d-d2ce25674bda",
        "outputId": "9c401d41-d06e-4094-c410-5fd4d0dc0e53"
      },
      "source": [
        "corpus.describe()"
      ],
      "id": "ea753c61-f0bc-4d2e-ba4d-d2ce25674bda",
      "execution_count": 11,
      "outputs": [
        {
          "output_type": "execute_result",
          "data": {
            "text/html": [
              "<div>\n",
              "<style scoped>\n",
              "    .dataframe tbody tr th:only-of-type {\n",
              "        vertical-align: middle;\n",
              "    }\n",
              "\n",
              "    .dataframe tbody tr th {\n",
              "        vertical-align: top;\n",
              "    }\n",
              "\n",
              "    .dataframe thead th {\n",
              "        text-align: right;\n",
              "    }\n",
              "</style>\n",
              "<table border=\"1\" class=\"dataframe\">\n",
              "  <thead>\n",
              "    <tr style=\"text-align: right;\">\n",
              "      <th></th>\n",
              "      <th>year</th>\n",
              "    </tr>\n",
              "  </thead>\n",
              "  <tbody>\n",
              "    <tr>\n",
              "      <th>count</th>\n",
              "      <td>950001.000000</td>\n",
              "    </tr>\n",
              "    <tr>\n",
              "      <th>mean</th>\n",
              "      <td>2001.785349</td>\n",
              "    </tr>\n",
              "    <tr>\n",
              "      <th>std</th>\n",
              "      <td>19.760317</td>\n",
              "    </tr>\n",
              "    <tr>\n",
              "      <th>min</th>\n",
              "      <td>1601.000000</td>\n",
              "    </tr>\n",
              "    <tr>\n",
              "      <th>25%</th>\n",
              "      <td>1996.000000</td>\n",
              "    </tr>\n",
              "    <tr>\n",
              "      <th>50%</th>\n",
              "      <td>2008.000000</td>\n",
              "    </tr>\n",
              "    <tr>\n",
              "      <th>75%</th>\n",
              "      <td>2014.000000</td>\n",
              "    </tr>\n",
              "    <tr>\n",
              "      <th>max</th>\n",
              "      <td>2021.000000</td>\n",
              "    </tr>\n",
              "  </tbody>\n",
              "</table>\n",
              "</div>"
            ],
            "text/plain": [
              "                year\n",
              "count  950001.000000\n",
              "mean     2001.785349\n",
              "std        19.760317\n",
              "min      1601.000000\n",
              "25%      1996.000000\n",
              "50%      2008.000000\n",
              "75%      2014.000000\n",
              "max      2021.000000"
            ]
          },
          "metadata": {
            "tags": []
          },
          "execution_count": 11
        }
      ]
    },
    {
      "cell_type": "markdown",
      "metadata": {
        "id": "d52dc65a-d059-49ef-b87a-a6936cf1942d"
      },
      "source": [
        "### Converting to np.nan\n",
        "\n",
        "For the first glance there were many empty cells.\n",
        "\n",
        "However, following function shows that the only column containing empty values is the `year` column.\n",
        "\n",
        "Surely, this is because columns represent null values as **empty strings/lists** rather than `np.nan`"
      ],
      "id": "d52dc65a-d059-49ef-b87a-a6936cf1942d"
    },
    {
      "cell_type": "code",
      "metadata": {
        "colab": {
          "base_uri": "https://localhost:8080/"
        },
        "id": "266b5b31-83a0-4f6a-8c7b-e4405c1e6183",
        "outputId": "8d95ba42-4d4e-4226-a05a-e78df06ee4dd"
      },
      "source": [
        "corpus.isna().sum()"
      ],
      "id": "266b5b31-83a0-4f6a-8c7b-e4405c1e6183",
      "execution_count": 12,
      "outputs": [
        {
          "output_type": "execute_result",
          "data": {
            "text/plain": [
              "title               0\n",
              "paperAbstract       0\n",
              "authors             0\n",
              "inCitations         0\n",
              "outCitations        0\n",
              "year             4656\n",
              "s2Url               0\n",
              "sources             0\n",
              "pdfUrls             0\n",
              "venue               0\n",
              "journalName         0\n",
              "journalVolume       0\n",
              "journalPages        0\n",
              "doi                 0\n",
              "doiUrl              0\n",
              "pmid                0\n",
              "fieldsOfStudy       0\n",
              "magId               0\n",
              "s2PdfUrl            0\n",
              "entities            0\n",
              "dtype: int64"
            ]
          },
          "metadata": {
            "tags": []
          },
          "execution_count": 12
        }
      ]
    },
    {
      "cell_type": "markdown",
      "metadata": {
        "id": "g0OWgsgmcyJm"
      },
      "source": [
        "We have manually selected columns which store in their cells the string and which store lists separately.\n",
        "\n",
        "We will convert for our ease the empty strings to `np.nan`'s and will keep empty lists as they are.\n",
        "\n",
        "> But to show that there are many rows with empty lists will make full transformations on the copy of the `corpus` dataframe"
      ],
      "id": "g0OWgsgmcyJm"
    },
    {
      "cell_type": "code",
      "metadata": {
        "id": "431be385-1f92-4f01-ad00-dd4a598ab7ff"
      },
      "source": [
        "cols_with_strings = ['title', 'paperAbstract', 'venue', \n",
        "                     'journalName', 'journalVolume', \n",
        "                     'journalPages', 'doi', 'doiUrl', \n",
        "                     'pmid', 'magId', 's2PdfUrl', 's2Url']\n",
        "\n",
        "cols_with_lists = ['sources', 'pdfUrls', 'outCitations',\n",
        "                   'inCitations', 'authors', 'fieldsOfStudy', 'entities']"
      ],
      "id": "431be385-1f92-4f01-ad00-dd4a598ab7ff",
      "execution_count": 13,
      "outputs": []
    },
    {
      "cell_type": "code",
      "metadata": {
        "id": "0f82a4cb-617e-4979-a408-45706af297d3"
      },
      "source": [
        "corpus_copy = corpus.copy()\n",
        "\n",
        "for col in cols_with_strings:\n",
        "    corpus_copy[col] = corpus_copy[col].apply(lambda x: np.nan if x == '' else x)\n",
        "    \n",
        "    # we will apply this transformation to the original corpus too\n",
        "    corpus[col] = corpus[col].apply(lambda x: np.nan if x == '' else x)\n",
        "\n",
        "for col in cols_with_lists:\n",
        "    corpus_copy[col] = corpus_copy[col].apply(lambda x: np.nan if len(x) == 0 else x)"
      ],
      "id": "0f82a4cb-617e-4979-a408-45706af297d3",
      "execution_count": 14,
      "outputs": []
    },
    {
      "cell_type": "markdown",
      "metadata": {
        "id": "7jOVb-Xbdfe1"
      },
      "source": [
        "Now it is clear that there are many empty cell as we thought during our first acquaintance."
      ],
      "id": "7jOVb-Xbdfe1"
    },
    {
      "cell_type": "code",
      "metadata": {
        "colab": {
          "base_uri": "https://localhost:8080/"
        },
        "id": "52a89bbf-aae8-4129-ac3f-5bab3d92d20e",
        "outputId": "88969172-ce57-46af-ec84-04031133cf38"
      },
      "source": [
        "corpus_copy.isna().sum()"
      ],
      "id": "52a89bbf-aae8-4129-ac3f-5bab3d92d20e",
      "execution_count": 15,
      "outputs": [
        {
          "output_type": "execute_result",
          "data": {
            "text/plain": [
              "title                 1\n",
              "paperAbstract    406416\n",
              "authors           11697\n",
              "inCitations      550998\n",
              "outCitations     598795\n",
              "year               4656\n",
              "s2Url                 0\n",
              "sources          769189\n",
              "pdfUrls          778431\n",
              "venue            737522\n",
              "journalName      491361\n",
              "journalVolume    456400\n",
              "journalPages     404089\n",
              "doi              464822\n",
              "doiUrl           464822\n",
              "pmid             794082\n",
              "fieldsOfStudy    149760\n",
              "magId             59404\n",
              "s2PdfUrl         954657\n",
              "entities         954657\n",
              "dtype: int64"
            ]
          },
          "metadata": {
            "tags": []
          },
          "execution_count": 15
        }
      ]
    },
    {
      "cell_type": "markdown",
      "metadata": {
        "id": "888c1140-9196-423a-ac3e-949637b4d174"
      },
      "source": [
        "### Dropping columns with most np.nan\n",
        "\n",
        "Even though we found out that there are many columns with empty cells,\\\n",
        " let us show which columns have the most number of null values.\n"
      ],
      "id": "888c1140-9196-423a-ac3e-949637b4d174"
    },
    {
      "cell_type": "code",
      "metadata": {
        "colab": {
          "base_uri": "https://localhost:8080/"
        },
        "id": "bba21ac8-86dc-4a62-9cbe-539d96752786",
        "outputId": "f94bbb1a-7012-42c3-ac3c-f0842a581771"
      },
      "source": [
        "# percentage of null values in columns top 10\n",
        "isna_series = corpus_copy.isna().sum() / len(corpus_copy) * 100\n",
        "(isna_series).sort_values(ascending=False).iloc[:10] "
      ],
      "id": "bba21ac8-86dc-4a62-9cbe-539d96752786",
      "execution_count": 16,
      "outputs": [
        {
          "output_type": "execute_result",
          "data": {
            "text/plain": [
              "entities        100.000000\n",
              "s2PdfUrl        100.000000\n",
              "pmid             83.179823\n",
              "pdfUrls          81.540386\n",
              "sources          80.572289\n",
              "venue            77.255182\n",
              "outCitations     62.723575\n",
              "inCitations      57.716855\n",
              "journalName      51.469900\n",
              "doi              48.689948\n",
              "dtype: float64"
            ]
          },
          "metadata": {
            "tags": []
          },
          "execution_count": 16
        }
      ]
    },
    {
      "cell_type": "code",
      "metadata": {
        "id": "0e8bf142-28ff-4f2f-8989-176ea89385db"
      },
      "source": [
        "# We can drop some of the columns as they mostly consist of np.nan \n",
        "corpus.drop(columns=['s2PdfUrl', 'entities', 'pmid', 'pdfUrls'], inplace=True)"
      ],
      "id": "0e8bf142-28ff-4f2f-8989-176ea89385db",
      "execution_count": 17,
      "outputs": []
    },
    {
      "cell_type": "markdown",
      "metadata": {
        "id": "e1883e83-0259-44c4-b5d4-f593549809df"
      },
      "source": [
        "### Drop rows with np.nan in year column\n",
        "\n",
        "Drop rows where year column has np.nan since our predictions will be based on the year"
      ],
      "id": "e1883e83-0259-44c4-b5d4-f593549809df"
    },
    {
      "cell_type": "code",
      "metadata": {
        "id": "90a7d41f-5ec2-48e2-9ad5-ddb7de2ce1b9"
      },
      "source": [
        "corpus.dropna(subset=['year'], inplace=True)"
      ],
      "id": "90a7d41f-5ec2-48e2-9ad5-ddb7de2ce1b9",
      "execution_count": 18,
      "outputs": []
    },
    {
      "cell_type": "markdown",
      "metadata": {
        "id": "10f17ad4-aa7d-4bb0-bb46-84f5a5617365"
      },
      "source": [
        "### Clean author column\n",
        "\n",
        "Authors columns contains valuable information, but first needs some cleaning.\n",
        "\n",
        "A lot better to store just ids of paper authors than jsons. Thus we will keep only ids. \n",
        "\n",
        "However, some authors seem to have no id. We need to generate them new id.\n"
      ],
      "id": "10f17ad4-aa7d-4bb0-bb46-84f5a5617365"
    },
    {
      "cell_type": "code",
      "metadata": {
        "colab": {
          "base_uri": "https://localhost:8080/"
        },
        "id": "0994fa3c-7c30-4963-83f2-1f35124dd9ec",
        "outputId": "3cfcc189-4ee9-44c6-d664-cc6a714d11f7"
      },
      "source": [
        "corpus.authors"
      ],
      "id": "0994fa3c-7c30-4963-83f2-1f35124dd9ec",
      "execution_count": 19,
      "outputs": [
        {
          "output_type": "execute_result",
          "data": {
            "text/plain": [
              "id\n",
              "33b237709dbd53953a750355115b57ccb6690da1    [{'name': 'E  Popov', 'ids': ['144112922']}, {...\n",
              "062e9c7579adc73129e1198671d05905f07d4ab5          [{'name': 'J  Novek', 'ids': ['47586327']}]\n",
              "771723e7e2d9ed97d09442086553b726f0dd6657       [{'name': 'Zahi A Fayad', 'ids': ['1886137']}]\n",
              "263f70167ba7def67a2843ffc30c80a0b9b3f617              [{'name': '최재희', 'ids': ['115087709']}]\n",
              "9ea1148fa657103879ef7ed9a5b716be48ee13a4    [{'name': 'Billy  Fazioli', 'ids': ['146257415...\n",
              "                                                                  ...                        \n",
              "4c61aa8e7e85a88491e531b1983e3e85a6c82894         [{'name': 'V  Bhalla', 'ids': ['50789404']}]\n",
              "0fae8e72274e9bc72dc31dc9b4f86aa617593706    [{'name': 'Lyudmyla O. Shyyko', 'ids': ['35805...\n",
              "23a26492083561549b6eec014db0b539be62b3be    [{'name': 'Yulia  Solovieva', 'ids': ['7398685...\n",
              "e2e97b3e97dd33d49a76c2ce757efbdff4a526ba    [{'name': 'M. A. Grado-Caffaro', 'ids': ['1405...\n",
              "e3d5bbcd80b5b5927799164a8538d62966492fe5    [{'name': 'G  Feutren', 'ids': ['6679379']}, {...\n",
              "Name: authors, Length: 950001, dtype: object"
            ]
          },
          "metadata": {
            "tags": []
          },
          "execution_count": 19
        }
      ]
    },
    {
      "cell_type": "markdown",
      "metadata": {
        "id": "5cc2aedb-3a45-4d7e-8302-ce04592ece8c"
      },
      "source": [
        "Since there are some authors who do not have an id, \\\n",
        "we can get maximal id among authors and \\\n",
        "then generate new ids for those who do not have one\n",
        "by just iterating that maximal id"
      ],
      "id": "5cc2aedb-3a45-4d7e-8302-ce04592ece8c"
    },
    {
      "cell_type": "code",
      "metadata": {
        "colab": {
          "base_uri": "https://localhost:8080/"
        },
        "id": "9f0ff581-57f7-4c3a-82a4-77b8381ddc30",
        "outputId": "d457ccdc-b653-493a-f3b0-848211baf875"
      },
      "source": [
        "%%time\n",
        "author_prep = dataprep.AuthorPrep()\n",
        "\n",
        "author_prep.get_max_id(corpus)"
      ],
      "id": "9f0ff581-57f7-4c3a-82a4-77b8381ddc30",
      "execution_count": 20,
      "outputs": [
        {
          "output_type": "stream",
          "text": [
            "950001it [00:10, 91155.90it/s]"
          ],
          "name": "stderr"
        },
        {
          "output_type": "stream",
          "text": [
            "CPU times: user 9.6 s, sys: 768 ms, total: 10.4 s\n",
            "Wall time: 10.4 s\n"
          ],
          "name": "stdout"
        },
        {
          "output_type": "stream",
          "text": [
            "\n"
          ],
          "name": "stderr"
        }
      ]
    },
    {
      "cell_type": "markdown",
      "metadata": {
        "id": "s_V4_Kgsju3P"
      },
      "source": [
        "Now we will generate new ids for those authors who do not have one."
      ],
      "id": "s_V4_Kgsju3P"
    },
    {
      "cell_type": "code",
      "metadata": {
        "colab": {
          "base_uri": "https://localhost:8080/"
        },
        "id": "088cb1b8-a607-4da2-921f-5a1e2b42353c",
        "outputId": "ba781c28-4631-48e9-9d1b-9bc211666bca"
      },
      "source": [
        "%%time\n",
        "author_prep.generate_ids()"
      ],
      "id": "088cb1b8-a607-4da2-921f-5a1e2b42353c",
      "execution_count": 21,
      "outputs": [
        {
          "output_type": "stream",
          "text": [
            "CPU times: user 19.5 ms, sys: 976 µs, total: 20.5 ms\n",
            "Wall time: 21.6 ms\n"
          ],
          "name": "stdout"
        }
      ]
    },
    {
      "cell_type": "markdown",
      "metadata": {
        "id": "fUzgseTZj2FY"
      },
      "source": [
        "Convert json in the authors column to the list of author ids"
      ],
      "id": "fUzgseTZj2FY"
    },
    {
      "cell_type": "code",
      "metadata": {
        "colab": {
          "base_uri": "https://localhost:8080/"
        },
        "id": "860301c8-76aa-4f32-ba99-d32b2605acf8",
        "outputId": "1c7b185c-c8cd-4b2a-a8d2-9eeae525f623"
      },
      "source": [
        "%%time\n",
        "# apply function for each row in the dataframe\n",
        "corpus.authors = corpus.authors.apply(author_prep.get_author_ids)"
      ],
      "id": "860301c8-76aa-4f32-ba99-d32b2605acf8",
      "execution_count": 22,
      "outputs": [
        {
          "output_type": "stream",
          "text": [
            "CPU times: user 2.51 s, sys: 76.8 ms, total: 2.59 s\n",
            "Wall time: 2.6 s\n"
          ],
          "name": "stdout"
        }
      ]
    },
    {
      "cell_type": "markdown",
      "metadata": {
        "id": "5QB5Nxohj8wC"
      },
      "source": [
        "Now, it is more cleaner and easier to work with"
      ],
      "id": "5QB5Nxohj8wC"
    },
    {
      "cell_type": "code",
      "metadata": {
        "colab": {
          "base_uri": "https://localhost:8080/"
        },
        "id": "2M2z5Bs1j6OP",
        "outputId": "9e9c058a-1d97-4fa9-e213-7ed7cef65e83"
      },
      "source": [
        "corpus.authors.head()"
      ],
      "id": "2M2z5Bs1j6OP",
      "execution_count": 23,
      "outputs": [
        {
          "output_type": "execute_result",
          "data": {
            "text/plain": [
              "id\n",
              "33b237709dbd53953a750355115b57ccb6690da1    [144112922, 108722565]\n",
              "062e9c7579adc73129e1198671d05905f07d4ab5                [47586327]\n",
              "771723e7e2d9ed97d09442086553b726f0dd6657                 [1886137]\n",
              "263f70167ba7def67a2843ffc30c80a0b9b3f617               [115087709]\n",
              "9ea1148fa657103879ef7ed9a5b716be48ee13a4    [146257415, 147923943]\n",
              "Name: authors, dtype: object"
            ]
          },
          "metadata": {
            "tags": []
          },
          "execution_count": 23
        }
      ]
    },
    {
      "cell_type": "markdown",
      "metadata": {
        "id": "AbFTT62Ebc9i"
      },
      "source": [
        "### Clean journalPages column\n",
        "\n",
        "Seems that journalPages column contains different formats for different papers, some have null values. \\\n",
        "\n",
        "To not spend a lot of time on this column and aviod noise in the data from improper parsing \n",
        "\n",
        "it was decided to skip this column!"
      ],
      "id": "AbFTT62Ebc9i"
    },
    {
      "cell_type": "code",
      "metadata": {
        "colab": {
          "base_uri": "https://localhost:8080/"
        },
        "id": "_ltyiZS5cx0-",
        "outputId": "7223781b-4b14-4251-a365-8132a629ea64"
      },
      "source": [
        "corpus.journalPages"
      ],
      "id": "_ltyiZS5cx0-",
      "execution_count": 24,
      "outputs": [
        {
          "output_type": "execute_result",
          "data": {
            "text/plain": [
              "id\n",
              "33b237709dbd53953a750355115b57ccb6690da1                           45-54\n",
              "062e9c7579adc73129e1198671d05905f07d4ab5                       445 - 465\n",
              "771723e7e2d9ed97d09442086553b726f0dd6657    \\n          461-71\\n        \n",
              "263f70167ba7def67a2843ffc30c80a0b9b3f617                             NaN\n",
              "9ea1148fa657103879ef7ed9a5b716be48ee13a4                             NaN\n",
              "                                                        ...             \n",
              "4c61aa8e7e85a88491e531b1983e3e85a6c82894     \\n          453-8\\n        \n",
              "0fae8e72274e9bc72dc31dc9b4f86aa617593706                             NaN\n",
              "23a26492083561549b6eec014db0b539be62b3be                             NaN\n",
              "e2e97b3e97dd33d49a76c2ce757efbdff4a526ba                         543-544\n",
              "e3d5bbcd80b5b5927799164a8538d62966492fe5    \\n          99-107\\n        \n",
              "Name: journalPages, Length: 950001, dtype: object"
            ]
          },
          "metadata": {
            "tags": []
          },
          "execution_count": 24
        }
      ]
    },
    {
      "cell_type": "markdown",
      "metadata": {
        "id": "HVKAnpBrcyZJ"
      },
      "source": [
        "### Clean journalVolume column\n",
        "\n",
        "The same situation as with journalPages here."
      ],
      "id": "HVKAnpBrcyZJ"
    },
    {
      "cell_type": "code",
      "metadata": {
        "id": "o4vk_R2aesvm",
        "colab": {
          "base_uri": "https://localhost:8080/"
        },
        "outputId": "cc425af9-a288-4384-c32e-5d20fff8049d"
      },
      "source": [
        "corpus.journalVolume"
      ],
      "id": "o4vk_R2aesvm",
      "execution_count": 25,
      "outputs": [
        {
          "output_type": "execute_result",
          "data": {
            "text/plain": [
              "id\n",
              "33b237709dbd53953a750355115b57ccb6690da1      19\n",
              "062e9c7579adc73129e1198671d05905f07d4ab5      28\n",
              "771723e7e2d9ed97d09442086553b726f0dd6657    12 3\n",
              "263f70167ba7def67a2843ffc30c80a0b9b3f617     NaN\n",
              "9ea1148fa657103879ef7ed9a5b716be48ee13a4     NaN\n",
              "                                            ... \n",
              "4c61aa8e7e85a88491e531b1983e3e85a6c82894    22 5\n",
              "0fae8e72274e9bc72dc31dc9b4f86aa617593706      61\n",
              "23a26492083561549b6eec014db0b539be62b3be     NaN\n",
              "e2e97b3e97dd33d49a76c2ce757efbdff4a526ba     110\n",
              "e3d5bbcd80b5b5927799164a8538d62966492fe5     8 1\n",
              "Name: journalVolume, Length: 950001, dtype: object"
            ]
          },
          "metadata": {
            "tags": []
          },
          "execution_count": 25
        }
      ]
    },
    {
      "cell_type": "markdown",
      "metadata": {
        "id": "3bAKdPJReCfr"
      },
      "source": [
        "### Drop columns with unique values\n",
        "\n",
        "Following columns do not have correlations with target variable since each value in the columns are unique"
      ],
      "id": "3bAKdPJReCfr"
    },
    {
      "cell_type": "code",
      "metadata": {
        "id": "fRYO2rOWdVpV"
      },
      "source": [
        "corpus.drop(columns=['doi', 'doiUrl', 'magId', 's2Url'], inplace=True)"
      ],
      "id": "fRYO2rOWdVpV",
      "execution_count": 26,
      "outputs": []
    },
    {
      "cell_type": "markdown",
      "metadata": {
        "id": "e94c602a-8958-41d8-ba9b-434e05710ea3"
      },
      "source": [
        "## Feature Generation"
      ],
      "id": "e94c602a-8958-41d8-ba9b-434e05710ea3"
    },
    {
      "cell_type": "markdown",
      "metadata": {
        "id": "A1OuQxmucLk8"
      },
      "source": [
        "### Max h-index"
      ],
      "id": "A1OuQxmucLk8"
    },
    {
      "cell_type": "code",
      "metadata": {
        "id": "M-RaV-xWcB2j"
      },
      "source": [
        "cite_prep = dataprep.CitationsPrep()"
      ],
      "id": "M-RaV-xWcB2j",
      "execution_count": 27,
      "outputs": []
    },
    {
      "cell_type": "code",
      "metadata": {
        "colab": {
          "base_uri": "https://localhost:8080/",
          "height": 0,
          "referenced_widgets": [
            "d840d8939be64062ad8c14355c88e0ab",
            "1aee2bbf88394598a8831df0a1e21ca2",
            "5a3b467b6aa046ffb1682ca6c5664bd8",
            "8feb5fdd6ed74018b45b86774b4728a1",
            "501cb0901bee494fbdb5f667d4fda7f3",
            "babb643e61c44bd7a537000c73fbbf35",
            "829de0a1f3e84e91b154bff27342a2bc",
            "68701ae300a84c5e964b68158c09fff5"
          ]
        },
        "id": "Z6LNM4QDUa6L",
        "outputId": "c9374dbf-0295-4894-f368-eb24e0351f30"
      },
      "source": [
        "%%time\n",
        "\n",
        "# count number of citations for each paper and author\n",
        "p_cite_count, a_cite_count = cite_prep.count(corpus)"
      ],
      "id": "Z6LNM4QDUa6L",
      "execution_count": 28,
      "outputs": [
        {
          "output_type": "display_data",
          "data": {
            "application/vnd.jupyter.widget-view+json": {
              "model_id": "d840d8939be64062ad8c14355c88e0ab",
              "version_minor": 0,
              "version_major": 2
            },
            "text/plain": [
              "HBox(children=(FloatProgress(value=0.0, max=950001.0), HTML(value='')))"
            ]
          },
          "metadata": {
            "tags": []
          }
        },
        {
          "output_type": "stream",
          "text": [
            "\n",
            "CPU times: user 29min 13s, sys: 4.52 s, total: 29min 18s\n",
            "Wall time: 29min 20s\n"
          ],
          "name": "stdout"
        }
      ]
    },
    {
      "cell_type": "code",
      "metadata": {
        "id": "Srh9zdUPb0L_",
        "colab": {
          "base_uri": "https://localhost:8080/",
          "height": 0,
          "referenced_widgets": [
            "4174b754004647bdb07a8589ca453bb3",
            "23b538f8ce324bccbc837d2f0f42ebfb",
            "23fee9113f624f18a6ee0e1f773ba369",
            "3b1191a8f5e149cf8e6639be21b59d7a",
            "55c53f7e99a1436bbd27564c3ce865fa",
            "5be5422fc68d48a9abdefb8d500fd706",
            "85ddc0a0462844439f8fb34db2103e81",
            "898b1198f88f42548e0e6f4d570c0e3d"
          ]
        },
        "outputId": "e5d40aae-fb0f-4a62-8cce-1de13b455b09"
      },
      "source": [
        "%%time\n",
        "max_h_values = cite_prep.calc_scholarmetrics(corpus, p_cite_count, a_cite_count)"
      ],
      "id": "Srh9zdUPb0L_",
      "execution_count": 29,
      "outputs": [
        {
          "output_type": "display_data",
          "data": {
            "application/vnd.jupyter.widget-view+json": {
              "model_id": "4174b754004647bdb07a8589ca453bb3",
              "version_minor": 0,
              "version_major": 2
            },
            "text/plain": [
              "HBox(children=(FloatProgress(value=0.0, max=950001.0), HTML(value='')))"
            ]
          },
          "metadata": {
            "tags": []
          }
        },
        {
          "output_type": "stream",
          "text": [
            "\n",
            "CPU times: user 7min 10s, sys: 7.04 s, total: 7min 17s\n",
            "Wall time: 7min 11s\n"
          ],
          "name": "stdout"
        }
      ]
    },
    {
      "cell_type": "code",
      "metadata": {
        "id": "96VMJ4M6fDOs",
        "colab": {
          "base_uri": "https://localhost:8080/"
        },
        "outputId": "916964a7-9a0a-4da8-9f59-0010ac93840f"
      },
      "source": [
        "max_h_values.most_common(10)"
      ],
      "id": "96VMJ4M6fDOs",
      "execution_count": 30,
      "outputs": [
        {
          "output_type": "execute_result",
          "data": {
            "text/plain": [
              "[('6e767d04937ed5dc9008734fcc6911663cf53682', 12),\n",
              " ('f200f06b704116acb25d7c9042dac870043d479c', 12),\n",
              " ('e728e07ff102bc4b489d23428c3b322e0bf9cda6', 12),\n",
              " ('f8b0073f3cbfc841d191c3c9db71e3588b387ff4', 12),\n",
              " ('cb3ee60c80fd0b65e9b6d25fd106a80af73dafcf', 12),\n",
              " ('f24650d2bb3f8e71d59982652124c52dcc72bcb5', 12),\n",
              " ('2d3f8a5d0406d90993147b78a128acd3937dde57', 12),\n",
              " ('ac9bfb4ef6a1b3db3143ccf5394edc1171725234', 12),\n",
              " ('766eaff36ee3a7be143bc9d1c8e43a89d053a88f', 12),\n",
              " ('4b327d6080b218f1659a163dd38f12e14671d1c4', 12)]"
            ]
          },
          "metadata": {
            "tags": []
          },
          "execution_count": 30
        }
      ]
    },
    {
      "cell_type": "code",
      "metadata": {
        "id": "1Z6nmXbTctq0"
      },
      "source": [
        "corpus['max_hindex'] = pd.DataFrame.from_dict(max_h_values, orient='index')"
      ],
      "id": "1Z6nmXbTctq0",
      "execution_count": 31,
      "outputs": []
    },
    {
      "cell_type": "markdown",
      "metadata": {
        "id": "EJkLAz8g1duq"
      },
      "source": [
        "### Author number"
      ],
      "id": "EJkLAz8g1duq"
    },
    {
      "cell_type": "code",
      "metadata": {
        "id": "f9059faa-3a9d-4399-9e16-1b8b6c937bea"
      },
      "source": [
        "corpus['n_authors'] = corpus.authors.apply(lambda x: len(x) if x is not np.nan else 0)"
      ],
      "id": "f9059faa-3a9d-4399-9e16-1b8b6c937bea",
      "execution_count": 32,
      "outputs": []
    },
    {
      "cell_type": "markdown",
      "metadata": {
        "id": "jaPk8xkZ2YxY"
      },
      "source": [
        "### Recency"
      ],
      "id": "jaPk8xkZ2YxY"
    },
    {
      "cell_type": "code",
      "metadata": {
        "id": "ad2a8ba3-b9c6-4f61-8c43-a4121c69701d"
      },
      "source": [
        "# recency(current year - year of publication)\n",
        "corpus.year = corpus.year.apply(lambda x: 2021 - x)\n",
        "corpus.rename(columns={'year': 'recency'}, inplace=True)"
      ],
      "id": "ad2a8ba3-b9c6-4f61-8c43-a4121c69701d",
      "execution_count": 33,
      "outputs": []
    },
    {
      "cell_type": "markdown",
      "metadata": {
        "id": "PCQ7RdoT2afo"
      },
      "source": [
        "### Lengths of title and abstract"
      ],
      "id": "PCQ7RdoT2afo"
    },
    {
      "cell_type": "code",
      "metadata": {
        "id": "03bcd53a-8339-48b6-983f-cae8ad835483"
      },
      "source": [
        "get_len = lambda x: len(x) if x is not np.nan else 0\n",
        "\n",
        "corpus['title_len'] = corpus.title.apply(get_len)\n",
        "corpus['abstract_len'] = corpus.paperAbstract.apply(get_len)"
      ],
      "id": "03bcd53a-8339-48b6-983f-cae8ad835483",
      "execution_count": 34,
      "outputs": []
    },
    {
      "cell_type": "markdown",
      "metadata": {
        "id": "IVb57JEIsA1I"
      },
      "source": [
        "### Citations number \n",
        "\n",
        "We will need to use citations information for building our model, \n",
        "\n",
        "this column will be our target variable, and we will do some operations with this column\n",
        "\n",
        "Thus we will take it out to another dataframe"
      ],
      "id": "IVb57JEIsA1I"
    },
    {
      "cell_type": "code",
      "metadata": {
        "id": "6C2pknIz3eLn"
      },
      "source": [
        "citation_info = pd.Series(p_cite_count)"
      ],
      "id": "6C2pknIz3eLn",
      "execution_count": 35,
      "outputs": []
    },
    {
      "cell_type": "code",
      "metadata": {
        "id": "GXr49Ps13yEM"
      },
      "source": [
        "citation_info, _ = citation_info.align(corpus, join='right', axis=0, fill_value=0)"
      ],
      "id": "GXr49Ps13yEM",
      "execution_count": 36,
      "outputs": []
    },
    {
      "cell_type": "code",
      "metadata": {
        "id": "F3sGBOk73IMJ"
      },
      "source": [
        "corpus['citations_n'] = citation_info"
      ],
      "id": "F3sGBOk73IMJ",
      "execution_count": 37,
      "outputs": []
    },
    {
      "cell_type": "markdown",
      "metadata": {
        "id": "jQ9l2WFE1xAo"
      },
      "source": [
        "### Venue's h-index\n",
        "\n",
        "Not only authors have h-indices but venue's too.\n",
        "\n",
        "Higher h-index of the platform of publication will result in higher citation counts too."
      ],
      "id": "jQ9l2WFE1xAo"
    },
    {
      "cell_type": "code",
      "metadata": {
        "id": "ZUBk4yS60oGy"
      },
      "source": [
        "from scholarmetrics import hindex\n",
        "\n",
        "\n",
        "groups = corpus.groupby('venue')\n",
        "venue_hindex = groups['citations_n'].apply(lambda x: hindex(x.tolist()))"
      ],
      "id": "ZUBk4yS60oGy",
      "execution_count": 38,
      "outputs": []
    },
    {
      "cell_type": "code",
      "metadata": {
        "id": "xD7Ecs_Xsj9Q"
      },
      "source": [
        "def get_venue_hindex(x):\n",
        "    if x['venue'] is np.nan:\n",
        "        return 0\n",
        "    else:\n",
        "        return venue_hindex[x['venue']]\n",
        "\n",
        "\n",
        "corpus['venue_hindex'] = corpus.apply(lambda x: get_venue_hindex(x), axis=1)"
      ],
      "id": "xD7Ecs_Xsj9Q",
      "execution_count": 39,
      "outputs": []
    },
    {
      "cell_type": "markdown",
      "metadata": {
        "id": "_36acxEN10oT"
      },
      "source": [
        "### Average number of citations of papers published in this venue"
      ],
      "id": "_36acxEN10oT"
    },
    {
      "cell_type": "code",
      "metadata": {
        "id": "dHCRhqNp1uo-"
      },
      "source": [
        "venue_mean_cite = groups['citations_n'].apply(lambda x: x.mean())\n",
        "\n",
        "def get_venue_mean_cite(paper: pd.Series):\n",
        "    if paper['venue'] is np.nan:\n",
        "        return 0\n",
        "    else:\n",
        "        return venue_mean_cite[paper['venue']]\n",
        "\n",
        "\n",
        "corpus['venue_mean_cite'] = corpus.apply(lambda x: get_venue_mean_cite(x), axis=1)"
      ],
      "id": "dHCRhqNp1uo-",
      "execution_count": 40,
      "outputs": []
    },
    {
      "cell_type": "markdown",
      "metadata": {
        "id": "T40EuWlukrl9"
      },
      "source": [
        "### Average h-index of all authors of the paper"
      ],
      "id": "T40EuWlukrl9"
    },
    {
      "cell_type": "code",
      "metadata": {
        "id": "PGslrzAIv3HS"
      },
      "source": [
        "from typing import List"
      ],
      "id": "PGslrzAIv3HS",
      "execution_count": 41,
      "outputs": []
    },
    {
      "cell_type": "code",
      "metadata": {
        "colab": {
          "base_uri": "https://localhost:8080/"
        },
        "id": "FFqoG1aWku4l",
        "outputId": "4832e2ae-b991-4e04-e808-166ff6b3a239"
      },
      "source": [
        "%%time\n",
        "\n",
        "\n",
        "def get_hindices(authors: List) -> List:\n",
        "    hindices = []\n",
        "    for id in authors:\n",
        "        if id in a_cite_count:\n",
        "            citations = list(a_cite_count[id].values())\n",
        "            h_index = hindex(citations)\n",
        "        else:\n",
        "            h_index = 0\n",
        "        \n",
        "        hindices.append(h_index)\n",
        "    return hindices\n",
        "\n",
        "def a_cite_avg(authors: List) -> float:\n",
        "    hindices = get_hindices(authors)\n",
        "\n",
        "    return sum(hindices) / len(hindices) if len(hindices) != 0 else 0\n",
        "\n",
        "corpus['avg_hindices'] = corpus.authors.apply(lambda x: a_cite_avg(x))"
      ],
      "id": "FFqoG1aWku4l",
      "execution_count": 42,
      "outputs": [
        {
          "output_type": "stream",
          "text": [
            "CPU times: user 20.3 s, sys: 72.7 ms, total: 20.4 s\n",
            "Wall time: 20.4 s\n"
          ],
          "name": "stdout"
        }
      ]
    },
    {
      "cell_type": "markdown",
      "metadata": {
        "id": "RxxHpqZslYhC"
      },
      "source": [
        "### Sum of h-indices of all authors"
      ],
      "id": "RxxHpqZslYhC"
    },
    {
      "cell_type": "code",
      "metadata": {
        "id": "NKZHvIQDlcjx"
      },
      "source": [
        "def a_cite_avg(authors: List) -> float:\n",
        "    hindices = get_hindices(authors)\n",
        "\n",
        "    return sum(hindices)\n",
        "\n",
        "corpus['sum_hindices'] = corpus.authors.apply(lambda x: a_cite_avg(x))"
      ],
      "id": "NKZHvIQDlcjx",
      "execution_count": 43,
      "outputs": []
    },
    {
      "cell_type": "markdown",
      "metadata": {
        "id": "__oFDPLYluOk"
      },
      "source": [
        "### Ratio between max h index and number of papers for primary author\n"
      ],
      "id": "__oFDPLYluOk"
    },
    {
      "cell_type": "code",
      "metadata": {
        "colab": {
          "base_uri": "https://localhost:8080/"
        },
        "id": "S5H80EgOlu1m",
        "outputId": "194036cf-b00e-4fec-835e-d2e1d65395c7"
      },
      "source": [
        "%%time\n",
        "\n",
        "\n",
        "def ratio_hindex_paper_count(authors: List) -> float:\n",
        "    if len(authors) == 0:\n",
        "        return 0\n",
        "\n",
        "    hindices = get_hindices(authors)\n",
        "    id = authors[np.argmax(hindices)]\n",
        "    hindex = np.max(hindices)\n",
        "    \n",
        "    if id in a_cite_count:\n",
        "        try:\n",
        "            paper_count = len(a_cite_count[id].keys()) \n",
        "            return hindex / paper_count\n",
        "        except:\n",
        "            pass\n",
        "\n",
        "    return 0\n",
        "\n",
        "\n",
        "corpus['ratio_hindex_paper_count'] = corpus.authors.apply(lambda x: ratio_hindex_paper_count(x))"
      ],
      "id": "S5H80EgOlu1m",
      "execution_count": 44,
      "outputs": [
        {
          "output_type": "stream",
          "text": [
            "CPU times: user 37.2 s, sys: 378 ms, total: 37.6 s\n",
            "Wall time: 37.2 s\n"
          ],
          "name": "stdout"
        }
      ]
    },
    {
      "cell_type": "markdown",
      "metadata": {
        "id": "GCjLuKWJm9q1"
      },
      "source": [
        "### Average number of citaitons over different topics"
      ],
      "id": "GCjLuKWJm9q1"
    },
    {
      "cell_type": "markdown",
      "metadata": {
        "id": "jeAzWMm61RNi"
      },
      "source": [
        "Keep only first field of study"
      ],
      "id": "jeAzWMm61RNi"
    },
    {
      "cell_type": "code",
      "metadata": {
        "id": "pfY7MdGd1FpK"
      },
      "source": [
        "corpus['fieldsOfStudy'] = corpus['fieldsOfStudy'].apply(lambda x: x[0] if len(x) != 0 else np.nan)"
      ],
      "id": "pfY7MdGd1FpK",
      "execution_count": 45,
      "outputs": []
    },
    {
      "cell_type": "code",
      "metadata": {
        "id": "0VJ_N1QTm-KR"
      },
      "source": [
        "groups = corpus.groupby('fieldsOfStudy')\n",
        "topic_mean_cite = groups['citations_n'].apply(lambda x: x.mean())\n",
        "\n",
        "def get_topic_mean_cite(paper: pd.Series):\n",
        "    if paper['fieldsOfStudy'] is np.nan:\n",
        "        return 0\n",
        "    else:\n",
        "        return topic_mean_cite[paper['fieldsOfStudy']]\n",
        "\n",
        "\n",
        "corpus['topic_mean_cite'] = corpus.apply(lambda x: get_topic_mean_cite(x), axis=1)"
      ],
      "id": "0VJ_N1QTm-KR",
      "execution_count": 46,
      "outputs": []
    },
    {
      "cell_type": "markdown",
      "metadata": {
        "id": "cBA8kgz310Pr"
      },
      "source": [
        "### Number papers the primary author wrote"
      ],
      "id": "cBA8kgz310Pr"
    },
    {
      "cell_type": "code",
      "metadata": {
        "id": "6J9upUJm1we9"
      },
      "source": [
        "from collections import Counter\n",
        "\n",
        "def prim_author_paper_count(authors):\n",
        "    if len(authors) == 0:\n",
        "        return 0\n",
        "\n",
        "    hindices = get_hindices(authors)\n",
        "    id = authors[np.argmax(hindices)]\n",
        "    hindex = np.max(hindices)\n",
        "    \n",
        "    if id in a_cite_count:\n",
        "        try:\n",
        "            paper_count = len(a_cite_count[id].keys()) \n",
        "            return paper_count\n",
        "        except:\n",
        "            pass\n",
        "\n",
        "    return 0\n",
        "\n",
        "\n",
        "corpus['prim_author_paper_count'] = corpus.authors.apply(lambda x: prim_author_paper_count(x))"
      ],
      "id": "6J9upUJm1we9",
      "execution_count": 47,
      "outputs": []
    },
    {
      "cell_type": "markdown",
      "metadata": {
        "id": "vQZiAkJp6gUW"
      },
      "source": [
        "### Drop redundant columns"
      ],
      "id": "vQZiAkJp6gUW"
    },
    {
      "cell_type": "code",
      "metadata": {
        "id": "Kyisyt5P6f3X"
      },
      "source": [
        "corpus.drop(columns=['title', 'paperAbstract', 'authors', 'inCitations', 'outCitations', 'sources', 'journalVolume', 'journalPages'], inplace=True)"
      ],
      "id": "Kyisyt5P6f3X",
      "execution_count": 48,
      "outputs": []
    },
    {
      "cell_type": "markdown",
      "metadata": {
        "id": "6d95f29d-6194-4d4d-9d3e-4446f722d76a"
      },
      "source": [
        "## Visual Analysis"
      ],
      "id": "6d95f29d-6194-4d4d-9d3e-4446f722d76a"
    },
    {
      "cell_type": "markdown",
      "metadata": {
        "id": "OjJWlo7-tU0y"
      },
      "source": [
        "Clearly, citations number is a heavy tail distribution. \n",
        "\n",
        "This type of distribution is hard to predict."
      ],
      "id": "OjJWlo7-tU0y"
    },
    {
      "cell_type": "code",
      "metadata": {
        "id": "xhekBJNb242E",
        "colab": {
          "base_uri": "https://localhost:8080/",
          "height": 295
        },
        "outputId": "7554c995-f9bf-480c-e8c5-17b8e74012d2"
      },
      "source": [
        "plt.title('Number of citations over number of papers')\n",
        "plt.ylabel('Number of papers')\n",
        "plt.xlabel('Number of citations')\n",
        "plt.hist(p_cite_count.values(), range=(1, 16));"
      ],
      "id": "xhekBJNb242E",
      "execution_count": 49,
      "outputs": [
        {
          "output_type": "display_data",
          "data": {
            "image/png": "[encoded data removed]",
            "text/plain": [
              "<Figure size 432x288 with 1 Axes>"
            ]
          },
          "metadata": {
            "tags": [],
            "needs_background": "light"
          }
        }
      ]
    },
    {
      "cell_type": "code",
      "metadata": {
        "id": "LEqE0Z--22YL",
        "colab": {
          "base_uri": "https://localhost:8080/",
          "height": 295
        },
        "outputId": "6d78e300-4fc9-4c38-930b-24a3f3b20bfa"
      },
      "source": [
        "plt.title('Number of citations(starting from 1) over number of papers')\n",
        "plt.ylabel('Number of papers')\n",
        "plt.xlabel('Number of citations')\n",
        "plt.hist(p_cite_count.values(), range=(2, 16));"
      ],
      "id": "LEqE0Z--22YL",
      "execution_count": 50,
      "outputs": [
        {
          "output_type": "display_data",
          "data": {
            "image/png": "[encoded data removed]",
            "text/plain": [
              "<Figure size 432x288 with 1 Axes>"
            ]
          },
          "metadata": {
            "tags": [],
            "needs_background": "light"
          }
        }
      ]
    },
    {
      "cell_type": "markdown",
      "metadata": {
        "id": "tz45jMSv6_fb"
      },
      "source": [
        "Let us see what topic is dominant among our publications"
      ],
      "id": "tz45jMSv6_fb"
    },
    {
      "cell_type": "code",
      "metadata": {
        "id": "d4344cde-7884-40c3-8f97-1d212c63830e"
      },
      "source": [
        "# recent publications\n",
        "recent_group_sizes = corpus[corpus.recency < 5].groupby('fieldsOfStudy').size()"
      ],
      "id": "d4344cde-7884-40c3-8f97-1d212c63830e",
      "execution_count": 51,
      "outputs": []
    },
    {
      "cell_type": "code",
      "metadata": {
        "id": "c4c55bcf-aeb4-4897-9f90-8d11114bc3ea",
        "colab": {
          "base_uri": "https://localhost:8080/",
          "height": 400
        },
        "outputId": "8b92f0e7-ddd8-4005-e49a-bae1dac19aa0"
      },
      "source": [
        "plt.bar(range(len(recent_group_sizes.index)), recent_group_sizes)\n",
        "plt.title('Histogram of fields of studies')\n",
        "plt.ylabel('Number of occurences')\n",
        "plt.xlabel('Field of study')\n",
        "plt.xticks(range(len(recent_group_sizes.index)), recent_group_sizes.index, rotation=90);"
      ],
      "id": "c4c55bcf-aeb4-4897-9f90-8d11114bc3ea",
      "execution_count": 52,
      "outputs": [
        {
          "output_type": "display_data",
          "data": {
            "image/png": "[encoded data removed]",
            "text/plain": [
              "<Figure size 432x288 with 1 Axes>"
            ]
          },
          "metadata": {
            "tags": [],
            "needs_background": "light"
          }
        }
      ]
    },
    {
      "cell_type": "code",
      "metadata": {
        "id": "59503084-6eb8-481f-8090-8dbe100c59df",
        "colab": {
          "base_uri": "https://localhost:8080/",
          "height": 400
        },
        "outputId": "fe653383-5dcd-4a21-820b-23d9bc95f76e"
      },
      "source": [
        "group_sizes = corpus.groupby('fieldsOfStudy').size()\n",
        "plt.bar(range(len(group_sizes.index)), group_sizes)\n",
        "plt.title('Histogram of fields of studies')\n",
        "plt.ylabel('Number of occurences')\n",
        "plt.xlabel('Field of study')\n",
        "plt.xticks(range(len(group_sizes.index)), group_sizes.index, rotation=90);"
      ],
      "id": "59503084-6eb8-481f-8090-8dbe100c59df",
      "execution_count": 53,
      "outputs": [
        {
          "output_type": "display_data",
          "data": {
            "image/png": "[encoded data removed]",
            "text/plain": [
              "<Figure size 432x288 with 1 Axes>"
            ]
          },
          "metadata": {
            "tags": [],
            "needs_background": "light"
          }
        }
      ]
    },
    {
      "cell_type": "code",
      "metadata": {
        "id": "LDT9rljp7NqH"
      },
      "source": [
        "import seaborn as sns"
      ],
      "id": "LDT9rljp7NqH",
      "execution_count": 54,
      "outputs": []
    },
    {
      "cell_type": "markdown",
      "metadata": {
        "id": "-YaaYEvi7d66"
      },
      "source": [
        "Heatmap will help us understand which features have strong correlations"
      ],
      "id": "-YaaYEvi7d66"
    },
    {
      "cell_type": "code",
      "metadata": {
        "colab": {
          "base_uri": "https://localhost:8080/",
          "height": 672
        },
        "id": "5xOq6W9V7GtL",
        "outputId": "1fa027a5-1292-4046-9d70-9868b756405b"
      },
      "source": [
        "corr = corpus.corr()\n",
        "\n",
        "mask = np.triu(np.ones_like(corr, dtype=bool))\n",
        "\n",
        "f, ax = plt.subplots(figsize=(11, 9))\n",
        "\n",
        "cmap = sns.diverging_palette(230, 20, as_cmap=True)\n",
        "plt.title('Heatmap of features')\n",
        "sns.heatmap(corr, mask=mask, cmap=cmap, center=0,\n",
        "            square=True, linewidths=.5, cbar_kws={\"shrink\": .5});"
      ],
      "id": "5xOq6W9V7GtL",
      "execution_count": 55,
      "outputs": [
        {
          "output_type": "display_data",
          "data": {
            "image/png": "[encoded data removed]",
            "text/plain": [
              "<Figure size 792x648 with 2 Axes>"
            ]
          },
          "metadata": {
            "tags": [],
            "needs_background": "light"
          }
        }
      ]
    },
    {
      "cell_type": "markdown",
      "metadata": {
        "id": "IybZfGJq8SxH"
      },
      "source": [
        "Let us see how many papers were published each year"
      ],
      "id": "IybZfGJq8SxH"
    },
    {
      "cell_type": "code",
      "metadata": {
        "colab": {
          "base_uri": "https://localhost:8080/",
          "height": 312
        },
        "id": "HAmA27h47pUn",
        "outputId": "bd3e4afb-147c-42ba-bbc0-4dfdaad533f7"
      },
      "source": [
        "series = corpus.groupby('recency').size()\n",
        "\n",
        "plt.bar(series.index, series)\n",
        "plt.title('Number of paper vs recency')\n",
        "plt.xlabel('recency')\n",
        "plt.ylabel('number of papers')"
      ],
      "id": "HAmA27h47pUn",
      "execution_count": 58,
      "outputs": [
        {
          "output_type": "execute_result",
          "data": {
            "text/plain": [
              "Text(0, 0.5, 'number of papers')"
            ]
          },
          "metadata": {
            "tags": []
          },
          "execution_count": 58
        },
        {
          "output_type": "display_data",
          "data": {
            "image/png": "[encoded data removed]",
            "text/plain": [
              "<Figure size 432x288 with 1 Axes>"
            ]
          },
          "metadata": {
            "tags": [],
            "needs_background": "light"
          }
        }
      ]
    },
    {
      "cell_type": "markdown",
      "metadata": {
        "id": "TMqBSEio9nip"
      },
      "source": [
        "### Most common journal name"
      ],
      "id": "TMqBSEio9nip"
    },
    {
      "cell_type": "code",
      "metadata": {
        "colab": {
          "base_uri": "https://localhost:8080/",
          "height": 492
        },
        "id": "bvBV9h3V9l3b",
        "outputId": "7ba2b54a-5bc5-4667-9cfe-8892e7f83feb"
      },
      "source": [
        "series = corpus.groupby('journalName').size()\n",
        "series = series.sort_values(ascending=False).iloc[:20]\n",
        "\n",
        "plt.bar(series.index, series)\n",
        "plt.title('Number of paper vs journalName')\n",
        "plt.xlabel('journalName')\n",
        "plt.ylabel('number of papers')\n",
        "plt.xticks(rotation=90);"
      ],
      "id": "bvBV9h3V9l3b",
      "execution_count": 69,
      "outputs": [
        {
          "output_type": "display_data",
          "data": {
            "image/png": "[encoded data removed]",
            "text/plain": [
              "<Figure size 432x288 with 1 Axes>"
            ]
          },
          "metadata": {
            "tags": [],
            "needs_background": "light"
          }
        }
      ]
    },
    {
      "cell_type": "markdown",
      "metadata": {
        "id": "p6TXjyxy0Pav"
      },
      "source": [
        "## Store results\n",
        "\n",
        "We do not want to lose all our analysis results.\n",
        "\n",
        "Thus we will store the dataframe"
      ],
      "id": "p6TXjyxy0Pav"
    },
    {
      "cell_type": "code",
      "metadata": {
        "colab": {
          "base_uri": "https://localhost:8080/"
        },
        "id": "YCaxa2l8pPY0",
        "outputId": "2a508964-5dbd-4c3f-9d40-a2e78a4d02d6"
      },
      "source": [
        "# observe columns remaining and memory usage\n",
        "corpus.info()"
      ],
      "id": "YCaxa2l8pPY0",
      "execution_count": 70,
      "outputs": [
        {
          "output_type": "stream",
          "text": [
            "<class 'pandas.core.frame.DataFrame'>\n",
            "Index: 950001 entries, 33b237709dbd53953a750355115b57ccb6690da1 to e3d5bbcd80b5b5927799164a8538d62966492fe5\n",
            "Data columns (total 16 columns):\n",
            " #   Column                    Non-Null Count   Dtype  \n",
            "---  ------                    --------------   -----  \n",
            " 0   recency                   950001 non-null  float64\n",
            " 1   venue                     216833 non-null  object \n",
            " 2   journalName               462745 non-null  object \n",
            " 3   fieldsOfStudy             803021 non-null  object \n",
            " 4   max_hindex                950001 non-null  int64  \n",
            " 5   n_authors                 950001 non-null  int64  \n",
            " 6   title_len                 950001 non-null  int64  \n",
            " 7   abstract_len              950001 non-null  int64  \n",
            " 8   citations_n               950001 non-null  int64  \n",
            " 9   venue_hindex              950001 non-null  int64  \n",
            " 10  venue_mean_cite           950001 non-null  float64\n",
            " 11  avg_hindices              950001 non-null  float64\n",
            " 12  sum_hindices              950001 non-null  int64  \n",
            " 13  ratio_hindex_paper_count  950001 non-null  float64\n",
            " 14  topic_mean_cite           950001 non-null  float64\n",
            " 15  prim_author_paper_count   950001 non-null  int64  \n",
            "dtypes: float64(5), int64(8), object(3)\n",
            "memory usage: 163.2+ MB\n"
          ],
          "name": "stdout"
        }
      ]
    },
    {
      "cell_type": "code",
      "metadata": {
        "id": "42VjhxUApUB8"
      },
      "source": [
        "# generate a csv file from the dataframe\n",
        "corpus.to_csv('corpus.csv')"
      ],
      "id": "42VjhxUApUB8",
      "execution_count": 71,
      "outputs": []
    },
    {
      "cell_type": "code",
      "metadata": {
        "id": "2dvk8_K0zm65"
      },
      "source": [
        "# store all environment packages\n",
        "!pip freeze > requirements.txt"
      ],
      "id": "2dvk8_K0zm65",
      "execution_count": 72,
      "outputs": []
    },
    {
      "cell_type": "markdown",
      "metadata": {
        "id": "Svei8pHpqCdb"
      },
      "source": [
        "Now, let's move data to the google drive"
      ],
      "id": "Svei8pHpqCdb"
    },
    {
      "cell_type": "code",
      "metadata": {
        "colab": {
          "base_uri": "https://localhost:8080/"
        },
        "id": "KLi2CIe7py2g",
        "outputId": "2fb3687a-89e7-491a-8f53-7e11372f7e8f"
      },
      "source": [
        "from google.colab import drive\n",
        "drive.mount('/content/drive')"
      ],
      "id": "KLi2CIe7py2g",
      "execution_count": 1,
      "outputs": [
        {
          "output_type": "stream",
          "text": [
            "Mounted at /content/drive\n"
          ],
          "name": "stdout"
        }
      ]
    },
    {
      "cell_type": "code",
      "metadata": {
        "colab": {
          "base_uri": "https://localhost:8080/"
        },
        "id": "PX6AwnpAp7Fo",
        "outputId": "d37dfc61-3851-4c4e-938b-82d248179963"
      },
      "source": [
        "ls drive/MyDrive/project_sber"
      ],
      "id": "PX6AwnpAp7Fo",
      "execution_count": 74,
      "outputs": [
        {
          "output_type": "stream",
          "text": [
            "author_citation_info.pickle  corpus.csv   dataretr.py  info.py\n",
            "citation_info.pickle         dataprep.py  features.py  requirements.txt\n"
          ],
          "name": "stdout"
        }
      ]
    },
    {
      "cell_type": "code",
      "metadata": {
        "id": "EtPi-l9KqJav"
      },
      "source": [
        "cp requirements.txt corpus.csv dataprep.py dataretr.py info.py drive/MyDrive/project_sber/"
      ],
      "id": "EtPi-l9KqJav",
      "execution_count": 75,
      "outputs": []
    },
    {
      "cell_type": "code",
      "metadata": {
        "colab": {
          "base_uri": "https://localhost:8080/"
        },
        "id": "JNI3ikROqV_Z",
        "outputId": "d14c5418-9236-455c-eae0-6ebbc428d175"
      },
      "source": [
        "ls drive/MyDrive/project_sber"
      ],
      "id": "JNI3ikROqV_Z",
      "execution_count": 76,
      "outputs": [
        {
          "output_type": "stream",
          "text": [
            "author_citation_info.pickle  corpus.csv   dataretr.py  info.py\n",
            "citation_info.pickle         dataprep.py  features.py  requirements.txt\n"
          ],
          "name": "stdout"
        }
      ]
    }
  ]
}